{
 "cells": [
  {
   "cell_type": "markdown",
   "metadata": {},
   "source": [
    "#  Loan Defaulter Prediction \n",
    "\n",
    "## Using ordinal and nominal values\n",
    "\n",
    "## Supervised Learning Hands-on session"
   ]
  },
  {
   "cell_type": "markdown",
   "metadata": {},
   "source": [
    "# Loading Dataset using pandas"
   ]
  },
  {
   "cell_type": "code",
   "execution_count": 1,
   "metadata": {},
   "outputs": [],
   "source": [
    "#for handling dataset\n",
    "import numpy as np\n",
    "\n",
    "#additional array-based functionality\n",
    "import pandas as pd\n",
    "\n",
    "#visualization packages\n",
    "import matplotlib.pyplot as plt\n",
    "\n",
    "#machine learning functions\n",
    "from sklearn.model_selection import train_test_split\n",
    "from sklearn import metrics\n",
    "from sklearn.naive_bayes import CategoricalNB\n",
    "from sklearn.model_selection import StratifiedShuffleSplit\n"
   ]
  },
  {
   "cell_type": "code",
   "execution_count": 2,
   "metadata": {},
   "outputs": [
    {
     "name": "stdout",
     "output_type": "stream",
     "text": [
      "Dataset loaded in memory...\n"
     ]
    }
   ],
   "source": [
    "#Load the dataset into memory from secondary memory to primary memory\n",
    "data = pd.read_csv(\"LoanStats Dataset_30052021.csv\", encoding=\"Latin-1\", low_memory=False)\n",
    "print(\"Dataset loaded in memory...\")\n",
    "\n",
    "#set the maximum column display limit to 50\n",
    "pd.set_option('display.max_columns', 50)"
   ]
  },
  {
   "cell_type": "code",
   "execution_count": 3,
   "metadata": {},
   "outputs": [
    {
     "data": {
      "text/plain": [
       "(36396, 41)"
      ]
     },
     "execution_count": 3,
     "metadata": {},
     "output_type": "execute_result"
    }
   ],
   "source": [
    "data.shape"
   ]
  },
  {
   "cell_type": "markdown",
   "metadata": {},
   "source": [
    "# Row display operations"
   ]
  },
  {
   "cell_type": "code",
   "execution_count": 4,
   "metadata": {
    "scrolled": true
   },
   "outputs": [
    {
     "name": "stdout",
     "output_type": "stream",
     "text": [
      "Details of 0th profile from the dataset :\n",
      "\n",
      "Attributes\n",
      "\n",
      "Loan ID                                                                                87023\n",
      "Amount Requested                                                                        7500\n",
      "Amount Funded By Investors                                                              7500\n",
      "Interest Rate                                                                         13.75%\n",
      "Loan Length                                                                        36 months\n",
      "Application Date                                                                  2007-06-07\n",
      "Application Expiration Date                                                       2007-06-21\n",
      "Issued Date                                                                       2007-06-27\n",
      "CREDIT Grade                                                                              E2\n",
      "Loan Title                                                                Consolidation Loan\n",
      "Loan Purpose                                                              debt_consolidation\n",
      "Loan Description                           I plan to consolidate over $7,000 of debt: a c...\n",
      "Monthly PAYMENT                                                                       255.43\n",
      "Status                                                                            Fully Paid\n",
      "Total Amount Funded                                                                     7500\n",
      "Debt-To-Income Ratio                                                                  14.29%\n",
      "Remaining Principal Funded by Investors                                                    0\n",
      "Payments To Date (Funded by investors)                                               9194.98\n",
      "Remaining Principal                                                                        0\n",
      " Payments To Date                                                                    9194.98\n",
      "Screen Name                                                                        Kingtrite\n",
      "City                                                                               Attleboro\n",
      "State                                                                                     MA\n",
      "Home Ownership                                                                           OWN\n",
      "Monthly Income                                                                       1833.33\n",
      "FICO Range                                                                           660-678\n",
      "Earliest CREDIT Line                                                              2003-10-27\n",
      "Open CREDIT Lines                                                                          7\n",
      "Total CREDIT Lines                                                                         8\n",
      "Revolving CREDIT Balance                                                                4175\n",
      "Revolving Line Utilization                                                             51.5%\n",
      "Inquiries in the Last 6 Months                                                             0\n",
      "Accounts Now Delinquent                                                                    0\n",
      "Delinquent Amount                                                                          0\n",
      "Delinquencies (Last 2 yrs)                                                                 1\n",
      "Months Since Last Delinquency                                                             11\n",
      "Public Records On File                                                                     0\n",
      "Months Since Last Record                                                                   0\n",
      "Education                                                                                NaN\n",
      "Employment Length                                                                   < 1 year\n",
      "Code                                                                                     NaN\n",
      "Name: 0, dtype: object\n"
     ]
    }
   ],
   "source": [
    "#displaying profiles of any given index\n",
    "i=0\n",
    "print(\"Details of \"+str(i)+\"th profile from the dataset :\\n\\nAttributes\\n\")\n",
    "print(data.iloc[i])"
   ]
  },
  {
   "cell_type": "code",
   "execution_count": 5,
   "metadata": {},
   "outputs": [
    {
     "name": "stdout",
     "output_type": "stream",
     "text": [
      "Display the starting 5 profiles from the dataset :\n"
     ]
    },
    {
     "data": {
      "text/html": [
       "<div>\n",
       "<style scoped>\n",
       "    .dataframe tbody tr th:only-of-type {\n",
       "        vertical-align: middle;\n",
       "    }\n",
       "\n",
       "    .dataframe tbody tr th {\n",
       "        vertical-align: top;\n",
       "    }\n",
       "\n",
       "    .dataframe thead th {\n",
       "        text-align: right;\n",
       "    }\n",
       "</style>\n",
       "<table border=\"1\" class=\"dataframe\">\n",
       "  <thead>\n",
       "    <tr style=\"text-align: right;\">\n",
       "      <th></th>\n",
       "      <th>Loan ID</th>\n",
       "      <th>Amount Requested</th>\n",
       "      <th>Amount Funded By Investors</th>\n",
       "      <th>Interest Rate</th>\n",
       "      <th>Loan Length</th>\n",
       "      <th>Application Date</th>\n",
       "      <th>Application Expiration Date</th>\n",
       "      <th>Issued Date</th>\n",
       "      <th>CREDIT Grade</th>\n",
       "      <th>Loan Title</th>\n",
       "      <th>Loan Purpose</th>\n",
       "      <th>Loan Description</th>\n",
       "      <th>Monthly PAYMENT</th>\n",
       "      <th>Status</th>\n",
       "      <th>Total Amount Funded</th>\n",
       "      <th>Debt-To-Income Ratio</th>\n",
       "      <th>Remaining Principal Funded by Investors</th>\n",
       "      <th>Payments To Date (Funded by investors)</th>\n",
       "      <th>Remaining Principal</th>\n",
       "      <th>Payments To Date</th>\n",
       "      <th>Screen Name</th>\n",
       "      <th>City</th>\n",
       "      <th>State</th>\n",
       "      <th>Home Ownership</th>\n",
       "      <th>Monthly Income</th>\n",
       "      <th>FICO Range</th>\n",
       "      <th>Earliest CREDIT Line</th>\n",
       "      <th>Open CREDIT Lines</th>\n",
       "      <th>Total CREDIT Lines</th>\n",
       "      <th>Revolving CREDIT Balance</th>\n",
       "      <th>Revolving Line Utilization</th>\n",
       "      <th>Inquiries in the Last 6 Months</th>\n",
       "      <th>Accounts Now Delinquent</th>\n",
       "      <th>Delinquent Amount</th>\n",
       "      <th>Delinquencies (Last 2 yrs)</th>\n",
       "      <th>Months Since Last Delinquency</th>\n",
       "      <th>Public Records On File</th>\n",
       "      <th>Months Since Last Record</th>\n",
       "      <th>Education</th>\n",
       "      <th>Employment Length</th>\n",
       "      <th>Code</th>\n",
       "    </tr>\n",
       "  </thead>\n",
       "  <tbody>\n",
       "    <tr>\n",
       "      <th>0</th>\n",
       "      <td>87023</td>\n",
       "      <td>7500.0</td>\n",
       "      <td>7500.0</td>\n",
       "      <td>13.75%</td>\n",
       "      <td>36 months</td>\n",
       "      <td>2007-06-07</td>\n",
       "      <td>2007-06-21</td>\n",
       "      <td>2007-06-27</td>\n",
       "      <td>E2</td>\n",
       "      <td>Consolidation Loan</td>\n",
       "      <td>debt_consolidation</td>\n",
       "      <td>I plan to consolidate over $7,000 of debt: a c...</td>\n",
       "      <td>255.43</td>\n",
       "      <td>Fully Paid</td>\n",
       "      <td>7500.0</td>\n",
       "      <td>14.29%</td>\n",
       "      <td>0.0</td>\n",
       "      <td>9194.98</td>\n",
       "      <td>0.0</td>\n",
       "      <td>9194.98</td>\n",
       "      <td>Kingtrite</td>\n",
       "      <td>Attleboro</td>\n",
       "      <td>MA</td>\n",
       "      <td>OWN</td>\n",
       "      <td>1833.33</td>\n",
       "      <td>660-678</td>\n",
       "      <td>2003-10-27</td>\n",
       "      <td>7.0</td>\n",
       "      <td>8.0</td>\n",
       "      <td>4175.0</td>\n",
       "      <td>51.5%</td>\n",
       "      <td>0.0</td>\n",
       "      <td>0.0</td>\n",
       "      <td>0.0</td>\n",
       "      <td>1.0</td>\n",
       "      <td>11.0</td>\n",
       "      <td>0.0</td>\n",
       "      <td>0.0</td>\n",
       "      <td>NaN</td>\n",
       "      <td>&lt; 1 year</td>\n",
       "      <td>NaN</td>\n",
       "    </tr>\n",
       "    <tr>\n",
       "      <th>1</th>\n",
       "      <td>90376</td>\n",
       "      <td>5000.0</td>\n",
       "      <td>5000.0</td>\n",
       "      <td>7.43%</td>\n",
       "      <td>36 months</td>\n",
       "      <td>2007-06-12</td>\n",
       "      <td>2007-06-26</td>\n",
       "      <td>2007-07-02</td>\n",
       "      <td>A2</td>\n",
       "      <td>JAL Loan</td>\n",
       "      <td>other</td>\n",
       "      <td>NaN</td>\n",
       "      <td>155.38</td>\n",
       "      <td>Fully Paid</td>\n",
       "      <td>5000.0</td>\n",
       "      <td>3.72%</td>\n",
       "      <td>0.0</td>\n",
       "      <td>5174.16</td>\n",
       "      <td>0.0</td>\n",
       "      <td>5174.16</td>\n",
       "      <td>Laguna</td>\n",
       "      <td>Rockville</td>\n",
       "      <td>MD</td>\n",
       "      <td>MORTGAGE</td>\n",
       "      <td>16666.67</td>\n",
       "      <td>780+</td>\n",
       "      <td>1988-11-19</td>\n",
       "      <td>17.0</td>\n",
       "      <td>26.0</td>\n",
       "      <td>85607.0</td>\n",
       "      <td>0.7%</td>\n",
       "      <td>0.0</td>\n",
       "      <td>0.0</td>\n",
       "      <td>0.0</td>\n",
       "      <td>0.0</td>\n",
       "      <td>0.0</td>\n",
       "      <td>0.0</td>\n",
       "      <td>0.0</td>\n",
       "      <td>NaN</td>\n",
       "      <td>&lt; 1 year</td>\n",
       "      <td>NaN</td>\n",
       "    </tr>\n",
       "    <tr>\n",
       "      <th>2</th>\n",
       "      <td>90395</td>\n",
       "      <td>5000.0</td>\n",
       "      <td>5000.0</td>\n",
       "      <td>8.07%</td>\n",
       "      <td>36 months</td>\n",
       "      <td>2007-06-12</td>\n",
       "      <td>2007-06-26</td>\n",
       "      <td>2007-07-02</td>\n",
       "      <td>A4</td>\n",
       "      <td>MBA Loan Consolidation</td>\n",
       "      <td>debt_consolidation</td>\n",
       "      <td>NaN</td>\n",
       "      <td>156.84</td>\n",
       "      <td>Fully Paid</td>\n",
       "      <td>5000.0</td>\n",
       "      <td>2.3%</td>\n",
       "      <td>0.0</td>\n",
       "      <td>5272.08</td>\n",
       "      <td>0.0</td>\n",
       "      <td>5272.08</td>\n",
       "      <td>MGDesousa</td>\n",
       "      <td>Framingham</td>\n",
       "      <td>MA</td>\n",
       "      <td>MORTGAGE</td>\n",
       "      <td>8333.33</td>\n",
       "      <td>714-749</td>\n",
       "      <td>1998-10-28</td>\n",
       "      <td>11.0</td>\n",
       "      <td>20.0</td>\n",
       "      <td>9698.0</td>\n",
       "      <td>19.4%</td>\n",
       "      <td>0.0</td>\n",
       "      <td>0.0</td>\n",
       "      <td>0.0</td>\n",
       "      <td>0.0</td>\n",
       "      <td>0.0</td>\n",
       "      <td>0.0</td>\n",
       "      <td>0.0</td>\n",
       "      <td>NaN</td>\n",
       "      <td>&lt; 1 year</td>\n",
       "      <td>NaN</td>\n",
       "    </tr>\n",
       "    <tr>\n",
       "      <th>3</th>\n",
       "      <td>90665</td>\n",
       "      <td>8500.0</td>\n",
       "      <td>8500.0</td>\n",
       "      <td>10.28%</td>\n",
       "      <td>36 months</td>\n",
       "      <td>2007-06-13</td>\n",
       "      <td>2007-06-27</td>\n",
       "      <td>2007-07-03</td>\n",
       "      <td>C1</td>\n",
       "      <td>Retiring credit card debt</td>\n",
       "      <td>credit_card</td>\n",
       "      <td>The rate of interest and fees incurred by carr...</td>\n",
       "      <td>275.38</td>\n",
       "      <td>Fully Paid</td>\n",
       "      <td>8500.0</td>\n",
       "      <td>6.4%</td>\n",
       "      <td>0.0</td>\n",
       "      <td>9912.49</td>\n",
       "      <td>0.0</td>\n",
       "      <td>9912.49</td>\n",
       "      <td>Radiothermal</td>\n",
       "      <td>Greensboro</td>\n",
       "      <td>NC</td>\n",
       "      <td>RENT</td>\n",
       "      <td>1500.00</td>\n",
       "      <td>679-713</td>\n",
       "      <td>1986-12-30</td>\n",
       "      <td>6.0</td>\n",
       "      <td>9.0</td>\n",
       "      <td>8847.0</td>\n",
       "      <td>26.9%</td>\n",
       "      <td>1.0</td>\n",
       "      <td>0.0</td>\n",
       "      <td>0.0</td>\n",
       "      <td>1.0</td>\n",
       "      <td>5.0</td>\n",
       "      <td>0.0</td>\n",
       "      <td>0.0</td>\n",
       "      <td>NaN</td>\n",
       "      <td>3 years</td>\n",
       "      <td>NaN</td>\n",
       "    </tr>\n",
       "    <tr>\n",
       "      <th>4</th>\n",
       "      <td>92187</td>\n",
       "      <td>2500.0</td>\n",
       "      <td>2500.0</td>\n",
       "      <td>8.07%</td>\n",
       "      <td>36 months</td>\n",
       "      <td>2007-06-15</td>\n",
       "      <td>2007-06-29</td>\n",
       "      <td>2007-07-05</td>\n",
       "      <td>A4</td>\n",
       "      <td>Home Improvement</td>\n",
       "      <td>home_improvement</td>\n",
       "      <td>Our current gutter system on our home is old a...</td>\n",
       "      <td>78.42</td>\n",
       "      <td>Fully Paid</td>\n",
       "      <td>2500.0</td>\n",
       "      <td>11.33%</td>\n",
       "      <td>0.0</td>\n",
       "      <td>2822.72</td>\n",
       "      <td>0.0</td>\n",
       "      <td>2822.72</td>\n",
       "      <td>PMJ7671</td>\n",
       "      <td>Lakewood</td>\n",
       "      <td>CO</td>\n",
       "      <td>MORTGAGE</td>\n",
       "      <td>9166.67</td>\n",
       "      <td>750-779</td>\n",
       "      <td>1990-11-11</td>\n",
       "      <td>13.0</td>\n",
       "      <td>40.0</td>\n",
       "      <td>7274.0</td>\n",
       "      <td>13.1%</td>\n",
       "      <td>0.0</td>\n",
       "      <td>0.0</td>\n",
       "      <td>0.0</td>\n",
       "      <td>0.0</td>\n",
       "      <td>0.0</td>\n",
       "      <td>0.0</td>\n",
       "      <td>0.0</td>\n",
       "      <td>NaN</td>\n",
       "      <td>4 years</td>\n",
       "      <td>NaN</td>\n",
       "    </tr>\n",
       "  </tbody>\n",
       "</table>\n",
       "</div>"
      ],
      "text/plain": [
       "  Loan ID  Amount Requested  Amount Funded By Investors Interest Rate  \\\n",
       "0   87023            7500.0                      7500.0        13.75%   \n",
       "1   90376            5000.0                      5000.0         7.43%   \n",
       "2   90395            5000.0                      5000.0         8.07%   \n",
       "3   90665            8500.0                      8500.0        10.28%   \n",
       "4   92187            2500.0                      2500.0         8.07%   \n",
       "\n",
       "  Loan Length Application Date Application Expiration Date Issued Date  \\\n",
       "0   36 months       2007-06-07                  2007-06-21  2007-06-27   \n",
       "1   36 months       2007-06-12                  2007-06-26  2007-07-02   \n",
       "2   36 months       2007-06-12                  2007-06-26  2007-07-02   \n",
       "3   36 months       2007-06-13                  2007-06-27  2007-07-03   \n",
       "4   36 months       2007-06-15                  2007-06-29  2007-07-05   \n",
       "\n",
       "  CREDIT Grade                 Loan Title        Loan Purpose  \\\n",
       "0           E2         Consolidation Loan  debt_consolidation   \n",
       "1           A2                   JAL Loan               other   \n",
       "2           A4     MBA Loan Consolidation  debt_consolidation   \n",
       "3           C1  Retiring credit card debt         credit_card   \n",
       "4           A4           Home Improvement    home_improvement   \n",
       "\n",
       "                                    Loan Description  Monthly PAYMENT  \\\n",
       "0  I plan to consolidate over $7,000 of debt: a c...           255.43   \n",
       "1                                                NaN           155.38   \n",
       "2                                                NaN           156.84   \n",
       "3  The rate of interest and fees incurred by carr...           275.38   \n",
       "4  Our current gutter system on our home is old a...            78.42   \n",
       "\n",
       "       Status  Total Amount Funded Debt-To-Income Ratio  \\\n",
       "0  Fully Paid               7500.0               14.29%   \n",
       "1  Fully Paid               5000.0                3.72%   \n",
       "2  Fully Paid               5000.0                 2.3%   \n",
       "3  Fully Paid               8500.0                 6.4%   \n",
       "4  Fully Paid               2500.0               11.33%   \n",
       "\n",
       "   Remaining Principal Funded by Investors  \\\n",
       "0                                      0.0   \n",
       "1                                      0.0   \n",
       "2                                      0.0   \n",
       "3                                      0.0   \n",
       "4                                      0.0   \n",
       "\n",
       "   Payments To Date (Funded by investors)  Remaining Principal   \\\n",
       "0                                 9194.98                   0.0   \n",
       "1                                 5174.16                   0.0   \n",
       "2                                 5272.08                   0.0   \n",
       "3                                 9912.49                   0.0   \n",
       "4                                 2822.72                   0.0   \n",
       "\n",
       "    Payments To Date   Screen Name        City State Home Ownership  \\\n",
       "0            9194.98     Kingtrite   Attleboro    MA            OWN   \n",
       "1            5174.16        Laguna   Rockville    MD       MORTGAGE   \n",
       "2            5272.08     MGDesousa  Framingham    MA       MORTGAGE   \n",
       "3            9912.49  Radiothermal  Greensboro    NC           RENT   \n",
       "4            2822.72       PMJ7671    Lakewood    CO       MORTGAGE   \n",
       "\n",
       "   Monthly Income FICO Range Earliest CREDIT Line  Open CREDIT Lines  \\\n",
       "0         1833.33    660-678           2003-10-27                7.0   \n",
       "1        16666.67       780+           1988-11-19               17.0   \n",
       "2         8333.33    714-749           1998-10-28               11.0   \n",
       "3         1500.00    679-713           1986-12-30                6.0   \n",
       "4         9166.67    750-779           1990-11-11               13.0   \n",
       "\n",
       "   Total CREDIT Lines  Revolving CREDIT Balance Revolving Line Utilization  \\\n",
       "0                 8.0                    4175.0                      51.5%   \n",
       "1                26.0                   85607.0                       0.7%   \n",
       "2                20.0                    9698.0                      19.4%   \n",
       "3                 9.0                    8847.0                      26.9%   \n",
       "4                40.0                    7274.0                      13.1%   \n",
       "\n",
       "   Inquiries in the Last 6 Months  Accounts Now Delinquent  Delinquent Amount  \\\n",
       "0                             0.0                      0.0                0.0   \n",
       "1                             0.0                      0.0                0.0   \n",
       "2                             0.0                      0.0                0.0   \n",
       "3                             1.0                      0.0                0.0   \n",
       "4                             0.0                      0.0                0.0   \n",
       "\n",
       "   Delinquencies (Last 2 yrs)  Months Since Last Delinquency  \\\n",
       "0                         1.0                           11.0   \n",
       "1                         0.0                            0.0   \n",
       "2                         0.0                            0.0   \n",
       "3                         1.0                            5.0   \n",
       "4                         0.0                            0.0   \n",
       "\n",
       "   Public Records On File  Months Since Last Record Education  \\\n",
       "0                     0.0                       0.0       NaN   \n",
       "1                     0.0                       0.0       NaN   \n",
       "2                     0.0                       0.0       NaN   \n",
       "3                     0.0                       0.0       NaN   \n",
       "4                     0.0                       0.0       NaN   \n",
       "\n",
       "  Employment Length  Code  \n",
       "0          < 1 year   NaN  \n",
       "1          < 1 year   NaN  \n",
       "2          < 1 year   NaN  \n",
       "3           3 years   NaN  \n",
       "4           4 years   NaN  "
      ]
     },
     "execution_count": 5,
     "metadata": {},
     "output_type": "execute_result"
    }
   ],
   "source": [
    "#display first 5 records \n",
    "\n",
    "print(\"Display the starting 5 profiles from the dataset :\")\n",
    "data.head()"
   ]
  },
  {
   "cell_type": "markdown",
   "metadata": {},
   "source": [
    "# Illustrating Filter on the data"
   ]
  },
  {
   "cell_type": "code",
   "execution_count": 6,
   "metadata": {
    "scrolled": true
   },
   "outputs": [
    {
     "name": "stdout",
     "output_type": "stream",
     "text": [
      "Selecting particular rows from the dataset : \n"
     ]
    },
    {
     "data": {
      "text/html": [
       "<div>\n",
       "<style scoped>\n",
       "    .dataframe tbody tr th:only-of-type {\n",
       "        vertical-align: middle;\n",
       "    }\n",
       "\n",
       "    .dataframe tbody tr th {\n",
       "        vertical-align: top;\n",
       "    }\n",
       "\n",
       "    .dataframe thead th {\n",
       "        text-align: right;\n",
       "    }\n",
       "</style>\n",
       "<table border=\"1\" class=\"dataframe\">\n",
       "  <thead>\n",
       "    <tr style=\"text-align: right;\">\n",
       "      <th></th>\n",
       "      <th>Loan ID</th>\n",
       "      <th>Amount Requested</th>\n",
       "      <th>Amount Funded By Investors</th>\n",
       "      <th>Interest Rate</th>\n",
       "      <th>Loan Length</th>\n",
       "      <th>Application Date</th>\n",
       "      <th>Application Expiration Date</th>\n",
       "      <th>Issued Date</th>\n",
       "      <th>CREDIT Grade</th>\n",
       "      <th>Loan Title</th>\n",
       "      <th>Loan Purpose</th>\n",
       "      <th>Loan Description</th>\n",
       "      <th>Monthly PAYMENT</th>\n",
       "      <th>Status</th>\n",
       "      <th>Total Amount Funded</th>\n",
       "      <th>Debt-To-Income Ratio</th>\n",
       "      <th>Remaining Principal Funded by Investors</th>\n",
       "      <th>Payments To Date (Funded by investors)</th>\n",
       "      <th>Remaining Principal</th>\n",
       "      <th>Payments To Date</th>\n",
       "      <th>Screen Name</th>\n",
       "      <th>City</th>\n",
       "      <th>State</th>\n",
       "      <th>Home Ownership</th>\n",
       "      <th>Monthly Income</th>\n",
       "      <th>FICO Range</th>\n",
       "      <th>Earliest CREDIT Line</th>\n",
       "      <th>Open CREDIT Lines</th>\n",
       "      <th>Total CREDIT Lines</th>\n",
       "      <th>Revolving CREDIT Balance</th>\n",
       "      <th>Revolving Line Utilization</th>\n",
       "      <th>Inquiries in the Last 6 Months</th>\n",
       "      <th>Accounts Now Delinquent</th>\n",
       "      <th>Delinquent Amount</th>\n",
       "      <th>Delinquencies (Last 2 yrs)</th>\n",
       "      <th>Months Since Last Delinquency</th>\n",
       "      <th>Public Records On File</th>\n",
       "      <th>Months Since Last Record</th>\n",
       "      <th>Education</th>\n",
       "      <th>Employment Length</th>\n",
       "      <th>Code</th>\n",
       "    </tr>\n",
       "  </thead>\n",
       "  <tbody>\n",
       "    <tr>\n",
       "      <th>0</th>\n",
       "      <td>87023</td>\n",
       "      <td>7500.0</td>\n",
       "      <td>7500.0</td>\n",
       "      <td>13.75%</td>\n",
       "      <td>36 months</td>\n",
       "      <td>2007-06-07</td>\n",
       "      <td>2007-06-21</td>\n",
       "      <td>2007-06-27</td>\n",
       "      <td>E2</td>\n",
       "      <td>Consolidation Loan</td>\n",
       "      <td>debt_consolidation</td>\n",
       "      <td>I plan to consolidate over $7,000 of debt: a c...</td>\n",
       "      <td>255.43</td>\n",
       "      <td>Fully Paid</td>\n",
       "      <td>7500.0</td>\n",
       "      <td>14.29%</td>\n",
       "      <td>0.0</td>\n",
       "      <td>9194.98</td>\n",
       "      <td>0.0</td>\n",
       "      <td>9194.98</td>\n",
       "      <td>Kingtrite</td>\n",
       "      <td>Attleboro</td>\n",
       "      <td>MA</td>\n",
       "      <td>OWN</td>\n",
       "      <td>1833.33</td>\n",
       "      <td>660-678</td>\n",
       "      <td>2003-10-27</td>\n",
       "      <td>7.0</td>\n",
       "      <td>8.0</td>\n",
       "      <td>4175.0</td>\n",
       "      <td>51.5%</td>\n",
       "      <td>0.0</td>\n",
       "      <td>0.0</td>\n",
       "      <td>0.0</td>\n",
       "      <td>1.0</td>\n",
       "      <td>11.0</td>\n",
       "      <td>0.0</td>\n",
       "      <td>0.0</td>\n",
       "      <td>NaN</td>\n",
       "      <td>&lt; 1 year</td>\n",
       "      <td>NaN</td>\n",
       "    </tr>\n",
       "    <tr>\n",
       "      <th>3</th>\n",
       "      <td>90665</td>\n",
       "      <td>8500.0</td>\n",
       "      <td>8500.0</td>\n",
       "      <td>10.28%</td>\n",
       "      <td>36 months</td>\n",
       "      <td>2007-06-13</td>\n",
       "      <td>2007-06-27</td>\n",
       "      <td>2007-07-03</td>\n",
       "      <td>C1</td>\n",
       "      <td>Retiring credit card debt</td>\n",
       "      <td>credit_card</td>\n",
       "      <td>The rate of interest and fees incurred by carr...</td>\n",
       "      <td>275.38</td>\n",
       "      <td>Fully Paid</td>\n",
       "      <td>8500.0</td>\n",
       "      <td>6.4%</td>\n",
       "      <td>0.0</td>\n",
       "      <td>9912.49</td>\n",
       "      <td>0.0</td>\n",
       "      <td>9912.49</td>\n",
       "      <td>Radiothermal</td>\n",
       "      <td>Greensboro</td>\n",
       "      <td>NC</td>\n",
       "      <td>RENT</td>\n",
       "      <td>1500.00</td>\n",
       "      <td>679-713</td>\n",
       "      <td>1986-12-30</td>\n",
       "      <td>6.0</td>\n",
       "      <td>9.0</td>\n",
       "      <td>8847.0</td>\n",
       "      <td>26.9%</td>\n",
       "      <td>1.0</td>\n",
       "      <td>0.0</td>\n",
       "      <td>0.0</td>\n",
       "      <td>1.0</td>\n",
       "      <td>5.0</td>\n",
       "      <td>0.0</td>\n",
       "      <td>0.0</td>\n",
       "      <td>NaN</td>\n",
       "      <td>3 years</td>\n",
       "      <td>NaN</td>\n",
       "    </tr>\n",
       "    <tr>\n",
       "      <th>19</th>\n",
       "      <td>101579</td>\n",
       "      <td>10000.0</td>\n",
       "      <td>10000.0</td>\n",
       "      <td>10.28%</td>\n",
       "      <td>36 months</td>\n",
       "      <td>2007-06-27</td>\n",
       "      <td>2007-07-11</td>\n",
       "      <td>2007-07-17</td>\n",
       "      <td>C1</td>\n",
       "      <td>Web Design Business Expansion Loan</td>\n",
       "      <td>small_business</td>\n",
       "      <td>Seven months ago I decided to drop everything ...</td>\n",
       "      <td>323.98</td>\n",
       "      <td>Fully Paid</td>\n",
       "      <td>10000.0</td>\n",
       "      <td>10.7%</td>\n",
       "      <td>0.0</td>\n",
       "      <td>11662.13</td>\n",
       "      <td>0.0</td>\n",
       "      <td>11662.13</td>\n",
       "      <td>WebDev</td>\n",
       "      <td>Fort Collins</td>\n",
       "      <td>CO</td>\n",
       "      <td>RENT</td>\n",
       "      <td>2281.33</td>\n",
       "      <td>679-713</td>\n",
       "      <td>2003-09-17</td>\n",
       "      <td>4.0</td>\n",
       "      <td>4.0</td>\n",
       "      <td>3534.0</td>\n",
       "      <td>54.4%</td>\n",
       "      <td>0.0</td>\n",
       "      <td>0.0</td>\n",
       "      <td>0.0</td>\n",
       "      <td>0.0</td>\n",
       "      <td>0.0</td>\n",
       "      <td>0.0</td>\n",
       "      <td>0.0</td>\n",
       "      <td>NaN</td>\n",
       "      <td>&lt; 1 year</td>\n",
       "      <td>NaN</td>\n",
       "    </tr>\n",
       "  </tbody>\n",
       "</table>\n",
       "</div>"
      ],
      "text/plain": [
       "   Loan ID  Amount Requested  Amount Funded By Investors Interest Rate  \\\n",
       "0    87023            7500.0                      7500.0        13.75%   \n",
       "3    90665            8500.0                      8500.0        10.28%   \n",
       "19  101579           10000.0                     10000.0        10.28%   \n",
       "\n",
       "   Loan Length Application Date Application Expiration Date Issued Date  \\\n",
       "0    36 months       2007-06-07                  2007-06-21  2007-06-27   \n",
       "3    36 months       2007-06-13                  2007-06-27  2007-07-03   \n",
       "19   36 months       2007-06-27                  2007-07-11  2007-07-17   \n",
       "\n",
       "   CREDIT Grade                          Loan Title        Loan Purpose  \\\n",
       "0            E2                  Consolidation Loan  debt_consolidation   \n",
       "3            C1           Retiring credit card debt         credit_card   \n",
       "19           C1  Web Design Business Expansion Loan      small_business   \n",
       "\n",
       "                                     Loan Description  Monthly PAYMENT  \\\n",
       "0   I plan to consolidate over $7,000 of debt: a c...           255.43   \n",
       "3   The rate of interest and fees incurred by carr...           275.38   \n",
       "19  Seven months ago I decided to drop everything ...           323.98   \n",
       "\n",
       "        Status  Total Amount Funded Debt-To-Income Ratio  \\\n",
       "0   Fully Paid               7500.0               14.29%   \n",
       "3   Fully Paid               8500.0                 6.4%   \n",
       "19  Fully Paid              10000.0                10.7%   \n",
       "\n",
       "    Remaining Principal Funded by Investors  \\\n",
       "0                                       0.0   \n",
       "3                                       0.0   \n",
       "19                                      0.0   \n",
       "\n",
       "    Payments To Date (Funded by investors)  Remaining Principal   \\\n",
       "0                                  9194.98                   0.0   \n",
       "3                                  9912.49                   0.0   \n",
       "19                                11662.13                   0.0   \n",
       "\n",
       "     Payments To Date   Screen Name          City State Home Ownership  \\\n",
       "0             9194.98     Kingtrite     Attleboro    MA            OWN   \n",
       "3             9912.49  Radiothermal    Greensboro    NC           RENT   \n",
       "19           11662.13        WebDev  Fort Collins    CO           RENT   \n",
       "\n",
       "    Monthly Income FICO Range Earliest CREDIT Line  Open CREDIT Lines  \\\n",
       "0          1833.33    660-678           2003-10-27                7.0   \n",
       "3          1500.00    679-713           1986-12-30                6.0   \n",
       "19         2281.33    679-713           2003-09-17                4.0   \n",
       "\n",
       "    Total CREDIT Lines  Revolving CREDIT Balance Revolving Line Utilization  \\\n",
       "0                  8.0                    4175.0                      51.5%   \n",
       "3                  9.0                    8847.0                      26.9%   \n",
       "19                 4.0                    3534.0                      54.4%   \n",
       "\n",
       "    Inquiries in the Last 6 Months  Accounts Now Delinquent  \\\n",
       "0                              0.0                      0.0   \n",
       "3                              1.0                      0.0   \n",
       "19                             0.0                      0.0   \n",
       "\n",
       "    Delinquent Amount  Delinquencies (Last 2 yrs)  \\\n",
       "0                 0.0                         1.0   \n",
       "3                 0.0                         1.0   \n",
       "19                0.0                         0.0   \n",
       "\n",
       "    Months Since Last Delinquency  Public Records On File  \\\n",
       "0                            11.0                     0.0   \n",
       "3                             5.0                     0.0   \n",
       "19                            0.0                     0.0   \n",
       "\n",
       "    Months Since Last Record Education Employment Length  Code  \n",
       "0                        0.0       NaN          < 1 year   NaN  \n",
       "3                        0.0       NaN           3 years   NaN  \n",
       "19                       0.0       NaN          < 1 year   NaN  "
      ]
     },
     "execution_count": 6,
     "metadata": {},
     "output_type": "execute_result"
    }
   ],
   "source": [
    "#display selected rows from the dataset\n",
    "print(\"Selecting particular rows from the dataset : \")\n",
    "data.loc[(data['Amount Requested'] > 7000)].head(3)\n",
    "# data.loc[(data['CREDIT Grade'] == 'A2') | (data['CREDIT Grade'] == 'B2')].head(3)"
   ]
  },
  {
   "cell_type": "code",
   "execution_count": 7,
   "metadata": {
    "scrolled": true
   },
   "outputs": [
    {
     "name": "stdout",
     "output_type": "stream",
     "text": [
      "<class 'pandas.core.frame.DataFrame'>\n",
      "RangeIndex: 36396 entries, 0 to 36395\n",
      "Data columns (total 41 columns):\n",
      " #   Column                                   Non-Null Count  Dtype  \n",
      "---  ------                                   --------------  -----  \n",
      " 0   Loan ID                                  36396 non-null  object \n",
      " 1   Amount Requested                         36395 non-null  float64\n",
      " 2   Amount Funded By Investors               36395 non-null  float64\n",
      " 3   Interest Rate                            36395 non-null  object \n",
      " 4   Loan Length                              36395 non-null  object \n",
      " 5   Application Date                         36395 non-null  object \n",
      " 6   Application Expiration Date              36395 non-null  object \n",
      " 7   Issued Date                              36219 non-null  object \n",
      " 8   CREDIT Grade                             36395 non-null  object \n",
      " 9   Loan Title                               36382 non-null  object \n",
      " 10  Loan Purpose                             36395 non-null  object \n",
      " 11  Loan Description                         25852 non-null  object \n",
      " 12  Monthly PAYMENT                          36395 non-null  float64\n",
      " 13  Status                                   36395 non-null  object \n",
      " 14  Total Amount Funded                      36395 non-null  float64\n",
      " 15  Debt-To-Income Ratio                     36395 non-null  object \n",
      " 16  Remaining Principal Funded by Investors  36395 non-null  float64\n",
      " 17  Payments To Date (Funded by investors)   36395 non-null  float64\n",
      " 18  Remaining Principal                      36395 non-null  float64\n",
      " 19   Payments To Date                        36395 non-null  float64\n",
      " 20  Screen Name                              36394 non-null  object \n",
      " 21  City                                     36395 non-null  object \n",
      " 22  State                                    36395 non-null  object \n",
      " 23  Home Ownership                           36395 non-null  object \n",
      " 24  Monthly Income                           36395 non-null  float64\n",
      " 25  FICO Range                               36378 non-null  object \n",
      " 26  Earliest CREDIT Line                     36366 non-null  object \n",
      " 27  Open CREDIT Lines                        36366 non-null  float64\n",
      " 28  Total CREDIT Lines                       36366 non-null  float64\n",
      " 29  Revolving CREDIT Balance                 36366 non-null  float64\n",
      " 30  Revolving Line Utilization               36308 non-null  object \n",
      " 31  Inquiries in the Last 6 Months           36366 non-null  float64\n",
      " 32  Accounts Now Delinquent                  36366 non-null  float64\n",
      " 33  Delinquent Amount                        36366 non-null  float64\n",
      " 34  Delinquencies (Last 2 yrs)               36366 non-null  float64\n",
      " 35  Months Since Last Delinquency            13701 non-null  float64\n",
      " 36  Public Records On File                   36366 non-null  float64\n",
      " 37  Months Since Last Record                 3432 non-null   float64\n",
      " 38  Education                                5873 non-null   object \n",
      " 39  Employment Length                        35492 non-null  object \n",
      " 40  Code                                     25475 non-null  float64\n",
      "dtypes: float64(20), object(21)\n",
      "memory usage: 11.4+ MB\n"
     ]
    }
   ],
   "source": [
    "data.info()"
   ]
  },
  {
   "cell_type": "code",
   "execution_count": 8,
   "metadata": {},
   "outputs": [
    {
     "data": {
      "text/plain": [
       "Loan ID                                        0\n",
       "Amount Requested                               1\n",
       "Amount Funded By Investors                     1\n",
       "Interest Rate                                  1\n",
       "Loan Length                                    1\n",
       "Application Date                               1\n",
       "Application Expiration Date                    1\n",
       "Issued Date                                  177\n",
       "CREDIT Grade                                   1\n",
       "Loan Title                                    14\n",
       "Loan Purpose                                   1\n",
       "Loan Description                           10544\n",
       "Monthly PAYMENT                                1\n",
       "Status                                         1\n",
       "Total Amount Funded                            1\n",
       "Debt-To-Income Ratio                           1\n",
       "Remaining Principal Funded by Investors        1\n",
       "Payments To Date (Funded by investors)         1\n",
       "Remaining Principal                            1\n",
       " Payments To Date                              1\n",
       "Screen Name                                    2\n",
       "City                                           1\n",
       "State                                          1\n",
       "Home Ownership                                 1\n",
       "Monthly Income                                 1\n",
       "FICO Range                                    18\n",
       "Earliest CREDIT Line                          30\n",
       "Open CREDIT Lines                             30\n",
       "Total CREDIT Lines                            30\n",
       "Revolving CREDIT Balance                      30\n",
       "Revolving Line Utilization                    88\n",
       "Inquiries in the Last 6 Months                30\n",
       "Accounts Now Delinquent                       30\n",
       "Delinquent Amount                             30\n",
       "Delinquencies (Last 2 yrs)                    30\n",
       "Months Since Last Delinquency              22695\n",
       "Public Records On File                        30\n",
       "Months Since Last Record                   32964\n",
       "Education                                  30523\n",
       "Employment Length                            904\n",
       "Code                                       10921\n",
       "dtype: int64"
      ]
     },
     "execution_count": 8,
     "metadata": {},
     "output_type": "execute_result"
    }
   ],
   "source": [
    "data.isna().sum()"
   ]
  },
  {
   "cell_type": "markdown",
   "metadata": {},
   "source": [
    "### Dropping columns where most of the records are null"
   ]
  },
  {
   "cell_type": "code",
   "execution_count": 9,
   "metadata": {},
   "outputs": [],
   "source": [
    "# # most of the records in Months Since Last Delinquency and Education are null. Hence drop the columns.\n",
    "data.drop(['Months Since Last Delinquency'], axis = 1,inplace=True)\n",
    "\n",
    "data.drop(['Education'], axis = 1,inplace=True)"
   ]
  },
  {
   "cell_type": "markdown",
   "metadata": {},
   "source": [
    "### Dropping columns where most of the records are 0"
   ]
  },
  {
   "cell_type": "code",
   "execution_count": 10,
   "metadata": {},
   "outputs": [
    {
     "name": "stdout",
     "output_type": "stream",
     "text": [
      "\n",
      "Number of unique values in Accounts Now Delinquent column:\n",
      "0.0    36362\n",
      "1.0        4\n",
      "Name: Accounts Now Delinquent, dtype: int64\n"
     ]
    }
   ],
   "source": [
    "print('\\nNumber of unique values in Accounts Now Delinquent column:')\n",
    "print(data['Accounts Now Delinquent'].value_counts())\n",
    "\n",
    "# most of the records contain Accounts Now Delinquent are 0. Hence drop the column.\n",
    "data.drop(['Accounts Now Delinquent'], axis = 1,inplace=True)"
   ]
  },
  {
   "cell_type": "code",
   "execution_count": 11,
   "metadata": {},
   "outputs": [
    {
     "name": "stdout",
     "output_type": "stream",
     "text": [
      "\n",
      "Number of unique values in Delinquent Amount column:\n",
      "0.0       36364\n",
      "6053.0        1\n",
      "27.0          1\n",
      "Name: Delinquent Amount, dtype: int64\n"
     ]
    }
   ],
   "source": [
    "print('\\nNumber of unique values in Delinquent Amount column:')\n",
    "print(data['Delinquent Amount'].value_counts())\n",
    "\n",
    "# most of the records contain Delinquent Amount = 0. Hence drop the column.\n",
    "data.drop(['Delinquent Amount'], axis = 1,inplace=True)"
   ]
  },
  {
   "cell_type": "code",
   "execution_count": 12,
   "metadata": {},
   "outputs": [
    {
     "name": "stdout",
     "output_type": "stream",
     "text": [
      "\n",
      "Number of unique values in Delinquencies (Last 2 yrs) column:\n",
      "0.0     32199\n",
      "1.0      3159\n",
      "2.0       680\n",
      "3.0       219\n",
      "4.0        58\n",
      "5.0        26\n",
      "6.0        12\n",
      "7.0         6\n",
      "8.0         3\n",
      "11.0        2\n",
      "13.0        1\n",
      "9.0         1\n",
      "Name: Delinquencies (Last 2 yrs), dtype: int64\n"
     ]
    }
   ],
   "source": [
    "print('\\nNumber of unique values in Delinquencies (Last 2 yrs) column:')\n",
    "print(data['Delinquencies (Last 2 yrs)'].value_counts())\n",
    "\n",
    "# most of the records contain 'Delinquencies (Last 2 yrs)' = 0. Hence drop the column.\n",
    "data.drop(['Delinquencies (Last 2 yrs)'], axis = 1,inplace=True)"
   ]
  },
  {
   "cell_type": "code",
   "execution_count": 13,
   "metadata": {},
   "outputs": [
    {
     "data": {
      "text/plain": [
       "(36396, 36)"
      ]
     },
     "execution_count": 13,
     "metadata": {},
     "output_type": "execute_result"
    }
   ],
   "source": [
    "data.shape"
   ]
  },
  {
   "cell_type": "markdown",
   "metadata": {},
   "source": [
    "# Selecting the required rows\n",
    "\n",
    "## Transforming \"Status\" values"
   ]
  },
  {
   "cell_type": "code",
   "execution_count": 14,
   "metadata": {},
   "outputs": [
    {
     "name": "stdout",
     "output_type": "stream",
     "text": [
      "Display unique values from the attribute \"Status\":\n",
      "\n",
      "1 Fully Paid\n",
      "2 Charged Off\n",
      "3 Late (31-120 days)\n",
      "4 Performing Payment Plan\n",
      "5 Default\n",
      "6 In Grace Period\n",
      "7 Current\n",
      "8 Late (16-30 days)\n",
      "9 Issued\n",
      "10 In Review\n",
      "11 nan\n",
      "12 Does not meet the current credit policy  Status: Fully Paid\n",
      "13 Does not meet the current credit policy  Status: Performing Payment Plan\n",
      "14 Does not meet the current credit policy  Status: Charged Off\n",
      "15 Does not meet the current credit policy  Status: Late (31-120 days)\n",
      "16 Does not meet the current credit policy  Status: In Grace Period\n",
      "17 Does not meet the current credit policy  Status: Late (16-30 days)\n",
      "18 Does not meet the current credit policy  Status: Current\n",
      "19 Does not meet the current credit policy  Status: Default\n"
     ]
    }
   ],
   "source": [
    "#Display the unique values in the attribute of Loan status\n",
    "\n",
    "print(\"Display unique values from the attribute \\\"Status\\\":\\n\")\n",
    "i=1\n",
    "for item in data.Status.unique():\n",
    "    print(i,item)\n",
    "    i+=1"
   ]
  },
  {
   "cell_type": "code",
   "execution_count": 15,
   "metadata": {},
   "outputs": [],
   "source": [
    "#remove all other records except the Fully paid, Current, Late (31-120 days), In Grace Period, Default and Charged Off records\n",
    "data_with_loanstatus_sliced = data[(data['Status']==\"Fully Paid\") | (data['Status']==\"Charged Off\") | (data['Status']=='Does not meet the current credit policy  Status: Fully Paid') | (data['Status']=='Does not meet the current credit policy  Status: Charged Off') \n",
    "                                   | (data['Status']==\"Late (31-120 days)\") | (data['Status']==\"Default\") | (data['Status']==\"In Grace Period\") | (data['Status']==\"Current\") |(data['Status']=='Does not meet the current credit policy  Status: Late (31-120 days)') \n",
    "                                   |  (data['Status']==\"Does not meet the current credit policy  Status: In Grace Period\")|(data['Status']==\"Does not meet the current credit policy  Status: Current\") |(data['Status']==\"Does not meet the current credit policy  Status: Default\")]\n",
    "\n",
    "\n",
    "#map Fully paid  to 0, Current to 1, Late (31-120 days) to 2, In Grace Period to 3, Default to 4 and Charged Off to 5\n",
    "di = {\"Fully Paid\":0, 'Does not meet the current credit policy  Status: Fully Paid':0, 'Current':1,'Does not meet the current credit policy  Status: Current': 1, 'Late (31-120 days)':2,  'Does not meet the current credit policy  Status: Late (31-120 days)':2, \n",
    "      'Does not meet the current credit policy  Status: In Grace Period': 3, 'In Grace Period':3,'Default': 4, 'Does not meet the current credit policy  Status: Default':4 ,'Does not meet the current credit policy  Status: Charged Off':5, \"Charged Off\":5,} \n",
    "\n",
    "data= data_with_loanstatus_sliced.replace({\"Status\": di})"
   ]
  },
  {
   "cell_type": "code",
   "execution_count": 16,
   "metadata": {
    "scrolled": false
   },
   "outputs": [
    {
     "name": "stdout",
     "output_type": "stream",
     "text": [
      "Unique values in \"Status\" attibute : \n",
      " 1    25345\n",
      "0     5684\n",
      "5     1604\n",
      "2      421\n",
      "3      242\n",
      "4       39\n",
      "Name: Status, dtype: int64\n",
      "\n",
      "Current shape of dataset : (33335, 36)\n"
     ]
    }
   ],
   "source": [
    "#print the new unique values of the attribute\n",
    "\n",
    "print(\"Unique values in \\\"Status\\\" attibute : \\n\",data['Status'].value_counts())\n",
    "# Fully paid  is 0 ,  Current is 1, Late (31-120 days) is 2, In Grace Period is 3, Default is 4 and Charged Off is 5\n",
    "\n",
    "print(\"\\nCurrent shape of dataset :\",data.shape)"
   ]
  },
  {
   "cell_type": "code",
   "execution_count": 17,
   "metadata": {},
   "outputs": [],
   "source": [
    "# print(\"Values of the status column :\")\n",
    "# print(data['Status'])"
   ]
  },
  {
   "cell_type": "markdown",
   "metadata": {},
   "source": [
    "# Attribute selection"
   ]
  },
  {
   "cell_type": "code",
   "execution_count": 18,
   "metadata": {},
   "outputs": [
    {
     "name": "stdout",
     "output_type": "stream",
     "text": [
      "Remaining columns after selection : \n",
      "\n",
      "Interest Rate\n",
      "Loan Length\n",
      "Monthly PAYMENT\n",
      "Status\n",
      "Total Amount Funded\n",
      "Debt-To-Income Ratio\n",
      "Remaining Principal \n",
      " Payments To Date\n",
      "Monthly Income\n",
      "FICO Range\n",
      "Open CREDIT Lines\n",
      "Total CREDIT Lines\n",
      "Revolving CREDIT Balance\n",
      "Revolving Line Utilization\n",
      "Employment Length\n",
      "\n",
      "\n",
      "(33335, 15)\n"
     ]
    }
   ],
   "source": [
    "#list of attributes ignored for our analysis\n",
    "dcolumns = ['Loan ID','Amount Requested', 'Amount Funded By Investors','Loan Title','Loan Purpose',\n",
    "            'Loan Description','Remaining Principal Funded by Investors',\n",
    "            'Payments To Date (Funded by investors)',\n",
    "            'Screen Name','City','Code' ,'Application Date', 'Application Expiration Date', 'Issued Date','Earliest CREDIT Line',\n",
    "           'Inquiries in the Last 6 Months','Public Records On File','Months Since Last Record',\n",
    "           'CREDIT Grade','State','Home Ownership']\n",
    "\n",
    "#attribute removal\n",
    "data = data.drop(dcolumns, axis=1)\n",
    "\n",
    "#display the remainig attributes\n",
    "print(\"Remaining columns after selection : \\n\")\n",
    "for item in data.columns.values:\n",
    "    print(item)\n",
    "\n",
    "print('\\n')\n",
    "print(data.shape)"
   ]
  },
  {
   "cell_type": "markdown",
   "metadata": {},
   "source": [
    "# Preprocessing Continuous values"
   ]
  },
  {
   "cell_type": "markdown",
   "metadata": {},
   "source": [
    "## Preprocessing Interest rate column"
   ]
  },
  {
   "cell_type": "markdown",
   "metadata": {},
   "source": [
    "### Converting string values to numeric values"
   ]
  },
  {
   "cell_type": "code",
   "execution_count": 19,
   "metadata": {
    "scrolled": true
   },
   "outputs": [
    {
     "name": "stdout",
     "output_type": "stream",
     "text": [
      "\n",
      "Total Null Values in Interest Rate column:\n",
      "0\n",
      "\n",
      "Minimum and Maximum values for Interest Rate column:\n",
      "5.42 24.59\n"
     ]
    }
   ],
   "source": [
    "#display sample values from the attribute - interest rate\n",
    "\n",
    "# print(\"Sample values in the attribute - Interest Rate\\n\")\n",
    "# print(data['Interest Rate'])\n",
    "\n",
    "#remove the '%' character from the string values of the attribute\n",
    "data['Interest Rate'] = data['Interest Rate'].replace({'%':''}, regex = True)\n",
    "\n",
    "#convert the attribute values to float\n",
    "data['Interest Rate'] = data['Interest Rate'].apply(lambda x:float(x))\n",
    "\n",
    "#display the new values of attribute\n",
    "# print(\"Sample values in the attribute - Interest Rate, after processing\\n\")\n",
    "# print(data['Interest Rate'])\n",
    "\n",
    "print('\\nTotal Null Values in Interest Rate column:')\n",
    "print(data['Interest Rate'].isna().sum())\n",
    "\n",
    "print('\\nMinimum and Maximum values for Interest Rate column:')\n",
    "print(data['Interest Rate'].min(), data['Interest Rate'].max())"
   ]
  },
  {
   "cell_type": "code",
   "execution_count": 20,
   "metadata": {},
   "outputs": [
    {
     "data": {
      "text/plain": [
       "2    16648\n",
       "1     9660\n",
       "3     6492\n",
       "4      535\n",
       "Name: Interest Rate, dtype: int64"
      ]
     },
     "execution_count": 20,
     "metadata": {},
     "output_type": "execute_result"
    }
   ],
   "source": [
    "#Discretizing the Interest rate column\n",
    "cut_label_Interest_Rate = ['1', '2', '3', '4']\n",
    "cut_bins = [5, 10, 15, 20, 25]\n",
    "data['Interest Rate'] = pd.cut(data['Interest Rate'], bins=cut_bins, labels=cut_label_Interest_Rate)\n",
    "\n",
    "data['Interest Rate'].value_counts()"
   ]
  },
  {
   "cell_type": "code",
   "execution_count": 21,
   "metadata": {},
   "outputs": [
    {
     "name": "stdout",
     "output_type": "stream",
     "text": [
      "(33335, 15)\n"
     ]
    }
   ],
   "source": [
    "print(data.shape)"
   ]
  },
  {
   "cell_type": "markdown",
   "metadata": {},
   "source": [
    "## Preprocessing Debt-To-Income Ratio column"
   ]
  },
  {
   "cell_type": "code",
   "execution_count": 22,
   "metadata": {},
   "outputs": [
    {
     "name": "stdout",
     "output_type": "stream",
     "text": [
      "\n",
      "Total Null Values in Debt-To-Income Ratio column:\n",
      "0\n",
      "\n",
      "Minimum and Maximum values for Debt-To-Income Ratio column:\n",
      "0.0 29.99\n"
     ]
    }
   ],
   "source": [
    "#processing of similar attributes with % at the end of the values\n",
    "\n",
    "data['Debt-To-Income Ratio'] = data['Debt-To-Income Ratio'].replace({'%':''}, regex = True)\n",
    "data['Debt-To-Income Ratio'] = data['Debt-To-Income Ratio'].apply(lambda x:float(x))\n",
    "\n",
    "print('\\nTotal Null Values in Debt-To-Income Ratio column:')\n",
    "print(data['Debt-To-Income Ratio'].isna().sum())\n",
    "\n",
    "print('\\nMinimum and Maximum values for Debt-To-Income Ratio column:')\n",
    "print(data['Debt-To-Income Ratio'].min(), data['Debt-To-Income Ratio'].max())"
   ]
  },
  {
   "cell_type": "code",
   "execution_count": 23,
   "metadata": {},
   "outputs": [
    {
     "data": {
      "text/plain": [
       "3    8336\n",
       "4    7496\n",
       "2    6847\n",
       "5    5469\n",
       "1    4677\n",
       "6     510\n",
       "Name: Debt-To-Income Ratio, dtype: int64"
      ]
     },
     "execution_count": 23,
     "metadata": {},
     "output_type": "execute_result"
    }
   ],
   "source": [
    "#Discretizing the Debt-To-Income Ratio column\n",
    "cut_label_Debt_To_Income_Ratio = ['1', '2', '3', '4', '5', '6']\n",
    "cut_bins = [-1, 5, 10, 15, 20, 25, 30]\n",
    "data['Debt-To-Income Ratio'] = pd.cut(data['Debt-To-Income Ratio'], bins=cut_bins, labels=cut_label_Debt_To_Income_Ratio)\n",
    "\n",
    "data['Debt-To-Income Ratio'].value_counts()"
   ]
  },
  {
   "cell_type": "code",
   "execution_count": 24,
   "metadata": {},
   "outputs": [
    {
     "name": "stdout",
     "output_type": "stream",
     "text": [
      "(33335, 15)\n"
     ]
    }
   ],
   "source": [
    "print(data.shape)"
   ]
  },
  {
   "cell_type": "markdown",
   "metadata": {},
   "source": [
    "## Preprocessing Revolving Line Utilization column"
   ]
  },
  {
   "cell_type": "code",
   "execution_count": 25,
   "metadata": {},
   "outputs": [
    {
     "name": "stdout",
     "output_type": "stream",
     "text": [
      "\n",
      "Total Null Values in Revolving Line Utilization column:\n",
      "84\n",
      "\n",
      "Minimum and Maximum values for Revolving Line Utilization column:\n",
      "0.0 119.0\n"
     ]
    }
   ],
   "source": [
    "data['Revolving Line Utilization'] = data['Revolving Line Utilization'].replace({'%':''}, regex = True)\n",
    "data['Revolving Line Utilization'] = data['Revolving Line Utilization'].apply(lambda x:float(x))\n",
    "\n",
    "print('\\nTotal Null Values in Revolving Line Utilization column:')\n",
    "print(data['Revolving Line Utilization'].isna().sum())\n",
    "\n",
    "print('\\nMinimum and Maximum values for Revolving Line Utilization column:')\n",
    "print(data['Revolving Line Utilization'].min(), data['Revolving Line Utilization'].max())"
   ]
  },
  {
   "cell_type": "code",
   "execution_count": 26,
   "metadata": {},
   "outputs": [],
   "source": [
    "#Dropping the rows where Revolving Line Utilization is null\n",
    "data.dropna(subset = ['Revolving Line Utilization'], inplace=True)"
   ]
  },
  {
   "cell_type": "code",
   "execution_count": 27,
   "metadata": {},
   "outputs": [
    {
     "data": {
      "text/plain": [
       "1     4001\n",
       "5     3656\n",
       "6     3589\n",
       "4     3537\n",
       "7     3401\n",
       "3     3269\n",
       "8     3237\n",
       "9     2969\n",
       "2     2966\n",
       "10    2599\n",
       "11      26\n",
       "12       1\n",
       "Name: Revolving Line Utilization, dtype: int64"
      ]
     },
     "execution_count": 27,
     "metadata": {},
     "output_type": "execute_result"
    }
   ],
   "source": [
    "#Discretizing the Revolving Line Utilization column\n",
    "cut_label_Revolving_Line_Utilization = ['1', '2', '3', '4','5','6','7','8','9','10','11','12']\n",
    "cut_bins = [-1, 10, 20, 30, 40, 50, 60, 70, 80, 90, 100, 110, 120]\n",
    "data['Revolving Line Utilization'] = pd.cut(data['Revolving Line Utilization'], bins=cut_bins, labels=cut_label_Revolving_Line_Utilization)\n",
    "\n",
    "data['Revolving Line Utilization'].value_counts()"
   ]
  },
  {
   "cell_type": "code",
   "execution_count": 28,
   "metadata": {},
   "outputs": [
    {
     "name": "stdout",
     "output_type": "stream",
     "text": [
      "(33251, 15)\n"
     ]
    }
   ],
   "source": [
    "print(data.shape)"
   ]
  },
  {
   "cell_type": "markdown",
   "metadata": {},
   "source": [
    "## Preprocessing Loan Length column"
   ]
  },
  {
   "cell_type": "markdown",
   "metadata": {},
   "source": [
    "### Removing the ' months' part from the values"
   ]
  },
  {
   "cell_type": "code",
   "execution_count": 29,
   "metadata": {},
   "outputs": [
    {
     "name": "stdout",
     "output_type": "stream",
     "text": [
      "Sample values in the attribute - Loan Length\n",
      "\n",
      "0        36 months\n",
      "1        36 months\n",
      "2        36 months\n",
      "3        36 months\n",
      "4        36 months\n",
      "           ...    \n",
      "36391    60 months\n",
      "36392    36 months\n",
      "36393    60 months\n",
      "36394    60 months\n",
      "36395    60 months\n",
      "Name: Loan Length, Length: 33251, dtype: object\n",
      "\n",
      "Total Null Values in Loan Length column:\n",
      "0\n",
      "\n",
      "Minimum and Maximum values for Loan Length column:\n",
      "36 60\n"
     ]
    }
   ],
   "source": [
    "#display sample values from the attribute\n",
    "print(\"Sample values in the attribute - Loan Length\\n\")\n",
    "print(data['Loan Length'])\n",
    "\n",
    "#remove the ' month' part from the string values\n",
    "data['Loan Length'] = data['Loan Length'].replace({' months':''}, regex = True)\n",
    "\n",
    "#convert the strings into integer type\n",
    "data['Loan Length'] = data['Loan Length'].apply(lambda x:int(x))\n",
    "\n",
    "#display the processed values\n",
    "# print(\"Sample values in the attribute - Loan Length, after processing\")\n",
    "# print(data['Loan Length'])\n",
    "\n",
    "print('\\nTotal Null Values in Loan Length column:')\n",
    "print(data['Loan Length'].isna().sum())\n",
    "\n",
    "print('\\nMinimum and Maximum values for Loan Length column:')\n",
    "print(data['Loan Length'].min(), data['Loan Length'].max())"
   ]
  },
  {
   "cell_type": "code",
   "execution_count": 30,
   "metadata": {},
   "outputs": [
    {
     "data": {
      "text/plain": [
       "36    25296\n",
       "60     7955\n",
       "Name: Loan Length, dtype: int64"
      ]
     },
     "execution_count": 30,
     "metadata": {},
     "output_type": "execute_result"
    }
   ],
   "source": [
    "data['Loan Length'].value_counts()"
   ]
  },
  {
   "cell_type": "code",
   "execution_count": 31,
   "metadata": {},
   "outputs": [
    {
     "data": {
      "text/plain": [
       "3    25296\n",
       "5     7955\n",
       "Name: Loan Length, dtype: int64"
      ]
     },
     "execution_count": 31,
     "metadata": {},
     "output_type": "execute_result"
    }
   ],
   "source": [
    "#Discretizing the Loan Length column\n",
    "cut_label_Loan_Length = ['3', '5']\n",
    "cut_bins = [0, 36, 60]\n",
    "data['Loan Length'] = pd.cut(data['Loan Length'], bins=cut_bins, labels=cut_label_Loan_Length)\n",
    "\n",
    "data['Loan Length'].value_counts()"
   ]
  },
  {
   "cell_type": "code",
   "execution_count": 32,
   "metadata": {
    "scrolled": true
   },
   "outputs": [
    {
     "name": "stdout",
     "output_type": "stream",
     "text": [
      "(33251, 15)\n"
     ]
    }
   ],
   "source": [
    "print(data.shape)"
   ]
  },
  {
   "cell_type": "markdown",
   "metadata": {},
   "source": [
    "## Preprocessing Total Amount Funded column"
   ]
  },
  {
   "cell_type": "code",
   "execution_count": 33,
   "metadata": {},
   "outputs": [
    {
     "name": "stdout",
     "output_type": "stream",
     "text": [
      "\n",
      "Total Null Values in Total Amount Funded column:\n",
      "0\n",
      "\n",
      "Minimum and Maximum values for Total Amount Funded column:\n",
      "500.0 35000.0\n"
     ]
    }
   ],
   "source": [
    "# print(\"Sample values in the attribute - Total Amount Funded\\n\")\n",
    "# print(data['Total Amount Funded'])\n",
    "\n",
    "print('\\nTotal Null Values in Total Amount Funded column:')\n",
    "print(data['Total Amount Funded'].isna().sum())\n",
    "\n",
    "print('\\nMinimum and Maximum values for Total Amount Funded column:')\n",
    "print(data['Total Amount Funded'].min(), data['Total Amount Funded'].max())"
   ]
  },
  {
   "cell_type": "code",
   "execution_count": 34,
   "metadata": {},
   "outputs": [
    {
     "data": {
      "text/plain": [
       "10000.0    2390\n",
       "5000.0     1875\n",
       "12000.0    1687\n",
       "6000.0     1650\n",
       "15000.0    1468\n",
       "           ... \n",
       "5825.0        1\n",
       "21150.0       1\n",
       "23275.0       1\n",
       "27200.0       1\n",
       "725.0         1\n",
       "Name: Total Amount Funded, Length: 976, dtype: int64"
      ]
     },
     "execution_count": 34,
     "metadata": {},
     "output_type": "execute_result"
    }
   ],
   "source": [
    "data['Total Amount Funded'].value_counts()"
   ]
  },
  {
   "cell_type": "code",
   "execution_count": 35,
   "metadata": {},
   "outputs": [
    {
     "data": {
      "text/plain": [
       "2    11474\n",
       "1     8839\n",
       "3     6492\n",
       "4     3617\n",
       "5     2179\n",
       "6      331\n",
       "7      319\n",
       "Name: Total Amount Funded, dtype: int64"
      ]
     },
     "execution_count": 35,
     "metadata": {},
     "output_type": "execute_result"
    }
   ],
   "source": [
    "#Discretizing the Total Amount Funded column\n",
    "cut_label_Total_Amount_Funded = ['1', '2', '3', '4', '5', '6', '7']\n",
    "cut_bins = [0, 5000, 10000, 15000, 20000, 25000, 30000, 35000]\n",
    "data['Total Amount Funded'] = pd.cut(data['Total Amount Funded'], bins=cut_bins, labels=cut_label_Total_Amount_Funded)\n",
    "\n",
    "data['Total Amount Funded'].value_counts()"
   ]
  },
  {
   "cell_type": "code",
   "execution_count": 36,
   "metadata": {},
   "outputs": [
    {
     "name": "stdout",
     "output_type": "stream",
     "text": [
      "(33251, 15)\n"
     ]
    }
   ],
   "source": [
    "print(data.shape)"
   ]
  },
  {
   "cell_type": "markdown",
   "metadata": {},
   "source": [
    "## Preprocessing Monthly PAYMENT column"
   ]
  },
  {
   "cell_type": "code",
   "execution_count": 37,
   "metadata": {},
   "outputs": [
    {
     "name": "stdout",
     "output_type": "stream",
     "text": [
      "\n",
      "Total Null Values in Monthly PAYMENT column:\n",
      "0\n",
      "\n",
      "Minimum and Maximum values for Monthly PAYMENT column:\n",
      "15.67 1305.19\n"
     ]
    }
   ],
   "source": [
    "# print(\"Sample values in the attribute - Monthly PAYMENT\\n\")\n",
    "# print(data['Monthly PAYMENT'])\n",
    "\n",
    "print('\\nTotal Null Values in Monthly PAYMENT column:')\n",
    "print(data['Monthly PAYMENT'].isna().sum())\n",
    "\n",
    "print('\\nMinimum and Maximum values for Monthly PAYMENT column:')\n",
    "print(data['Monthly PAYMENT'].min(), data['Monthly PAYMENT'].max())"
   ]
  },
  {
   "cell_type": "code",
   "execution_count": 38,
   "metadata": {},
   "outputs": [
    {
     "data": {
      "text/plain": [
       "311.02    53\n",
       "180.96    52\n",
       "311.11    48\n",
       "150.80    46\n",
       "372.12    45\n",
       "          ..\n",
       "376.70     1\n",
       "893.69     1\n",
       "88.96      1\n",
       "287.78     1\n",
       "134.38     1\n",
       "Name: Monthly PAYMENT, Length: 13770, dtype: int64"
      ]
     },
     "execution_count": 38,
     "metadata": {},
     "output_type": "execute_result"
    }
   ],
   "source": [
    "data['Monthly PAYMENT'].value_counts()"
   ]
  },
  {
   "cell_type": "code",
   "execution_count": 39,
   "metadata": {},
   "outputs": [
    {
     "data": {
      "text/plain": [
       "2    12530\n",
       "1    12029\n",
       "3     5356\n",
       "4     2120\n",
       "5     1100\n",
       "6       85\n",
       "7       31\n",
       "Name: Monthly PAYMENT, dtype: int64"
      ]
     },
     "execution_count": 39,
     "metadata": {},
     "output_type": "execute_result"
    }
   ],
   "source": [
    "#Discretizing the Monthly PAYMENT column\n",
    "cut_label_Monthly_PAYMENT = ['1', '2', '3', '4', '5', '6', '7']\n",
    "cut_bins = [0, 200, 400, 600, 800, 1000, 1200, 1400]\n",
    "\n",
    "data['Monthly PAYMENT'] = pd.cut(data['Monthly PAYMENT'], bins=cut_bins, labels=cut_label_Monthly_PAYMENT)\n",
    "\n",
    "data['Monthly PAYMENT'].value_counts()"
   ]
  },
  {
   "cell_type": "code",
   "execution_count": 40,
   "metadata": {},
   "outputs": [
    {
     "name": "stdout",
     "output_type": "stream",
     "text": [
      "(33251, 15)\n"
     ]
    }
   ],
   "source": [
    "print(data.shape)"
   ]
  },
  {
   "cell_type": "markdown",
   "metadata": {},
   "source": [
    "## Preprocessing Remaining Principal column"
   ]
  },
  {
   "cell_type": "code",
   "execution_count": 41,
   "metadata": {},
   "outputs": [
    {
     "name": "stdout",
     "output_type": "stream",
     "text": [
      "\n",
      "Total Null Values in Remaining Principal column:\n",
      "0\n",
      "\n",
      "Minimum and Maximum values for Remaining Principal column:\n",
      "-0.04 35000.0\n"
     ]
    }
   ],
   "source": [
    "# print(\"Sample values in the attribute - Remaining Principal\\n\")\n",
    "# print(data['Remaining Principal '])\n",
    "\n",
    "print('\\nTotal Null Values in Remaining Principal column:')\n",
    "print(data['Remaining Principal '].isna().sum())\n",
    "\n",
    "print('\\nMinimum and Maximum values for Remaining Principal column:')\n",
    "print(data['Remaining Principal '].min(), data['Remaining Principal '].max())"
   ]
  },
  {
   "cell_type": "code",
   "execution_count": 42,
   "metadata": {},
   "outputs": [
    {
     "data": {
      "text/plain": [
       " 0.00        5250\n",
       " 0.01         179\n",
       "-0.01         140\n",
       " 10000.00      31\n",
       " 20000.00      26\n",
       "             ... \n",
       " 962.96         1\n",
       " 6688.36        1\n",
       " 4241.19        1\n",
       " 13835.84       1\n",
       " 3253.11        1\n",
       "Name: Remaining Principal , Length: 26718, dtype: int64"
      ]
     },
     "execution_count": 42,
     "metadata": {},
     "output_type": "execute_result"
    }
   ],
   "source": [
    "data['Remaining Principal '].value_counts()"
   ]
  },
  {
   "cell_type": "code",
   "execution_count": 43,
   "metadata": {},
   "outputs": [
    {
     "data": {
      "text/plain": [
       "1    10959\n",
       "2     8864\n",
       "0     5394\n",
       "3     4475\n",
       "4     1974\n",
       "5      988\n",
       "6      300\n",
       "7      297\n",
       "Name: Remaining Principal , dtype: int64"
      ]
     },
     "execution_count": 43,
     "metadata": {},
     "output_type": "execute_result"
    }
   ],
   "source": [
    "#Discretizing the Remaining Principal column\n",
    "cut_label_Remaining_Principal  = ['0', '1', '2', '3', '4', '5', '6', '7']\n",
    "cut_bins = [-1, 0, 5000, 10000, 15000, 20000, 25000, 30000, 35000]\n",
    "\n",
    "data['Remaining Principal '] = pd.cut(data['Remaining Principal '], bins=cut_bins, labels=cut_label_Remaining_Principal)\n",
    "\n",
    "data['Remaining Principal '].value_counts()"
   ]
  },
  {
   "cell_type": "code",
   "execution_count": 44,
   "metadata": {},
   "outputs": [
    {
     "name": "stdout",
     "output_type": "stream",
     "text": [
      "(33251, 15)\n"
     ]
    }
   ],
   "source": [
    "print(data.shape)"
   ]
  },
  {
   "cell_type": "markdown",
   "metadata": {},
   "source": [
    "## Preprocessing Payments To Date column"
   ]
  },
  {
   "cell_type": "code",
   "execution_count": 45,
   "metadata": {},
   "outputs": [
    {
     "name": "stdout",
     "output_type": "stream",
     "text": [
      "Total Null Values in  Payments To Date column:\n",
      "0\n",
      "\n",
      "Minimum and Maximum values for  Payments To Date column:\n",
      "0.0 35621.98\n"
     ]
    }
   ],
   "source": [
    "# print(\"Sample values in the attribute -  Payments To Date\\n\")\n",
    "# print(data[' Payments To Date'])\n",
    "\n",
    "print('Total Null Values in  Payments To Date column:')\n",
    "print(data[' Payments To Date'].isna().sum())\n",
    "\n",
    "print('\\nMinimum and Maximum values for  Payments To Date column:')\n",
    "print(data[' Payments To Date'].min(), data[' Payments To Date'].max())"
   ]
  },
  {
   "cell_type": "code",
   "execution_count": 46,
   "metadata": {},
   "outputs": [
    {
     "data": {
      "text/plain": [
       "0.00        516\n",
       "398.40        6\n",
       "199.20        6\n",
       "6888.00       6\n",
       "364.80        6\n",
       "           ... \n",
       "813.28        1\n",
       "10002.55      1\n",
       "1482.84       1\n",
       "1536.48       1\n",
       "1765.68       1\n",
       "Name:  Payments To Date, Length: 31125, dtype: int64"
      ]
     },
     "execution_count": 46,
     "metadata": {},
     "output_type": "execute_result"
    }
   ],
   "source": [
    "data[' Payments To Date'].value_counts()"
   ]
  },
  {
   "cell_type": "code",
   "execution_count": 47,
   "metadata": {},
   "outputs": [
    {
     "data": {
      "text/plain": [
       "1    24958\n",
       "2     5363\n",
       "3     1970\n",
       "4      647\n",
       "5      285\n",
       "6       28\n",
       "Name:  Payments To Date, dtype: int64"
      ]
     },
     "execution_count": 47,
     "metadata": {},
     "output_type": "execute_result"
    }
   ],
   "source": [
    "#Discretizing the Payments To Date column\n",
    "cut_label_Payments_To_Date  = ['1', '2', '3', '4', '5', '6']\n",
    "cut_bins = [-1, 6000, 12000, 18000, 24000, 30000, 36000]\n",
    "\n",
    "data[' Payments To Date'] = pd.cut(data[' Payments To Date'], bins=cut_bins, labels=cut_label_Payments_To_Date)\n",
    "\n",
    "data[' Payments To Date'].value_counts()"
   ]
  },
  {
   "cell_type": "code",
   "execution_count": 48,
   "metadata": {},
   "outputs": [
    {
     "name": "stdout",
     "output_type": "stream",
     "text": [
      "(33251, 15)\n"
     ]
    }
   ],
   "source": [
    "print(data.shape)"
   ]
  },
  {
   "cell_type": "markdown",
   "metadata": {},
   "source": [
    "## Preprocessing Monthly Income column"
   ]
  },
  {
   "cell_type": "code",
   "execution_count": 49,
   "metadata": {},
   "outputs": [
    {
     "name": "stdout",
     "output_type": "stream",
     "text": [
      "Total Null Values in Monthly Income column:\n",
      "0\n",
      "\n",
      "Minimum and Maximum values for  Monthly Income column:\n",
      "-0.08 500000.0\n"
     ]
    }
   ],
   "source": [
    "# print(\"Sample values in the attribute - Monthly Income\\n\")\n",
    "# print(data['Monthly Income'])\n",
    "\n",
    "print('Total Null Values in Monthly Income column:')\n",
    "print(data['Monthly Income'].isna().sum())\n",
    "\n",
    "print('\\nMinimum and Maximum values for  Monthly Income column:')\n",
    "print(data['Monthly Income'].min(), data['Monthly Income'].max())"
   ]
  },
  {
   "cell_type": "code",
   "execution_count": 50,
   "metadata": {},
   "outputs": [
    {
     "data": {
      "text/plain": [
       "5000.00    1222\n",
       "4166.67     817\n",
       "3333.33     694\n",
       "3750.00     691\n",
       "2500.00     684\n",
       "           ... \n",
       "8817.00       1\n",
       "340.00        1\n",
       "4016.00       1\n",
       "7104.00       1\n",
       "7317.08       1\n",
       "Name: Monthly Income, Length: 4779, dtype: int64"
      ]
     },
     "execution_count": 50,
     "metadata": {},
     "output_type": "execute_result"
    }
   ],
   "source": [
    "data['Monthly Income'].value_counts()"
   ]
  },
  {
   "cell_type": "code",
   "execution_count": 51,
   "metadata": {},
   "outputs": [
    {
     "data": {
      "text/plain": [
       "5    5949\n",
       "4    5694\n",
       "9    5574\n",
       "3    4500\n",
       "6    4060\n",
       "7    3069\n",
       "8    2360\n",
       "2    1794\n",
       "1     251\n",
       "Name: Monthly Income, dtype: int64"
      ]
     },
     "execution_count": 51,
     "metadata": {},
     "output_type": "execute_result"
    }
   ],
   "source": [
    "#Discretizing the Monthly Income column\n",
    "cut_label_Monthly_Income  = ['1', '2', '3', '4', '5','6','7','8','9']\n",
    "cut_bins = [-1, 1000, 2000, 3000, 4000, 5000, 6000,7000,8000, 500000]\n",
    "\n",
    "data['Monthly Income'] = pd.cut(data['Monthly Income'], bins=cut_bins, labels=cut_label_Monthly_Income)\n",
    "\n",
    "data['Monthly Income'].value_counts()"
   ]
  },
  {
   "cell_type": "code",
   "execution_count": 52,
   "metadata": {},
   "outputs": [
    {
     "name": "stdout",
     "output_type": "stream",
     "text": [
      "(33251, 15)\n"
     ]
    }
   ],
   "source": [
    "print(data.shape)"
   ]
  },
  {
   "cell_type": "markdown",
   "metadata": {},
   "source": [
    "## Preprocessing Open CREDIT Lines column"
   ]
  },
  {
   "cell_type": "code",
   "execution_count": 53,
   "metadata": {},
   "outputs": [
    {
     "name": "stdout",
     "output_type": "stream",
     "text": [
      "Total Null Values in Open CREDIT Lines column:\n",
      "0\n",
      "\n",
      "Minimum and Maximum values for Open CREDIT Lines column:\n",
      "1.0 47.0\n"
     ]
    }
   ],
   "source": [
    "# print(\"Sample values in the attribute - Open CREDIT Lines\\n\")\n",
    "# print(data['Open CREDIT Lines'])\n",
    "\n",
    "print('Total Null Values in Open CREDIT Lines column:')\n",
    "print(data['Open CREDIT Lines'].isna().sum())\n",
    "\n",
    "print('\\nMinimum and Maximum values for Open CREDIT Lines column:')\n",
    "print(data['Open CREDIT Lines'].min(), data['Open CREDIT Lines'].max())"
   ]
  },
  {
   "cell_type": "code",
   "execution_count": 54,
   "metadata": {
    "scrolled": true
   },
   "outputs": [
    {
     "data": {
      "text/plain": [
       "6.0     3296\n",
       "7.0     3256\n",
       "8.0     3186\n",
       "9.0     3007\n",
       "5.0     2714\n",
       "10.0    2604\n",
       "11.0    2256\n",
       "4.0     2051\n",
       "12.0    1864\n",
       "13.0    1599\n",
       "3.0     1325\n",
       "14.0    1241\n",
       "15.0    1001\n",
       "16.0     813\n",
       "17.0     618\n",
       "2.0      563\n",
       "18.0     459\n",
       "19.0     348\n",
       "20.0     274\n",
       "21.0     233\n",
       "22.0     140\n",
       "23.0      97\n",
       "24.0      68\n",
       "25.0      54\n",
       "1.0       34\n",
       "26.0      32\n",
       "27.0      26\n",
       "28.0      23\n",
       "29.0      13\n",
       "31.0      13\n",
       "30.0      13\n",
       "34.0       7\n",
       "33.0       4\n",
       "35.0       4\n",
       "32.0       4\n",
       "36.0       2\n",
       "38.0       2\n",
       "39.0       1\n",
       "42.0       1\n",
       "44.0       1\n",
       "47.0       1\n",
       "41.0       1\n",
       "37.0       1\n",
       "46.0       1\n",
       "Name: Open CREDIT Lines, dtype: int64"
      ]
     },
     "execution_count": 54,
     "metadata": {},
     "output_type": "execute_result"
    }
   ],
   "source": [
    "data['Open CREDIT Lines'].value_counts()"
   ]
  },
  {
   "cell_type": "code",
   "execution_count": 55,
   "metadata": {},
   "outputs": [
    {
     "data": {
      "text/plain": [
       "2     15349\n",
       "3      7961\n",
       "1      6687\n",
       "4      2512\n",
       "5       592\n",
       "6       107\n",
       "7        32\n",
       "8         6\n",
       "9         3\n",
       "10        2\n",
       "Name: Open CREDIT Lines, dtype: int64"
      ]
     },
     "execution_count": 55,
     "metadata": {},
     "output_type": "execute_result"
    }
   ],
   "source": [
    "#Discretizing the Open CREDIT Lines column\n",
    "cut_label_Open_CREDIT_Lines  = ['1', '2', '3', '4', '5', '6', '7', '8', '9', '10']\n",
    "cut_bins = [0, 5, 10, 15, 20, 25, 30, 35, 40, 45, 50]\n",
    "\n",
    "data['Open CREDIT Lines'] = pd.cut(data['Open CREDIT Lines'], bins=cut_bins, labels=cut_label_Open_CREDIT_Lines)\n",
    "\n",
    "data['Open CREDIT Lines'].value_counts()"
   ]
  },
  {
   "cell_type": "code",
   "execution_count": 56,
   "metadata": {},
   "outputs": [
    {
     "name": "stdout",
     "output_type": "stream",
     "text": [
      "(33251, 15)\n"
     ]
    }
   ],
   "source": [
    "print(data.shape)"
   ]
  },
  {
   "cell_type": "markdown",
   "metadata": {},
   "source": [
    "## Preprocessing Total CREDIT Lines column"
   ]
  },
  {
   "cell_type": "code",
   "execution_count": 57,
   "metadata": {},
   "outputs": [
    {
     "name": "stdout",
     "output_type": "stream",
     "text": [
      "Total Null Values in Total CREDIT Lines column:\n",
      "0\n",
      "\n",
      "Minimum and Maximum values for Total CREDIT Lines column:\n",
      "1.0 90.0\n"
     ]
    }
   ],
   "source": [
    "# print(\"Sample values in the attribute - Total CREDIT Lines\\n\")\n",
    "# print(data['Total CREDIT Lines'])\n",
    "\n",
    "print('Total Null Values in Total CREDIT Lines column:')\n",
    "print(data['Total CREDIT Lines'].isna().sum())\n",
    "\n",
    "print('\\nMinimum and Maximum values for Total CREDIT Lines column:')\n",
    "print(data['Total CREDIT Lines'].min(), data['Total CREDIT Lines'].max())"
   ]
  },
  {
   "cell_type": "code",
   "execution_count": 58,
   "metadata": {},
   "outputs": [
    {
     "data": {
      "text/plain": [
       "20.0    1200\n",
       "16.0    1186\n",
       "14.0    1185\n",
       "17.0    1184\n",
       "15.0    1184\n",
       "        ... \n",
       "72.0       1\n",
       "80.0       1\n",
       "77.0       1\n",
       "71.0       1\n",
       "74.0       1\n",
       "Name: Total CREDIT Lines, Length: 83, dtype: int64"
      ]
     },
     "execution_count": 58,
     "metadata": {},
     "output_type": "execute_result"
    }
   ],
   "source": [
    "data['Total CREDIT Lines'].value_counts()"
   ]
  },
  {
   "cell_type": "code",
   "execution_count": 59,
   "metadata": {},
   "outputs": [
    {
     "data": {
      "text/plain": [
       "2    11475\n",
       "3     9172\n",
       "1     5369\n",
       "4     4730\n",
       "5     1755\n",
       "6      544\n",
       "7      189\n",
       "8       14\n",
       "9        3\n",
       "Name: Total CREDIT Lines, dtype: int64"
      ]
     },
     "execution_count": 59,
     "metadata": {},
     "output_type": "execute_result"
    }
   ],
   "source": [
    "#Discretizing the Total CREDIT Lines column\n",
    "cut_label_Total_CREDIT_Lines = ['1', '2', '3', '4', '5', '6', '7', '8', '9']\n",
    "cut_bins = [0, 10, 20, 30, 40, 50, 60, 70, 80, 90]\n",
    "\n",
    "data['Total CREDIT Lines'] = pd.cut(data['Total CREDIT Lines'], bins=cut_bins, labels=cut_label_Total_CREDIT_Lines)\n",
    "\n",
    "data['Total CREDIT Lines'].value_counts()"
   ]
  },
  {
   "cell_type": "code",
   "execution_count": 60,
   "metadata": {},
   "outputs": [
    {
     "name": "stdout",
     "output_type": "stream",
     "text": [
      "(33251, 15)\n"
     ]
    }
   ],
   "source": [
    "print(data.shape)"
   ]
  },
  {
   "cell_type": "markdown",
   "metadata": {},
   "source": [
    "## Preprocessing Revolving CREDIT Balance column"
   ]
  },
  {
   "cell_type": "code",
   "execution_count": 61,
   "metadata": {},
   "outputs": [
    {
     "name": "stdout",
     "output_type": "stream",
     "text": [
      "Total Null Values in Revolving CREDIT Balance column:\n",
      "0\n",
      "\n",
      "Minimum and Maximum values for Revolving CREDIT Balance column:\n",
      "0.0 1207359.0\n"
     ]
    }
   ],
   "source": [
    "# print(\"Sample values in the attribute - Revolving CREDIT Balance\\n\")\n",
    "# print(data['Revolving CREDIT Balance'])\n",
    "\n",
    "print('Total Null Values in Revolving CREDIT Balance column:')\n",
    "print(data['Revolving CREDIT Balance'].isna().sum())\n",
    "\n",
    "print('\\nMinimum and Maximum values for Revolving CREDIT Balance column:')\n",
    "print(data['Revolving CREDIT Balance'].min(), data['Revolving CREDIT Balance'].max())"
   ]
  },
  {
   "cell_type": "code",
   "execution_count": 62,
   "metadata": {},
   "outputs": [
    {
     "data": {
      "text/plain": [
       "0.0        885\n",
       "255.0       14\n",
       "1.0         12\n",
       "682.0       11\n",
       "298.0       11\n",
       "          ... \n",
       "12155.0      1\n",
       "18557.0      1\n",
       "9909.0       1\n",
       "1625.0       1\n",
       "15738.0      1\n",
       "Name: Revolving CREDIT Balance, Length: 19564, dtype: int64"
      ]
     },
     "execution_count": 62,
     "metadata": {},
     "output_type": "execute_result"
    }
   ],
   "source": [
    "data['Revolving CREDIT Balance'].value_counts()"
   ]
  },
  {
   "cell_type": "code",
   "execution_count": 63,
   "metadata": {},
   "outputs": [
    {
     "data": {
      "text/plain": [
       "1    18689\n",
       "2     7905\n",
       "3     3146\n",
       "6     1445\n",
       "4     1363\n",
       "5      703\n",
       "Name: Revolving CREDIT Balance, dtype: int64"
      ]
     },
     "execution_count": 63,
     "metadata": {},
     "output_type": "execute_result"
    }
   ],
   "source": [
    "#Discretizing the Revolving CREDIT Balance column\n",
    "cut_label_Revolving_CREDIT_Balance = ['1', '2', '3', '4', '5', '6']\n",
    "cut_bins = [-1, 10000, 20000, 30000, 40000, 50000, 1300000]\n",
    "\n",
    "data['Revolving CREDIT Balance'] = pd.cut(data['Revolving CREDIT Balance'], bins=cut_bins, labels=cut_label_Revolving_CREDIT_Balance)\n",
    "\n",
    "data['Revolving CREDIT Balance'].value_counts()"
   ]
  },
  {
   "cell_type": "code",
   "execution_count": 64,
   "metadata": {},
   "outputs": [
    {
     "name": "stdout",
     "output_type": "stream",
     "text": [
      "(33251, 15)\n"
     ]
    }
   ],
   "source": [
    "print(data.shape)"
   ]
  },
  {
   "cell_type": "markdown",
   "metadata": {},
   "source": [
    "## Preprocessing FICO Range column"
   ]
  },
  {
   "cell_type": "code",
   "execution_count": 65,
   "metadata": {},
   "outputs": [
    {
     "name": "stdout",
     "output_type": "stream",
     "text": [
      "Display unique values of the attribute : FICO_Range\n",
      "['660-678' '780+' '714-749' '679-713' '750-779' nan '640-659']\n",
      "\n",
      "Display total nan values in FICO_Range:\n",
      "17\n"
     ]
    }
   ],
   "source": [
    "#rename the attribute\n",
    "data.rename(columns = {'FICO Range':'FICO_Range'}, inplace = True)\n",
    "\n",
    "#print unique values of the attribute\n",
    "print(\"Display unique values of the attribute : FICO_Range\")\n",
    "print(data.FICO_Range.unique())\n",
    "\n",
    "print(\"\\nDisplay total nan values in FICO_Range:\")\n",
    "print(data.FICO_Range.isna().sum())"
   ]
  },
  {
   "cell_type": "code",
   "execution_count": 66,
   "metadata": {},
   "outputs": [
    {
     "name": "stdout",
     "output_type": "stream",
     "text": [
      "\n",
      "\n",
      "Display unique values of the attribute : FICO_Range after filling nan\n",
      "4    11618\n",
      "3     9480\n",
      "5     5292\n",
      "2     4462\n",
      "1     1912\n",
      "6      470\n",
      "Name: FICO_Range, dtype: int64\n"
     ]
    }
   ],
   "source": [
    "# Drop the records where Employment_Length has null value\n",
    "data.dropna(subset = ['FICO_Range'], inplace=True)\n",
    "\n",
    "#map the categories of the attributes to numbers\n",
    "data[\"FICO_Range\"] = data[\"FICO_Range\"].map({\"640-659\":6,\"660-678\":5,\"679-713\":4,\"714-749\":3,\"750-779\":2,\"780+\":1})\n",
    "\n",
    "\n",
    "#display the processed values\n",
    "print(\"\\n\\nDisplay unique values of the attribute : FICO_Range after filling nan\")\n",
    "print(data['FICO_Range'].value_counts())"
   ]
  },
  {
   "cell_type": "code",
   "execution_count": 67,
   "metadata": {},
   "outputs": [
    {
     "name": "stdout",
     "output_type": "stream",
     "text": [
      "(33234, 15)\n"
     ]
    }
   ],
   "source": [
    "print(data.shape)"
   ]
  },
  {
   "cell_type": "markdown",
   "metadata": {},
   "source": [
    "## Preprocessing Employment Length column"
   ]
  },
  {
   "cell_type": "code",
   "execution_count": 68,
   "metadata": {},
   "outputs": [
    {
     "name": "stdout",
     "output_type": "stream",
     "text": [
      "Display unique values of attribute : Employment Length\n",
      "\n",
      "['< 1 year' '3 years' '4 years' '5 years' '1 year' '2 years' '8 years'\n",
      " '7 years' '6 years' '9 years' '10+ years' nan]\n",
      "\n",
      "Total Number of records where Employment_Length has null value:\n",
      "778\n"
     ]
    }
   ],
   "source": [
    "#rename the attribute\n",
    "data.rename(columns = {'Employment Length':'Employment_Length'}, inplace = True)\n",
    "\n",
    "#display unique values of the attribute\n",
    "print(\"Display unique values of attribute : Employment Length\\n\")\n",
    "print(data.Employment_Length.unique())\n",
    "\n",
    "# Number of records where Employment_Length has null value\n",
    "print(\"\\nTotal Number of records where Employment_Length has null value:\")\n",
    "print(data['Employment_Length'].isna().sum())\n",
    "\n",
    "# Drop the records where Employment_Length has null value\n",
    "data.dropna(subset = ['Employment_Length'], inplace=True)"
   ]
  },
  {
   "cell_type": "code",
   "execution_count": 69,
   "metadata": {},
   "outputs": [
    {
     "name": "stdout",
     "output_type": "stream",
     "text": [
      "Display unique values of attribute : Employment Length after processing\n",
      "\n",
      "11    7032\n",
      "1     4202\n",
      "3     3829\n",
      "4     3534\n",
      "2     2909\n",
      "5     2848\n",
      "6     2672\n",
      "7     1730\n",
      "8     1413\n",
      "9     1241\n",
      "10    1046\n",
      "Name: Employment_Length, dtype: int64\n"
     ]
    }
   ],
   "source": [
    "#map the categories to numbers\n",
    "data[\"Employment_Length\"] = data[\"Employment_Length\"].map({'< 1 year':1, '3 years':4, '4 years':5, '5 years':6, '1 year':2, '2 years':3, '8 years':9, '7 years':8, '6 years':7, '9 years':10, '10+ years':11})\n",
    "\n",
    "#display the unique values after processing\n",
    "print(\"Display unique values of attribute : Employment Length after processing\\n\")\n",
    "print(data['Employment_Length'].value_counts())"
   ]
  },
  {
   "cell_type": "code",
   "execution_count": 70,
   "metadata": {},
   "outputs": [
    {
     "name": "stdout",
     "output_type": "stream",
     "text": [
      "(32456, 15)\n"
     ]
    }
   ],
   "source": [
    "print(data.shape)"
   ]
  },
  {
   "cell_type": "markdown",
   "metadata": {},
   "source": [
    "## Displaying total null values in each column"
   ]
  },
  {
   "cell_type": "code",
   "execution_count": 71,
   "metadata": {
    "scrolled": true
   },
   "outputs": [
    {
     "data": {
      "text/plain": [
       "Interest Rate                 0\n",
       "Loan Length                   0\n",
       "Monthly PAYMENT               0\n",
       "Status                        0\n",
       "Total Amount Funded           0\n",
       "Debt-To-Income Ratio          0\n",
       "Remaining Principal           0\n",
       " Payments To Date             0\n",
       "Monthly Income                0\n",
       "FICO_Range                    0\n",
       "Open CREDIT Lines             0\n",
       "Total CREDIT Lines            0\n",
       "Revolving CREDIT Balance      0\n",
       "Revolving Line Utilization    0\n",
       "Employment_Length             0\n",
       "dtype: int64"
      ]
     },
     "execution_count": 71,
     "metadata": {},
     "output_type": "execute_result"
    }
   ],
   "source": [
    "data.isna().sum()"
   ]
  },
  {
   "cell_type": "code",
   "execution_count": 72,
   "metadata": {},
   "outputs": [
    {
     "data": {
      "text/plain": [
       "(32456, 15)"
      ]
     },
     "execution_count": 72,
     "metadata": {},
     "output_type": "execute_result"
    }
   ],
   "source": [
    "#saving copy of data for analysis\n",
    "data_copy = data.copy()\n",
    "\n",
    "# Final shape of the dataset\n",
    "data.shape"
   ]
  },
  {
   "cell_type": "code",
   "execution_count": 73,
   "metadata": {},
   "outputs": [
    {
     "name": "stdout",
     "output_type": "stream",
     "text": [
      "10% sample profiles copied from the dataset : \n",
      "10% profiles removed from the dataset... \n"
     ]
    }
   ],
   "source": [
    "# separate some sample profiles/records to test the trained models\n",
    "\n",
    "samples = data.tail(3246)\n",
    "print(\"10% sample profiles copied from the dataset : \")\n",
    "\n",
    "#delete the records from the dataset\n",
    "data = data.iloc[:-3246]\n",
    "print(\"10% profiles removed from the dataset... \")"
   ]
  },
  {
   "cell_type": "markdown",
   "metadata": {},
   "source": [
    "## Dataset preparation"
   ]
  },
  {
   "cell_type": "code",
   "execution_count": 74,
   "metadata": {},
   "outputs": [],
   "source": [
    "#save the values into two datasets - input and output\n",
    "\n",
    "\n",
    "#save the class variable\n",
    "status = data['Status']\n",
    "\n",
    "#save the remaining (predictor) attributes\n",
    "X = data.drop(['Status'], axis=1)\n"
   ]
  },
  {
   "cell_type": "code",
   "execution_count": 75,
   "metadata": {},
   "outputs": [
    {
     "data": {
      "text/html": [
       "<div>\n",
       "<style scoped>\n",
       "    .dataframe tbody tr th:only-of-type {\n",
       "        vertical-align: middle;\n",
       "    }\n",
       "\n",
       "    .dataframe tbody tr th {\n",
       "        vertical-align: top;\n",
       "    }\n",
       "\n",
       "    .dataframe thead th {\n",
       "        text-align: right;\n",
       "    }\n",
       "</style>\n",
       "<table border=\"1\" class=\"dataframe\">\n",
       "  <thead>\n",
       "    <tr style=\"text-align: right;\">\n",
       "      <th></th>\n",
       "      <th>Interest Rate</th>\n",
       "      <th>Loan Length</th>\n",
       "      <th>Monthly PAYMENT</th>\n",
       "      <th>Total Amount Funded</th>\n",
       "      <th>Debt-To-Income Ratio</th>\n",
       "      <th>Remaining Principal</th>\n",
       "      <th>Payments To Date</th>\n",
       "      <th>Monthly Income</th>\n",
       "      <th>FICO_Range</th>\n",
       "      <th>Open CREDIT Lines</th>\n",
       "      <th>Total CREDIT Lines</th>\n",
       "      <th>Revolving CREDIT Balance</th>\n",
       "      <th>Revolving Line Utilization</th>\n",
       "      <th>Employment_Length</th>\n",
       "    </tr>\n",
       "  </thead>\n",
       "  <tbody>\n",
       "    <tr>\n",
       "      <th>0</th>\n",
       "      <td>2</td>\n",
       "      <td>3</td>\n",
       "      <td>2</td>\n",
       "      <td>2</td>\n",
       "      <td>3</td>\n",
       "      <td>0</td>\n",
       "      <td>2</td>\n",
       "      <td>2</td>\n",
       "      <td>5</td>\n",
       "      <td>2</td>\n",
       "      <td>1</td>\n",
       "      <td>1</td>\n",
       "      <td>6</td>\n",
       "      <td>1</td>\n",
       "    </tr>\n",
       "    <tr>\n",
       "      <th>1</th>\n",
       "      <td>1</td>\n",
       "      <td>3</td>\n",
       "      <td>1</td>\n",
       "      <td>1</td>\n",
       "      <td>1</td>\n",
       "      <td>0</td>\n",
       "      <td>1</td>\n",
       "      <td>9</td>\n",
       "      <td>1</td>\n",
       "      <td>4</td>\n",
       "      <td>3</td>\n",
       "      <td>6</td>\n",
       "      <td>1</td>\n",
       "      <td>1</td>\n",
       "    </tr>\n",
       "    <tr>\n",
       "      <th>2</th>\n",
       "      <td>1</td>\n",
       "      <td>3</td>\n",
       "      <td>1</td>\n",
       "      <td>1</td>\n",
       "      <td>1</td>\n",
       "      <td>0</td>\n",
       "      <td>1</td>\n",
       "      <td>9</td>\n",
       "      <td>3</td>\n",
       "      <td>3</td>\n",
       "      <td>2</td>\n",
       "      <td>1</td>\n",
       "      <td>2</td>\n",
       "      <td>1</td>\n",
       "    </tr>\n",
       "    <tr>\n",
       "      <th>3</th>\n",
       "      <td>2</td>\n",
       "      <td>3</td>\n",
       "      <td>2</td>\n",
       "      <td>2</td>\n",
       "      <td>2</td>\n",
       "      <td>0</td>\n",
       "      <td>2</td>\n",
       "      <td>2</td>\n",
       "      <td>4</td>\n",
       "      <td>2</td>\n",
       "      <td>1</td>\n",
       "      <td>1</td>\n",
       "      <td>3</td>\n",
       "      <td>4</td>\n",
       "    </tr>\n",
       "    <tr>\n",
       "      <th>4</th>\n",
       "      <td>1</td>\n",
       "      <td>3</td>\n",
       "      <td>1</td>\n",
       "      <td>1</td>\n",
       "      <td>3</td>\n",
       "      <td>0</td>\n",
       "      <td>1</td>\n",
       "      <td>9</td>\n",
       "      <td>2</td>\n",
       "      <td>3</td>\n",
       "      <td>4</td>\n",
       "      <td>1</td>\n",
       "      <td>2</td>\n",
       "      <td>5</td>\n",
       "    </tr>\n",
       "    <tr>\n",
       "      <th>...</th>\n",
       "      <td>...</td>\n",
       "      <td>...</td>\n",
       "      <td>...</td>\n",
       "      <td>...</td>\n",
       "      <td>...</td>\n",
       "      <td>...</td>\n",
       "      <td>...</td>\n",
       "      <td>...</td>\n",
       "      <td>...</td>\n",
       "      <td>...</td>\n",
       "      <td>...</td>\n",
       "      <td>...</td>\n",
       "      <td>...</td>\n",
       "      <td>...</td>\n",
       "    </tr>\n",
       "    <tr>\n",
       "      <th>30288</th>\n",
       "      <td>4</td>\n",
       "      <td>5</td>\n",
       "      <td>4</td>\n",
       "      <td>6</td>\n",
       "      <td>4</td>\n",
       "      <td>6</td>\n",
       "      <td>1</td>\n",
       "      <td>7</td>\n",
       "      <td>4</td>\n",
       "      <td>2</td>\n",
       "      <td>4</td>\n",
       "      <td>2</td>\n",
       "      <td>8</td>\n",
       "      <td>11</td>\n",
       "    </tr>\n",
       "    <tr>\n",
       "      <th>30289</th>\n",
       "      <td>1</td>\n",
       "      <td>5</td>\n",
       "      <td>2</td>\n",
       "      <td>3</td>\n",
       "      <td>3</td>\n",
       "      <td>3</td>\n",
       "      <td>1</td>\n",
       "      <td>9</td>\n",
       "      <td>2</td>\n",
       "      <td>4</td>\n",
       "      <td>5</td>\n",
       "      <td>6</td>\n",
       "      <td>5</td>\n",
       "      <td>6</td>\n",
       "    </tr>\n",
       "    <tr>\n",
       "      <th>30290</th>\n",
       "      <td>2</td>\n",
       "      <td>5</td>\n",
       "      <td>2</td>\n",
       "      <td>3</td>\n",
       "      <td>5</td>\n",
       "      <td>3</td>\n",
       "      <td>1</td>\n",
       "      <td>3</td>\n",
       "      <td>4</td>\n",
       "      <td>3</td>\n",
       "      <td>2</td>\n",
       "      <td>2</td>\n",
       "      <td>4</td>\n",
       "      <td>7</td>\n",
       "    </tr>\n",
       "    <tr>\n",
       "      <th>30291</th>\n",
       "      <td>2</td>\n",
       "      <td>3</td>\n",
       "      <td>3</td>\n",
       "      <td>3</td>\n",
       "      <td>2</td>\n",
       "      <td>3</td>\n",
       "      <td>1</td>\n",
       "      <td>9</td>\n",
       "      <td>4</td>\n",
       "      <td>2</td>\n",
       "      <td>3</td>\n",
       "      <td>1</td>\n",
       "      <td>4</td>\n",
       "      <td>9</td>\n",
       "    </tr>\n",
       "    <tr>\n",
       "      <th>30292</th>\n",
       "      <td>1</td>\n",
       "      <td>3</td>\n",
       "      <td>1</td>\n",
       "      <td>1</td>\n",
       "      <td>2</td>\n",
       "      <td>1</td>\n",
       "      <td>1</td>\n",
       "      <td>2</td>\n",
       "      <td>3</td>\n",
       "      <td>1</td>\n",
       "      <td>1</td>\n",
       "      <td>1</td>\n",
       "      <td>6</td>\n",
       "      <td>2</td>\n",
       "    </tr>\n",
       "  </tbody>\n",
       "</table>\n",
       "<p>29210 rows × 14 columns</p>\n",
       "</div>"
      ],
      "text/plain": [
       "      Interest Rate Loan Length Monthly PAYMENT Total Amount Funded  \\\n",
       "0                 2           3               2                   2   \n",
       "1                 1           3               1                   1   \n",
       "2                 1           3               1                   1   \n",
       "3                 2           3               2                   2   \n",
       "4                 1           3               1                   1   \n",
       "...             ...         ...             ...                 ...   \n",
       "30288             4           5               4                   6   \n",
       "30289             1           5               2                   3   \n",
       "30290             2           5               2                   3   \n",
       "30291             2           3               3                   3   \n",
       "30292             1           3               1                   1   \n",
       "\n",
       "      Debt-To-Income Ratio Remaining Principal   Payments To Date  \\\n",
       "0                        3                    0                 2   \n",
       "1                        1                    0                 1   \n",
       "2                        1                    0                 1   \n",
       "3                        2                    0                 2   \n",
       "4                        3                    0                 1   \n",
       "...                    ...                  ...               ...   \n",
       "30288                    4                    6                 1   \n",
       "30289                    3                    3                 1   \n",
       "30290                    5                    3                 1   \n",
       "30291                    2                    3                 1   \n",
       "30292                    2                    1                 1   \n",
       "\n",
       "      Monthly Income  FICO_Range Open CREDIT Lines Total CREDIT Lines  \\\n",
       "0                  2           5                 2                  1   \n",
       "1                  9           1                 4                  3   \n",
       "2                  9           3                 3                  2   \n",
       "3                  2           4                 2                  1   \n",
       "4                  9           2                 3                  4   \n",
       "...              ...         ...               ...                ...   \n",
       "30288              7           4                 2                  4   \n",
       "30289              9           2                 4                  5   \n",
       "30290              3           4                 3                  2   \n",
       "30291              9           4                 2                  3   \n",
       "30292              2           3                 1                  1   \n",
       "\n",
       "      Revolving CREDIT Balance Revolving Line Utilization  Employment_Length  \n",
       "0                            1                          6                  1  \n",
       "1                            6                          1                  1  \n",
       "2                            1                          2                  1  \n",
       "3                            1                          3                  4  \n",
       "4                            1                          2                  5  \n",
       "...                        ...                        ...                ...  \n",
       "30288                        2                          8                 11  \n",
       "30289                        6                          5                  6  \n",
       "30290                        2                          4                  7  \n",
       "30291                        1                          4                  9  \n",
       "30292                        1                          6                  2  \n",
       "\n",
       "[29210 rows x 14 columns]"
      ]
     },
     "execution_count": 75,
     "metadata": {},
     "output_type": "execute_result"
    }
   ],
   "source": [
    "# Display the dataset\n",
    "X"
   ]
  },
  {
   "cell_type": "markdown",
   "metadata": {},
   "source": [
    "# Naive Bayes Models' performance "
   ]
  },
  {
   "cell_type": "code",
   "execution_count": 76,
   "metadata": {
    "scrolled": true
   },
   "outputs": [
    {
     "name": "stdout",
     "output_type": "stream",
     "text": [
      "Calculating accuracies on various parameters : \n",
      "Accuracy of the Naive Bayes Model on train data at 0.1 :  0.9387956940165088\n",
      "Accuracy of the Naive Bayes Model on test data at 0.1 :  0.9298185552892845\n",
      "\n",
      "Accuracy of the Naive Bayes Model on train data at 0.2 :  0.9391903457719959\n",
      "Accuracy of the Naive Bayes Model on test data at 0.2 :  0.9318726463539884\n",
      "\n",
      "Accuracy of the Naive Bayes Model on train data at 0.3 :  0.9394532205213478\n",
      "Accuracy of the Naive Bayes Model on test data at 0.3 :  0.933127924226863\n",
      "\n",
      "Accuracy of the Naive Bayes Model on train data at 0.4 :  0.9391760812507133\n",
      "Accuracy of the Naive Bayes Model on test data at 0.4 :  0.9346114344402602\n",
      "\n",
      "Accuracy of the Naive Bayes Model on train data at 0.5 :  0.9394043135912359\n",
      "Accuracy of the Naive Bayes Model on test data at 0.5 :  0.9348853132488874\n",
      "\n"
     ]
    }
   ],
   "source": [
    "#varible test-data sizes\n",
    "test_list=[0.1, 0.2, 0.3, 0.4, 0.5]\n",
    "\n",
    "print(\"Calculating accuracies on various parameters : \")\n",
    "for num in test_list:   \n",
    "        #split the dataset into train-test\n",
    "        X_train, X_test, y_train, y_test = train_test_split(X, status, test_size=num, random_state=1)\n",
    "\n",
    "        #create a model object\n",
    "        CNB1 = CategoricalNB()\n",
    "\n",
    "        #train the model\n",
    "        CNB1.fit(X_train,y_train)\n",
    "\n",
    "        #make predictions\n",
    "        CNBPredict_train1 = CNB1.predict(X_train)\n",
    "        CNBPredict_test1 = CNB1.predict(X_test)\n",
    "\n",
    "        #calculate the accuracy of the model\n",
    "        Accuracy_train = metrics.accuracy_score(y_train,CNBPredict_train1)\n",
    "        Accuracy_test = metrics.accuracy_score(y_test,CNBPredict_test1)\n",
    "\n",
    "        print(\"Accuracy of the Naive Bayes Model on train data at\",num,\": \",Accuracy_train)\n",
    "        print(\"Accuracy of the Naive Bayes Model on test data at\",num,\": \",Accuracy_test)\n",
    "        print(\"\")"
   ]
  },
  {
   "cell_type": "markdown",
   "metadata": {},
   "source": [
    "# Build the model with the best parameters"
   ]
  },
  {
   "cell_type": "code",
   "execution_count": 77,
   "metadata": {},
   "outputs": [
    {
     "name": "stdout",
     "output_type": "stream",
     "text": [
      "Accuracy of the Naive Bayes Model on train data at 0.5 :  0.939\n",
      "Accuracy of the Naive Bayes Model on test data at 0.5 :  0.935\n"
     ]
    }
   ],
   "source": [
    "#split the dataset in the best case\n",
    "t=0.5 # test split ratio\n",
    "X_train, X_test, y_train, y_test = train_test_split(X, status, test_size=t, random_state=1)\n",
    "\n",
    "#create a model object\n",
    "CNB1 = CategoricalNB()\n",
    "\n",
    "#train the model\n",
    "CNB1.fit(X_train,y_train)\n",
    "\n",
    "#make predictions\n",
    "CNBPredict_train1 = CNB1.predict(X_train)\n",
    "CNBPredict_test1 = CNB1.predict(X_test)\n",
    "\n",
    "#caluclate accuracy \n",
    "Accuracy_train = metrics.accuracy_score(y_train, CNBPredict_train1)\n",
    "Accuracy_test = metrics.accuracy_score(y_test, CNBPredict_test1)\n",
    "\n",
    "#display accuracy\n",
    "\n",
    "print(\"Accuracy of the Naive Bayes Model on train data at\",t,\": \",round(Accuracy_train,3))\n",
    "print(\"Accuracy of the Naive Bayes Model on test data at\",t,\": \",round(Accuracy_test,3))"
   ]
  },
  {
   "cell_type": "markdown",
   "metadata": {},
   "source": [
    "# Testing sample profiles on the trained models"
   ]
  },
  {
   "cell_type": "code",
   "execution_count": 78,
   "metadata": {},
   "outputs": [
    {
     "data": {
      "text/html": [
       "<div>\n",
       "<style scoped>\n",
       "    .dataframe tbody tr th:only-of-type {\n",
       "        vertical-align: middle;\n",
       "    }\n",
       "\n",
       "    .dataframe tbody tr th {\n",
       "        vertical-align: top;\n",
       "    }\n",
       "\n",
       "    .dataframe thead th {\n",
       "        text-align: right;\n",
       "    }\n",
       "</style>\n",
       "<table border=\"1\" class=\"dataframe\">\n",
       "  <thead>\n",
       "    <tr style=\"text-align: right;\">\n",
       "      <th></th>\n",
       "      <th>Interest Rate</th>\n",
       "      <th>Loan Length</th>\n",
       "      <th>Monthly PAYMENT</th>\n",
       "      <th>Status</th>\n",
       "      <th>Total Amount Funded</th>\n",
       "      <th>Debt-To-Income Ratio</th>\n",
       "      <th>Remaining Principal</th>\n",
       "      <th>Payments To Date</th>\n",
       "      <th>Monthly Income</th>\n",
       "      <th>FICO_Range</th>\n",
       "      <th>Open CREDIT Lines</th>\n",
       "      <th>Total CREDIT Lines</th>\n",
       "      <th>Revolving CREDIT Balance</th>\n",
       "      <th>Revolving Line Utilization</th>\n",
       "      <th>Employment_Length</th>\n",
       "    </tr>\n",
       "  </thead>\n",
       "  <tbody>\n",
       "    <tr>\n",
       "      <th>30293</th>\n",
       "      <td>3</td>\n",
       "      <td>3</td>\n",
       "      <td>2</td>\n",
       "      <td>1</td>\n",
       "      <td>2</td>\n",
       "      <td>4</td>\n",
       "      <td>2</td>\n",
       "      <td>1</td>\n",
       "      <td>4</td>\n",
       "      <td>5</td>\n",
       "      <td>2</td>\n",
       "      <td>2</td>\n",
       "      <td>1</td>\n",
       "      <td>10</td>\n",
       "      <td>11</td>\n",
       "    </tr>\n",
       "    <tr>\n",
       "      <th>30294</th>\n",
       "      <td>1</td>\n",
       "      <td>3</td>\n",
       "      <td>1</td>\n",
       "      <td>1</td>\n",
       "      <td>1</td>\n",
       "      <td>3</td>\n",
       "      <td>1</td>\n",
       "      <td>1</td>\n",
       "      <td>5</td>\n",
       "      <td>3</td>\n",
       "      <td>3</td>\n",
       "      <td>2</td>\n",
       "      <td>1</td>\n",
       "      <td>4</td>\n",
       "      <td>2</td>\n",
       "    </tr>\n",
       "    <tr>\n",
       "      <th>30295</th>\n",
       "      <td>2</td>\n",
       "      <td>3</td>\n",
       "      <td>6</td>\n",
       "      <td>1</td>\n",
       "      <td>7</td>\n",
       "      <td>3</td>\n",
       "      <td>7</td>\n",
       "      <td>1</td>\n",
       "      <td>9</td>\n",
       "      <td>2</td>\n",
       "      <td>5</td>\n",
       "      <td>8</td>\n",
       "      <td>1</td>\n",
       "      <td>2</td>\n",
       "      <td>11</td>\n",
       "    </tr>\n",
       "    <tr>\n",
       "      <th>30296</th>\n",
       "      <td>2</td>\n",
       "      <td>3</td>\n",
       "      <td>4</td>\n",
       "      <td>1</td>\n",
       "      <td>4</td>\n",
       "      <td>3</td>\n",
       "      <td>4</td>\n",
       "      <td>1</td>\n",
       "      <td>7</td>\n",
       "      <td>3</td>\n",
       "      <td>3</td>\n",
       "      <td>2</td>\n",
       "      <td>1</td>\n",
       "      <td>1</td>\n",
       "      <td>6</td>\n",
       "    </tr>\n",
       "    <tr>\n",
       "      <th>30297</th>\n",
       "      <td>2</td>\n",
       "      <td>3</td>\n",
       "      <td>1</td>\n",
       "      <td>1</td>\n",
       "      <td>1</td>\n",
       "      <td>3</td>\n",
       "      <td>1</td>\n",
       "      <td>1</td>\n",
       "      <td>5</td>\n",
       "      <td>4</td>\n",
       "      <td>2</td>\n",
       "      <td>2</td>\n",
       "      <td>1</td>\n",
       "      <td>5</td>\n",
       "      <td>6</td>\n",
       "    </tr>\n",
       "    <tr>\n",
       "      <th>...</th>\n",
       "      <td>...</td>\n",
       "      <td>...</td>\n",
       "      <td>...</td>\n",
       "      <td>...</td>\n",
       "      <td>...</td>\n",
       "      <td>...</td>\n",
       "      <td>...</td>\n",
       "      <td>...</td>\n",
       "      <td>...</td>\n",
       "      <td>...</td>\n",
       "      <td>...</td>\n",
       "      <td>...</td>\n",
       "      <td>...</td>\n",
       "      <td>...</td>\n",
       "      <td>...</td>\n",
       "    </tr>\n",
       "    <tr>\n",
       "      <th>36391</th>\n",
       "      <td>2</td>\n",
       "      <td>5</td>\n",
       "      <td>1</td>\n",
       "      <td>1</td>\n",
       "      <td>1</td>\n",
       "      <td>4</td>\n",
       "      <td>1</td>\n",
       "      <td>1</td>\n",
       "      <td>6</td>\n",
       "      <td>5</td>\n",
       "      <td>2</td>\n",
       "      <td>4</td>\n",
       "      <td>1</td>\n",
       "      <td>1</td>\n",
       "      <td>7</td>\n",
       "    </tr>\n",
       "    <tr>\n",
       "      <th>36392</th>\n",
       "      <td>3</td>\n",
       "      <td>3</td>\n",
       "      <td>1</td>\n",
       "      <td>1</td>\n",
       "      <td>1</td>\n",
       "      <td>4</td>\n",
       "      <td>1</td>\n",
       "      <td>1</td>\n",
       "      <td>4</td>\n",
       "      <td>5</td>\n",
       "      <td>1</td>\n",
       "      <td>1</td>\n",
       "      <td>1</td>\n",
       "      <td>9</td>\n",
       "      <td>6</td>\n",
       "    </tr>\n",
       "    <tr>\n",
       "      <th>36393</th>\n",
       "      <td>3</td>\n",
       "      <td>5</td>\n",
       "      <td>1</td>\n",
       "      <td>1</td>\n",
       "      <td>1</td>\n",
       "      <td>3</td>\n",
       "      <td>1</td>\n",
       "      <td>1</td>\n",
       "      <td>6</td>\n",
       "      <td>4</td>\n",
       "      <td>2</td>\n",
       "      <td>3</td>\n",
       "      <td>4</td>\n",
       "      <td>8</td>\n",
       "      <td>11</td>\n",
       "    </tr>\n",
       "    <tr>\n",
       "      <th>36394</th>\n",
       "      <td>3</td>\n",
       "      <td>5</td>\n",
       "      <td>3</td>\n",
       "      <td>1</td>\n",
       "      <td>4</td>\n",
       "      <td>3</td>\n",
       "      <td>4</td>\n",
       "      <td>1</td>\n",
       "      <td>9</td>\n",
       "      <td>5</td>\n",
       "      <td>2</td>\n",
       "      <td>4</td>\n",
       "      <td>2</td>\n",
       "      <td>9</td>\n",
       "      <td>11</td>\n",
       "    </tr>\n",
       "    <tr>\n",
       "      <th>36395</th>\n",
       "      <td>3</td>\n",
       "      <td>5</td>\n",
       "      <td>1</td>\n",
       "      <td>1</td>\n",
       "      <td>1</td>\n",
       "      <td>5</td>\n",
       "      <td>1</td>\n",
       "      <td>1</td>\n",
       "      <td>8</td>\n",
       "      <td>4</td>\n",
       "      <td>2</td>\n",
       "      <td>3</td>\n",
       "      <td>1</td>\n",
       "      <td>1</td>\n",
       "      <td>1</td>\n",
       "    </tr>\n",
       "  </tbody>\n",
       "</table>\n",
       "<p>3246 rows × 15 columns</p>\n",
       "</div>"
      ],
      "text/plain": [
       "      Interest Rate Loan Length Monthly PAYMENT  Status Total Amount Funded  \\\n",
       "30293             3           3               2       1                   2   \n",
       "30294             1           3               1       1                   1   \n",
       "30295             2           3               6       1                   7   \n",
       "30296             2           3               4       1                   4   \n",
       "30297             2           3               1       1                   1   \n",
       "...             ...         ...             ...     ...                 ...   \n",
       "36391             2           5               1       1                   1   \n",
       "36392             3           3               1       1                   1   \n",
       "36393             3           5               1       1                   1   \n",
       "36394             3           5               3       1                   4   \n",
       "36395             3           5               1       1                   1   \n",
       "\n",
       "      Debt-To-Income Ratio Remaining Principal   Payments To Date  \\\n",
       "30293                    4                    2                 1   \n",
       "30294                    3                    1                 1   \n",
       "30295                    3                    7                 1   \n",
       "30296                    3                    4                 1   \n",
       "30297                    3                    1                 1   \n",
       "...                    ...                  ...               ...   \n",
       "36391                    4                    1                 1   \n",
       "36392                    4                    1                 1   \n",
       "36393                    3                    1                 1   \n",
       "36394                    3                    4                 1   \n",
       "36395                    5                    1                 1   \n",
       "\n",
       "      Monthly Income  FICO_Range Open CREDIT Lines Total CREDIT Lines  \\\n",
       "30293              4           5                 2                  2   \n",
       "30294              5           3                 3                  2   \n",
       "30295              9           2                 5                  8   \n",
       "30296              7           3                 3                  2   \n",
       "30297              5           4                 2                  2   \n",
       "...              ...         ...               ...                ...   \n",
       "36391              6           5                 2                  4   \n",
       "36392              4           5                 1                  1   \n",
       "36393              6           4                 2                  3   \n",
       "36394              9           5                 2                  4   \n",
       "36395              8           4                 2                  3   \n",
       "\n",
       "      Revolving CREDIT Balance Revolving Line Utilization  Employment_Length  \n",
       "30293                        1                         10                 11  \n",
       "30294                        1                          4                  2  \n",
       "30295                        1                          2                 11  \n",
       "30296                        1                          1                  6  \n",
       "30297                        1                          5                  6  \n",
       "...                        ...                        ...                ...  \n",
       "36391                        1                          1                  7  \n",
       "36392                        1                          9                  6  \n",
       "36393                        4                          8                 11  \n",
       "36394                        2                          9                 11  \n",
       "36395                        1                          1                  1  \n",
       "\n",
       "[3246 rows x 15 columns]"
      ]
     },
     "execution_count": 78,
     "metadata": {},
     "output_type": "execute_result"
    }
   ],
   "source": [
    "# Display the sample records\n",
    "samples"
   ]
  },
  {
   "cell_type": "code",
   "execution_count": 79,
   "metadata": {
    "scrolled": true
   },
   "outputs": [],
   "source": [
    "#get the sample output separated\n",
    "sample_y=samples['Status']"
   ]
  },
  {
   "cell_type": "code",
   "execution_count": 80,
   "metadata": {
    "scrolled": true
   },
   "outputs": [
    {
     "name": "stdout",
     "output_type": "stream",
     "text": [
      "Remaining attributes of the sample profiles :\n",
      "Index(['Interest Rate', 'Loan Length', 'Monthly PAYMENT',\n",
      "       'Total Amount Funded', 'Debt-To-Income Ratio', 'Remaining Principal ',\n",
      "       ' Payments To Date', 'Monthly Income', 'FICO_Range',\n",
      "       'Open CREDIT Lines', 'Total CREDIT Lines', 'Revolving CREDIT Balance',\n",
      "       'Revolving Line Utilization', 'Employment_Length'],\n",
      "      dtype='object')\n"
     ]
    }
   ],
   "source": [
    "#remove the status attribute from the sample profiles\n",
    "samples_reduced = samples.drop('Status', axis=1)\n",
    "\n",
    "#display the remaining attributes\n",
    "print(\"Remaining attributes of the sample profiles :\")\n",
    "print(samples_reduced.columns)"
   ]
  },
  {
   "cell_type": "markdown",
   "metadata": {},
   "source": [
    "### Predict the classes for the sample features"
   ]
  },
  {
   "cell_type": "code",
   "execution_count": 83,
   "metadata": {},
   "outputs": [],
   "source": [
    "#make predictions\n",
    "# prediction = CNB1.predict(samples_reduced) # index out of bound error"
   ]
  },
  {
   "cell_type": "markdown",
   "metadata": {},
   "source": [
    "### Finding the accuracy for the sample dataset"
   ]
  },
  {
   "cell_type": "code",
   "execution_count": 84,
   "metadata": {},
   "outputs": [],
   "source": [
    "#Accuracy of the model on unseen data\n",
    "# Accuracy_sample = metrics.accuracy_score(sample_y,prediction)\n",
    "# print(\"Accuracy of the K Nearest Neighbor Model on sample data : \",round(Accuracy_sample,4))"
   ]
  },
  {
   "cell_type": "markdown",
   "metadata": {},
   "source": [
    "### Total count for each class in the original samples and predictions "
   ]
  },
  {
   "cell_type": "code",
   "execution_count": 85,
   "metadata": {
    "scrolled": true
   },
   "outputs": [],
   "source": [
    "#total number of counts for each status\n",
    "# sample_y.value_counts()"
   ]
  },
  {
   "cell_type": "code",
   "execution_count": 86,
   "metadata": {},
   "outputs": [],
   "source": [
    "#total number of counts for each prediction\n",
    "# np.array(np.unique(prediction, return_counts=True)).T"
   ]
  },
  {
   "cell_type": "markdown",
   "metadata": {},
   "source": [
    "# Using Startified sampling"
   ]
  },
  {
   "cell_type": "markdown",
   "metadata": {},
   "source": [
    "## Dataset preparation"
   ]
  },
  {
   "cell_type": "code",
   "execution_count": 87,
   "metadata": {},
   "outputs": [],
   "source": [
    "# perform stratified sampling with Python\n",
    "split = StratifiedShuffleSplit(n_splits=1, test_size=0.1, random_state=1)\n",
    "for sample_index, train_test_index in split.split(data_copy, data_copy['Status']):\n",
    "    train_test = data_copy.iloc[sample_index] # separate 10% profiles/records to test the trained models\n",
    "    samples = data_copy.iloc[train_test_index] # store 10% records in the samples"
   ]
  },
  {
   "cell_type": "code",
   "execution_count": 88,
   "metadata": {},
   "outputs": [],
   "source": [
    "# reset the samples of the train/test and samples\n",
    "train_test.reset_index(inplace=True,drop=True)\n",
    "samples.reset_index(inplace=True,drop=True)"
   ]
  },
  {
   "cell_type": "code",
   "execution_count": 89,
   "metadata": {},
   "outputs": [
    {
     "data": {
      "text/html": [
       "<div>\n",
       "<style scoped>\n",
       "    .dataframe tbody tr th:only-of-type {\n",
       "        vertical-align: middle;\n",
       "    }\n",
       "\n",
       "    .dataframe tbody tr th {\n",
       "        vertical-align: top;\n",
       "    }\n",
       "\n",
       "    .dataframe thead th {\n",
       "        text-align: right;\n",
       "    }\n",
       "</style>\n",
       "<table border=\"1\" class=\"dataframe\">\n",
       "  <thead>\n",
       "    <tr style=\"text-align: right;\">\n",
       "      <th></th>\n",
       "      <th>Interest Rate</th>\n",
       "      <th>Loan Length</th>\n",
       "      <th>Monthly PAYMENT</th>\n",
       "      <th>Status</th>\n",
       "      <th>Total Amount Funded</th>\n",
       "      <th>Debt-To-Income Ratio</th>\n",
       "      <th>Remaining Principal</th>\n",
       "      <th>Payments To Date</th>\n",
       "      <th>Monthly Income</th>\n",
       "      <th>FICO_Range</th>\n",
       "      <th>Open CREDIT Lines</th>\n",
       "      <th>Total CREDIT Lines</th>\n",
       "      <th>Revolving CREDIT Balance</th>\n",
       "      <th>Revolving Line Utilization</th>\n",
       "      <th>Employment_Length</th>\n",
       "    </tr>\n",
       "  </thead>\n",
       "  <tbody>\n",
       "    <tr>\n",
       "      <th>0</th>\n",
       "      <td>1</td>\n",
       "      <td>3</td>\n",
       "      <td>3</td>\n",
       "      <td>1</td>\n",
       "      <td>3</td>\n",
       "      <td>2</td>\n",
       "      <td>2</td>\n",
       "      <td>1</td>\n",
       "      <td>6</td>\n",
       "      <td>3</td>\n",
       "      <td>2</td>\n",
       "      <td>2</td>\n",
       "      <td>3</td>\n",
       "      <td>6</td>\n",
       "      <td>11</td>\n",
       "    </tr>\n",
       "    <tr>\n",
       "      <th>1</th>\n",
       "      <td>1</td>\n",
       "      <td>3</td>\n",
       "      <td>5</td>\n",
       "      <td>1</td>\n",
       "      <td>5</td>\n",
       "      <td>3</td>\n",
       "      <td>4</td>\n",
       "      <td>2</td>\n",
       "      <td>7</td>\n",
       "      <td>1</td>\n",
       "      <td>3</td>\n",
       "      <td>5</td>\n",
       "      <td>1</td>\n",
       "      <td>1</td>\n",
       "      <td>11</td>\n",
       "    </tr>\n",
       "    <tr>\n",
       "      <th>2</th>\n",
       "      <td>2</td>\n",
       "      <td>5</td>\n",
       "      <td>3</td>\n",
       "      <td>1</td>\n",
       "      <td>4</td>\n",
       "      <td>4</td>\n",
       "      <td>4</td>\n",
       "      <td>1</td>\n",
       "      <td>3</td>\n",
       "      <td>3</td>\n",
       "      <td>3</td>\n",
       "      <td>3</td>\n",
       "      <td>1</td>\n",
       "      <td>2</td>\n",
       "      <td>7</td>\n",
       "    </tr>\n",
       "    <tr>\n",
       "      <th>3</th>\n",
       "      <td>2</td>\n",
       "      <td>5</td>\n",
       "      <td>1</td>\n",
       "      <td>1</td>\n",
       "      <td>2</td>\n",
       "      <td>2</td>\n",
       "      <td>2</td>\n",
       "      <td>1</td>\n",
       "      <td>7</td>\n",
       "      <td>4</td>\n",
       "      <td>2</td>\n",
       "      <td>1</td>\n",
       "      <td>1</td>\n",
       "      <td>9</td>\n",
       "      <td>10</td>\n",
       "    </tr>\n",
       "    <tr>\n",
       "      <th>4</th>\n",
       "      <td>2</td>\n",
       "      <td>3</td>\n",
       "      <td>1</td>\n",
       "      <td>1</td>\n",
       "      <td>1</td>\n",
       "      <td>5</td>\n",
       "      <td>1</td>\n",
       "      <td>1</td>\n",
       "      <td>3</td>\n",
       "      <td>4</td>\n",
       "      <td>2</td>\n",
       "      <td>4</td>\n",
       "      <td>1</td>\n",
       "      <td>4</td>\n",
       "      <td>11</td>\n",
       "    </tr>\n",
       "    <tr>\n",
       "      <th>...</th>\n",
       "      <td>...</td>\n",
       "      <td>...</td>\n",
       "      <td>...</td>\n",
       "      <td>...</td>\n",
       "      <td>...</td>\n",
       "      <td>...</td>\n",
       "      <td>...</td>\n",
       "      <td>...</td>\n",
       "      <td>...</td>\n",
       "      <td>...</td>\n",
       "      <td>...</td>\n",
       "      <td>...</td>\n",
       "      <td>...</td>\n",
       "      <td>...</td>\n",
       "      <td>...</td>\n",
       "    </tr>\n",
       "    <tr>\n",
       "      <th>29205</th>\n",
       "      <td>2</td>\n",
       "      <td>3</td>\n",
       "      <td>2</td>\n",
       "      <td>0</td>\n",
       "      <td>2</td>\n",
       "      <td>3</td>\n",
       "      <td>0</td>\n",
       "      <td>2</td>\n",
       "      <td>6</td>\n",
       "      <td>4</td>\n",
       "      <td>3</td>\n",
       "      <td>3</td>\n",
       "      <td>1</td>\n",
       "      <td>2</td>\n",
       "      <td>5</td>\n",
       "    </tr>\n",
       "    <tr>\n",
       "      <th>29206</th>\n",
       "      <td>1</td>\n",
       "      <td>3</td>\n",
       "      <td>1</td>\n",
       "      <td>0</td>\n",
       "      <td>2</td>\n",
       "      <td>1</td>\n",
       "      <td>0</td>\n",
       "      <td>2</td>\n",
       "      <td>6</td>\n",
       "      <td>4</td>\n",
       "      <td>1</td>\n",
       "      <td>1</td>\n",
       "      <td>1</td>\n",
       "      <td>1</td>\n",
       "      <td>1</td>\n",
       "    </tr>\n",
       "    <tr>\n",
       "      <th>29207</th>\n",
       "      <td>2</td>\n",
       "      <td>5</td>\n",
       "      <td>1</td>\n",
       "      <td>1</td>\n",
       "      <td>1</td>\n",
       "      <td>5</td>\n",
       "      <td>1</td>\n",
       "      <td>1</td>\n",
       "      <td>4</td>\n",
       "      <td>4</td>\n",
       "      <td>3</td>\n",
       "      <td>3</td>\n",
       "      <td>1</td>\n",
       "      <td>6</td>\n",
       "      <td>1</td>\n",
       "    </tr>\n",
       "    <tr>\n",
       "      <th>29208</th>\n",
       "      <td>3</td>\n",
       "      <td>5</td>\n",
       "      <td>2</td>\n",
       "      <td>1</td>\n",
       "      <td>3</td>\n",
       "      <td>4</td>\n",
       "      <td>3</td>\n",
       "      <td>1</td>\n",
       "      <td>4</td>\n",
       "      <td>4</td>\n",
       "      <td>3</td>\n",
       "      <td>3</td>\n",
       "      <td>2</td>\n",
       "      <td>8</td>\n",
       "      <td>3</td>\n",
       "    </tr>\n",
       "    <tr>\n",
       "      <th>29209</th>\n",
       "      <td>2</td>\n",
       "      <td>3</td>\n",
       "      <td>1</td>\n",
       "      <td>1</td>\n",
       "      <td>1</td>\n",
       "      <td>4</td>\n",
       "      <td>1</td>\n",
       "      <td>1</td>\n",
       "      <td>2</td>\n",
       "      <td>5</td>\n",
       "      <td>1</td>\n",
       "      <td>1</td>\n",
       "      <td>1</td>\n",
       "      <td>4</td>\n",
       "      <td>2</td>\n",
       "    </tr>\n",
       "  </tbody>\n",
       "</table>\n",
       "<p>29210 rows × 15 columns</p>\n",
       "</div>"
      ],
      "text/plain": [
       "      Interest Rate Loan Length Monthly PAYMENT  Status Total Amount Funded  \\\n",
       "0                 1           3               3       1                   3   \n",
       "1                 1           3               5       1                   5   \n",
       "2                 2           5               3       1                   4   \n",
       "3                 2           5               1       1                   2   \n",
       "4                 2           3               1       1                   1   \n",
       "...             ...         ...             ...     ...                 ...   \n",
       "29205             2           3               2       0                   2   \n",
       "29206             1           3               1       0                   2   \n",
       "29207             2           5               1       1                   1   \n",
       "29208             3           5               2       1                   3   \n",
       "29209             2           3               1       1                   1   \n",
       "\n",
       "      Debt-To-Income Ratio Remaining Principal   Payments To Date  \\\n",
       "0                        2                    2                 1   \n",
       "1                        3                    4                 2   \n",
       "2                        4                    4                 1   \n",
       "3                        2                    2                 1   \n",
       "4                        5                    1                 1   \n",
       "...                    ...                  ...               ...   \n",
       "29205                    3                    0                 2   \n",
       "29206                    1                    0                 2   \n",
       "29207                    5                    1                 1   \n",
       "29208                    4                    3                 1   \n",
       "29209                    4                    1                 1   \n",
       "\n",
       "      Monthly Income  FICO_Range Open CREDIT Lines Total CREDIT Lines  \\\n",
       "0                  6           3                 2                  2   \n",
       "1                  7           1                 3                  5   \n",
       "2                  3           3                 3                  3   \n",
       "3                  7           4                 2                  1   \n",
       "4                  3           4                 2                  4   \n",
       "...              ...         ...               ...                ...   \n",
       "29205              6           4                 3                  3   \n",
       "29206              6           4                 1                  1   \n",
       "29207              4           4                 3                  3   \n",
       "29208              4           4                 3                  3   \n",
       "29209              2           5                 1                  1   \n",
       "\n",
       "      Revolving CREDIT Balance Revolving Line Utilization  Employment_Length  \n",
       "0                            3                          6                 11  \n",
       "1                            1                          1                 11  \n",
       "2                            1                          2                  7  \n",
       "3                            1                          9                 10  \n",
       "4                            1                          4                 11  \n",
       "...                        ...                        ...                ...  \n",
       "29205                        1                          2                  5  \n",
       "29206                        1                          1                  1  \n",
       "29207                        1                          6                  1  \n",
       "29208                        2                          8                  3  \n",
       "29209                        1                          4                  2  \n",
       "\n",
       "[29210 rows x 15 columns]"
      ]
     },
     "execution_count": 89,
     "metadata": {},
     "output_type": "execute_result"
    }
   ],
   "source": [
    "# Display the dataset\n",
    "train_test"
   ]
  },
  {
   "cell_type": "code",
   "execution_count": 90,
   "metadata": {},
   "outputs": [],
   "source": [
    "#save the class variable\n",
    "status = train_test['Status']\n",
    "\n",
    "#save the remaining (predictor) attributes\n",
    "X = train_test.drop(['Status'], axis=1)\n"
   ]
  },
  {
   "cell_type": "markdown",
   "metadata": {},
   "source": [
    "# Naive Bayes Models' performance "
   ]
  },
  {
   "cell_type": "code",
   "execution_count": 91,
   "metadata": {
    "scrolled": true
   },
   "outputs": [
    {
     "name": "stdout",
     "output_type": "stream",
     "text": [
      "Calculating accuracies on various parameters : \n",
      "Accuracy of the Naive Bayes Model on train data at 0.1 :  0.926\n",
      "Accuracy of the Naive Bayes Model on test data at 0.1 :  0.926\n",
      "\n",
      "Accuracy of the Naive Bayes Model on train data at 0.2 :  0.925\n",
      "Accuracy of the Naive Bayes Model on test data at 0.2 :  0.931\n",
      "\n",
      "Accuracy of the Naive Bayes Model on train data at 0.3 :  0.924\n",
      "Accuracy of the Naive Bayes Model on test data at 0.3 :  0.928\n",
      "\n",
      "Accuracy of the Naive Bayes Model on train data at 0.4 :  0.924\n",
      "Accuracy of the Naive Bayes Model on test data at 0.4 :  0.925\n",
      "\n",
      "Accuracy of the Naive Bayes Model on train data at 0.5 :  0.924\n",
      "Accuracy of the Naive Bayes Model on test data at 0.5 :  0.925\n",
      "\n"
     ]
    }
   ],
   "source": [
    "#varible test-data sizes\n",
    "test_list=[0.1, 0.2, 0.3, 0.4, 0.5]\n",
    "\n",
    "print(\"Calculating accuracies on various parameters : \")\n",
    "for num in test_list:   \n",
    "        #split the dataset into train-test\n",
    "        X_train, X_test, y_train, y_test = train_test_split(X, status, test_size=num, random_state=1)\n",
    "\n",
    "        #create a model object\n",
    "        CNB = CategoricalNB()\n",
    "\n",
    "        #train the model\n",
    "        CNB.fit(X_train,y_train)\n",
    "\n",
    "        #make predictions\n",
    "        CNBPredict_train = CNB.predict(X_train)\n",
    "        CNBPredict_test = CNB.predict(X_test)\n",
    "\n",
    "        #calculate the accuracy of the model\n",
    "        Accuracy_train = metrics.accuracy_score(y_train,CNBPredict_train)\n",
    "        Accuracy_test = metrics.accuracy_score(y_test,CNBPredict_test)\n",
    "\n",
    "        print(\"Accuracy of the Naive Bayes Model on train data at\",num,\": \",round(Accuracy_train,3))\n",
    "        print(\"Accuracy of the Naive Bayes Model on test data at\",num,\": \",round(Accuracy_test,3))\n",
    "        print(\"\")"
   ]
  },
  {
   "cell_type": "markdown",
   "metadata": {},
   "source": [
    "# Build the model with the best parameters"
   ]
  },
  {
   "cell_type": "code",
   "execution_count": 92,
   "metadata": {},
   "outputs": [
    {
     "name": "stdout",
     "output_type": "stream",
     "text": [
      "Accuracy of the Naive Bayes Model on train data at 0.2 :  0.925\n",
      "Accuracy of the Naive Bayes Model on test data at 0.2 :  0.931\n"
     ]
    }
   ],
   "source": [
    "#split the dataset in the best case\n",
    "t=0.2 # test split ratio\n",
    "X_train, X_test, y_train, y_test = train_test_split(X, status, test_size=t, random_state=1)\n",
    "\n",
    "#create a model object\n",
    "CNB = CategoricalNB()\n",
    "\n",
    "#train the model\n",
    "CNB.fit(X_train,y_train)\n",
    "\n",
    "#make predictions\n",
    "CNBPredict_train = CNB.predict(X_train)\n",
    "CNBPredict_test = CNB.predict(X_test)\n",
    "\n",
    "#caluclate accuracy \n",
    "Accuracy_train = metrics.accuracy_score(y_train, CNBPredict_train)\n",
    "Accuracy_test = metrics.accuracy_score(y_test, CNBPredict_test)\n",
    "\n",
    "#display accuracy\n",
    "\n",
    "print(\"Accuracy of the Naive Bayes Model on train data at\",t,\": \",round(Accuracy_train,3))\n",
    "print(\"Accuracy of the Naive Bayes Model on test data at\",t,\": \",round(Accuracy_test,3))"
   ]
  },
  {
   "cell_type": "markdown",
   "metadata": {},
   "source": [
    "# Testing sample profiles on the trained models"
   ]
  },
  {
   "cell_type": "code",
   "execution_count": 93,
   "metadata": {},
   "outputs": [
    {
     "data": {
      "text/html": [
       "<div>\n",
       "<style scoped>\n",
       "    .dataframe tbody tr th:only-of-type {\n",
       "        vertical-align: middle;\n",
       "    }\n",
       "\n",
       "    .dataframe tbody tr th {\n",
       "        vertical-align: top;\n",
       "    }\n",
       "\n",
       "    .dataframe thead th {\n",
       "        text-align: right;\n",
       "    }\n",
       "</style>\n",
       "<table border=\"1\" class=\"dataframe\">\n",
       "  <thead>\n",
       "    <tr style=\"text-align: right;\">\n",
       "      <th></th>\n",
       "      <th>Interest Rate</th>\n",
       "      <th>Loan Length</th>\n",
       "      <th>Monthly PAYMENT</th>\n",
       "      <th>Status</th>\n",
       "      <th>Total Amount Funded</th>\n",
       "      <th>Debt-To-Income Ratio</th>\n",
       "      <th>Remaining Principal</th>\n",
       "      <th>Payments To Date</th>\n",
       "      <th>Monthly Income</th>\n",
       "      <th>FICO_Range</th>\n",
       "      <th>Open CREDIT Lines</th>\n",
       "      <th>Total CREDIT Lines</th>\n",
       "      <th>Revolving CREDIT Balance</th>\n",
       "      <th>Revolving Line Utilization</th>\n",
       "      <th>Employment_Length</th>\n",
       "    </tr>\n",
       "  </thead>\n",
       "  <tbody>\n",
       "    <tr>\n",
       "      <th>0</th>\n",
       "      <td>1</td>\n",
       "      <td>3</td>\n",
       "      <td>1</td>\n",
       "      <td>0</td>\n",
       "      <td>1</td>\n",
       "      <td>2</td>\n",
       "      <td>0</td>\n",
       "      <td>1</td>\n",
       "      <td>7</td>\n",
       "      <td>3</td>\n",
       "      <td>2</td>\n",
       "      <td>3</td>\n",
       "      <td>3</td>\n",
       "      <td>8</td>\n",
       "      <td>2</td>\n",
       "    </tr>\n",
       "    <tr>\n",
       "      <th>1</th>\n",
       "      <td>2</td>\n",
       "      <td>3</td>\n",
       "      <td>1</td>\n",
       "      <td>0</td>\n",
       "      <td>1</td>\n",
       "      <td>2</td>\n",
       "      <td>0</td>\n",
       "      <td>1</td>\n",
       "      <td>5</td>\n",
       "      <td>3</td>\n",
       "      <td>3</td>\n",
       "      <td>3</td>\n",
       "      <td>1</td>\n",
       "      <td>1</td>\n",
       "      <td>11</td>\n",
       "    </tr>\n",
       "    <tr>\n",
       "      <th>2</th>\n",
       "      <td>2</td>\n",
       "      <td>5</td>\n",
       "      <td>1</td>\n",
       "      <td>1</td>\n",
       "      <td>2</td>\n",
       "      <td>2</td>\n",
       "      <td>2</td>\n",
       "      <td>1</td>\n",
       "      <td>7</td>\n",
       "      <td>3</td>\n",
       "      <td>3</td>\n",
       "      <td>4</td>\n",
       "      <td>2</td>\n",
       "      <td>6</td>\n",
       "      <td>11</td>\n",
       "    </tr>\n",
       "    <tr>\n",
       "      <th>3</th>\n",
       "      <td>2</td>\n",
       "      <td>3</td>\n",
       "      <td>2</td>\n",
       "      <td>1</td>\n",
       "      <td>2</td>\n",
       "      <td>4</td>\n",
       "      <td>1</td>\n",
       "      <td>2</td>\n",
       "      <td>5</td>\n",
       "      <td>4</td>\n",
       "      <td>3</td>\n",
       "      <td>2</td>\n",
       "      <td>2</td>\n",
       "      <td>8</td>\n",
       "      <td>5</td>\n",
       "    </tr>\n",
       "    <tr>\n",
       "      <th>4</th>\n",
       "      <td>2</td>\n",
       "      <td>3</td>\n",
       "      <td>1</td>\n",
       "      <td>0</td>\n",
       "      <td>1</td>\n",
       "      <td>3</td>\n",
       "      <td>0</td>\n",
       "      <td>1</td>\n",
       "      <td>5</td>\n",
       "      <td>4</td>\n",
       "      <td>2</td>\n",
       "      <td>3</td>\n",
       "      <td>2</td>\n",
       "      <td>10</td>\n",
       "      <td>9</td>\n",
       "    </tr>\n",
       "    <tr>\n",
       "      <th>...</th>\n",
       "      <td>...</td>\n",
       "      <td>...</td>\n",
       "      <td>...</td>\n",
       "      <td>...</td>\n",
       "      <td>...</td>\n",
       "      <td>...</td>\n",
       "      <td>...</td>\n",
       "      <td>...</td>\n",
       "      <td>...</td>\n",
       "      <td>...</td>\n",
       "      <td>...</td>\n",
       "      <td>...</td>\n",
       "      <td>...</td>\n",
       "      <td>...</td>\n",
       "      <td>...</td>\n",
       "    </tr>\n",
       "    <tr>\n",
       "      <th>3241</th>\n",
       "      <td>3</td>\n",
       "      <td>5</td>\n",
       "      <td>2</td>\n",
       "      <td>1</td>\n",
       "      <td>2</td>\n",
       "      <td>1</td>\n",
       "      <td>2</td>\n",
       "      <td>1</td>\n",
       "      <td>9</td>\n",
       "      <td>4</td>\n",
       "      <td>2</td>\n",
       "      <td>3</td>\n",
       "      <td>2</td>\n",
       "      <td>7</td>\n",
       "      <td>11</td>\n",
       "    </tr>\n",
       "    <tr>\n",
       "      <th>3242</th>\n",
       "      <td>2</td>\n",
       "      <td>3</td>\n",
       "      <td>2</td>\n",
       "      <td>5</td>\n",
       "      <td>2</td>\n",
       "      <td>4</td>\n",
       "      <td>2</td>\n",
       "      <td>1</td>\n",
       "      <td>3</td>\n",
       "      <td>4</td>\n",
       "      <td>4</td>\n",
       "      <td>3</td>\n",
       "      <td>1</td>\n",
       "      <td>1</td>\n",
       "      <td>1</td>\n",
       "    </tr>\n",
       "    <tr>\n",
       "      <th>3243</th>\n",
       "      <td>2</td>\n",
       "      <td>5</td>\n",
       "      <td>2</td>\n",
       "      <td>1</td>\n",
       "      <td>4</td>\n",
       "      <td>2</td>\n",
       "      <td>3</td>\n",
       "      <td>1</td>\n",
       "      <td>8</td>\n",
       "      <td>3</td>\n",
       "      <td>2</td>\n",
       "      <td>2</td>\n",
       "      <td>2</td>\n",
       "      <td>7</td>\n",
       "      <td>11</td>\n",
       "    </tr>\n",
       "    <tr>\n",
       "      <th>3244</th>\n",
       "      <td>2</td>\n",
       "      <td>5</td>\n",
       "      <td>1</td>\n",
       "      <td>1</td>\n",
       "      <td>2</td>\n",
       "      <td>3</td>\n",
       "      <td>2</td>\n",
       "      <td>1</td>\n",
       "      <td>7</td>\n",
       "      <td>4</td>\n",
       "      <td>2</td>\n",
       "      <td>7</td>\n",
       "      <td>3</td>\n",
       "      <td>5</td>\n",
       "      <td>4</td>\n",
       "    </tr>\n",
       "    <tr>\n",
       "      <th>3245</th>\n",
       "      <td>2</td>\n",
       "      <td>3</td>\n",
       "      <td>3</td>\n",
       "      <td>0</td>\n",
       "      <td>3</td>\n",
       "      <td>2</td>\n",
       "      <td>0</td>\n",
       "      <td>3</td>\n",
       "      <td>7</td>\n",
       "      <td>5</td>\n",
       "      <td>3</td>\n",
       "      <td>2</td>\n",
       "      <td>1</td>\n",
       "      <td>4</td>\n",
       "      <td>1</td>\n",
       "    </tr>\n",
       "  </tbody>\n",
       "</table>\n",
       "<p>3246 rows × 15 columns</p>\n",
       "</div>"
      ],
      "text/plain": [
       "     Interest Rate Loan Length Monthly PAYMENT  Status Total Amount Funded  \\\n",
       "0                1           3               1       0                   1   \n",
       "1                2           3               1       0                   1   \n",
       "2                2           5               1       1                   2   \n",
       "3                2           3               2       1                   2   \n",
       "4                2           3               1       0                   1   \n",
       "...            ...         ...             ...     ...                 ...   \n",
       "3241             3           5               2       1                   2   \n",
       "3242             2           3               2       5                   2   \n",
       "3243             2           5               2       1                   4   \n",
       "3244             2           5               1       1                   2   \n",
       "3245             2           3               3       0                   3   \n",
       "\n",
       "     Debt-To-Income Ratio Remaining Principal   Payments To Date  \\\n",
       "0                       2                    0                 1   \n",
       "1                       2                    0                 1   \n",
       "2                       2                    2                 1   \n",
       "3                       4                    1                 2   \n",
       "4                       3                    0                 1   \n",
       "...                   ...                  ...               ...   \n",
       "3241                    1                    2                 1   \n",
       "3242                    4                    2                 1   \n",
       "3243                    2                    3                 1   \n",
       "3244                    3                    2                 1   \n",
       "3245                    2                    0                 3   \n",
       "\n",
       "     Monthly Income  FICO_Range Open CREDIT Lines Total CREDIT Lines  \\\n",
       "0                 7           3                 2                  3   \n",
       "1                 5           3                 3                  3   \n",
       "2                 7           3                 3                  4   \n",
       "3                 5           4                 3                  2   \n",
       "4                 5           4                 2                  3   \n",
       "...             ...         ...               ...                ...   \n",
       "3241              9           4                 2                  3   \n",
       "3242              3           4                 4                  3   \n",
       "3243              8           3                 2                  2   \n",
       "3244              7           4                 2                  7   \n",
       "3245              7           5                 3                  2   \n",
       "\n",
       "     Revolving CREDIT Balance Revolving Line Utilization  Employment_Length  \n",
       "0                           3                          8                  2  \n",
       "1                           1                          1                 11  \n",
       "2                           2                          6                 11  \n",
       "3                           2                          8                  5  \n",
       "4                           2                         10                  9  \n",
       "...                       ...                        ...                ...  \n",
       "3241                        2                          7                 11  \n",
       "3242                        1                          1                  1  \n",
       "3243                        2                          7                 11  \n",
       "3244                        3                          5                  4  \n",
       "3245                        1                          4                  1  \n",
       "\n",
       "[3246 rows x 15 columns]"
      ]
     },
     "execution_count": 93,
     "metadata": {},
     "output_type": "execute_result"
    }
   ],
   "source": [
    "# Display the sample records\n",
    "samples"
   ]
  },
  {
   "cell_type": "code",
   "execution_count": 94,
   "metadata": {
    "scrolled": true
   },
   "outputs": [],
   "source": [
    "#get the sample output separated\n",
    "sample_y=samples['Status']"
   ]
  },
  {
   "cell_type": "code",
   "execution_count": 95,
   "metadata": {
    "scrolled": true
   },
   "outputs": [
    {
     "name": "stdout",
     "output_type": "stream",
     "text": [
      "Remaining attributes of the sample profiles :\n",
      "Index(['Interest Rate', 'Loan Length', 'Monthly PAYMENT',\n",
      "       'Total Amount Funded', 'Debt-To-Income Ratio', 'Remaining Principal ',\n",
      "       ' Payments To Date', 'Monthly Income', 'FICO_Range',\n",
      "       'Open CREDIT Lines', 'Total CREDIT Lines', 'Revolving CREDIT Balance',\n",
      "       'Revolving Line Utilization', 'Employment_Length'],\n",
      "      dtype='object')\n"
     ]
    }
   ],
   "source": [
    "#remove the status attribute from the sample profiles\n",
    "samples_reduced = samples.drop('Status', axis=1)\n",
    "\n",
    "#display the remaining attributes\n",
    "print(\"Remaining attributes of the sample profiles :\")\n",
    "print(samples_reduced.columns)"
   ]
  },
  {
   "cell_type": "markdown",
   "metadata": {},
   "source": [
    "### Predict the classes for the sample features"
   ]
  },
  {
   "cell_type": "code",
   "execution_count": 96,
   "metadata": {},
   "outputs": [],
   "source": [
    "#make predictions\n",
    "prediction = CNB.predict(samples_reduced)"
   ]
  },
  {
   "cell_type": "markdown",
   "metadata": {},
   "source": [
    "### Finding the accuracy for the sample dataset"
   ]
  },
  {
   "cell_type": "code",
   "execution_count": 97,
   "metadata": {},
   "outputs": [
    {
     "name": "stdout",
     "output_type": "stream",
     "text": [
      "Accuracy of the K Nearest Neighbor Model on sample data :  0.927\n"
     ]
    }
   ],
   "source": [
    "#Accuracy of the model on unseen data\n",
    "Accuracy_sample = metrics.accuracy_score(sample_y,prediction)\n",
    "print(\"Accuracy of the K Nearest Neighbor Model on sample data : \",round(Accuracy_sample,4))"
   ]
  },
  {
   "cell_type": "markdown",
   "metadata": {},
   "source": [
    "### Total count for each class in the original samples and predictions "
   ]
  },
  {
   "cell_type": "code",
   "execution_count": 98,
   "metadata": {
    "scrolled": true
   },
   "outputs": [
    {
     "data": {
      "text/plain": [
       "1    2466\n",
       "0     558\n",
       "5     156\n",
       "2      39\n",
       "3      23\n",
       "4       4\n",
       "Name: Status, dtype: int64"
      ]
     },
     "execution_count": 98,
     "metadata": {},
     "output_type": "execute_result"
    }
   ],
   "source": [
    "#total number of counts for each status\n",
    "sample_y.value_counts()"
   ]
  },
  {
   "cell_type": "code",
   "execution_count": 99,
   "metadata": {},
   "outputs": [
    {
     "data": {
      "text/plain": [
       "array([[   0,  538],\n",
       "       [   1, 2676],\n",
       "       [   5,   32]], dtype=int64)"
      ]
     },
     "execution_count": 99,
     "metadata": {},
     "output_type": "execute_result"
    }
   ],
   "source": [
    "#total number of counts for each prediction\n",
    "np.array(np.unique(prediction, return_counts=True)).T"
   ]
  },
  {
   "cell_type": "markdown",
   "metadata": {},
   "source": [
    "### Illustrating the true and predicted values side by side"
   ]
  },
  {
   "cell_type": "code",
   "execution_count": 100,
   "metadata": {},
   "outputs": [],
   "source": [
    "# sample_y converted to array\n",
    "s_y =np.array(sample_y)\n",
    "\n",
    "#Reshaping the 2 arrays into a 2D array\n",
    "s_y=s_y.reshape(s_y.shape[0],1)\n",
    "prediction=prediction.reshape(prediction.shape[0],1)"
   ]
  },
  {
   "cell_type": "code",
   "execution_count": 101,
   "metadata": {},
   "outputs": [
    {
     "data": {
      "text/html": [
       "<div>\n",
       "<style scoped>\n",
       "    .dataframe tbody tr th:only-of-type {\n",
       "        vertical-align: middle;\n",
       "    }\n",
       "\n",
       "    .dataframe tbody tr th {\n",
       "        vertical-align: top;\n",
       "    }\n",
       "\n",
       "    .dataframe thead th {\n",
       "        text-align: right;\n",
       "    }\n",
       "</style>\n",
       "<table border=\"1\" class=\"dataframe\">\n",
       "  <thead>\n",
       "    <tr style=\"text-align: right;\">\n",
       "      <th></th>\n",
       "      <th>True Value</th>\n",
       "      <th>Predicted Value</th>\n",
       "    </tr>\n",
       "  </thead>\n",
       "  <tbody>\n",
       "    <tr>\n",
       "      <th>0</th>\n",
       "      <td>0</td>\n",
       "      <td>0</td>\n",
       "    </tr>\n",
       "    <tr>\n",
       "      <th>1</th>\n",
       "      <td>0</td>\n",
       "      <td>0</td>\n",
       "    </tr>\n",
       "    <tr>\n",
       "      <th>2</th>\n",
       "      <td>1</td>\n",
       "      <td>1</td>\n",
       "    </tr>\n",
       "    <tr>\n",
       "      <th>3</th>\n",
       "      <td>1</td>\n",
       "      <td>1</td>\n",
       "    </tr>\n",
       "    <tr>\n",
       "      <th>4</th>\n",
       "      <td>0</td>\n",
       "      <td>0</td>\n",
       "    </tr>\n",
       "  </tbody>\n",
       "</table>\n",
       "</div>"
      ],
      "text/plain": [
       "   True Value  Predicted Value\n",
       "0           0                0\n",
       "1           0                0\n",
       "2           1                1\n",
       "3           1                1\n",
       "4           0                0"
      ]
     },
     "execution_count": 101,
     "metadata": {},
     "output_type": "execute_result"
    }
   ],
   "source": [
    "#Concatenating the true and predicted values and saving it in a new array arr \n",
    "arr=np.concatenate((s_y, prediction),axis=1)\n",
    "\n",
    "# converting array to dataframe\n",
    "df=pd.DataFrame(arr,columns = ['True Value','Predicted Value'])\n",
    "# Displaying first 5 true and predicted values side by side\n",
    "df.head(5)"
   ]
  },
  {
   "cell_type": "code",
   "execution_count": null,
   "metadata": {},
   "outputs": [],
   "source": []
  },
  {
   "cell_type": "code",
   "execution_count": null,
   "metadata": {},
   "outputs": [],
   "source": []
  }
 ],
 "metadata": {
  "kernelspec": {
   "display_name": "Python 3",
   "language": "python",
   "name": "python3"
  },
  "language_info": {
   "codemirror_mode": {
    "name": "ipython",
    "version": 3
   },
   "file_extension": ".py",
   "mimetype": "text/x-python",
   "name": "python",
   "nbconvert_exporter": "python",
   "pygments_lexer": "ipython3",
   "version": "3.8.3"
  }
 },
 "nbformat": 4,
 "nbformat_minor": 4
}
