{
 "cells": [
  {
   "cell_type": "markdown",
   "metadata": {},
   "source": [
    "#  Loan Defaulter Prediction \n",
    "\n",
    "## Supervised Learning Hands-on session"
   ]
  },
  {
   "cell_type": "markdown",
   "metadata": {},
   "source": [
    "# Loading Dataset using pandas"
   ]
  },
  {
   "cell_type": "code",
   "execution_count": 1,
   "metadata": {},
   "outputs": [],
   "source": [
    "#importing the necessary libraries\n",
    "#for handling dataset\n",
    "import pandas as pd\n",
    "\n",
    "#additional array-based functionality\n",
    "import numpy as np\n",
    "\n",
    "#visualization packages\n",
    "import seaborn as sns\n",
    "import matplotlib.pyplot as plt\n",
    "\n",
    "#machine learning functions\n",
    "from sklearn.preprocessing import MinMaxScaler\n",
    "from sklearn.model_selection import train_test_split\n",
    "from sklearn import metrics\n",
    "from sklearn.neighbors import KNeighborsClassifier\n",
    "\n",
    "\n",
    "from sklearn.metrics import classification_report\n",
    "from sklearn.metrics import confusion_matrix\n",
    "from sklearn.metrics import f1_score\n",
    "#for manipulating dates and times\n",
    "import datetime as dt\n",
    "\n",
    "#for suppressing all warnings\n",
    "import warnings\n",
    "warnings.filterwarnings(\"ignore\")"
   ]
  },
  {
   "cell_type": "code",
   "execution_count": 2,
   "metadata": {},
   "outputs": [
    {
     "name": "stdout",
     "output_type": "stream",
     "text": [
      "Dataset loaded in memory...\n"
     ]
    }
   ],
   "source": [
    "#Load the dataset into memory from secondary memory to primary memory\n",
    "data = pd.read_csv(\"LoanStats Dataset_30052021.csv\", encoding=\"Latin-1\", low_memory=False)\n",
    "\n",
    "print(\"Dataset loaded in memory...\")\n",
    "\n",
    "#set the maximum column display limit to 50\n",
    "pd.set_option('display.max_columns', 50)"
   ]
  },
  {
   "cell_type": "code",
   "execution_count": 3,
   "metadata": {},
   "outputs": [
    {
     "data": {
      "text/plain": [
       "(36396, 41)"
      ]
     },
     "execution_count": 3,
     "metadata": {},
     "output_type": "execute_result"
    }
   ],
   "source": [
    "#Checking the number of rows and columns in the dataframe\n",
    "data.shape"
   ]
  },
  {
   "cell_type": "markdown",
   "metadata": {},
   "source": [
    "# Row display operations"
   ]
  },
  {
   "cell_type": "code",
   "execution_count": 4,
   "metadata": {},
   "outputs": [
    {
     "name": "stdout",
     "output_type": "stream",
     "text": [
      "Details of 0th profile from the dataset :\n",
      "\n",
      "Attributes\n",
      "\n",
      "Loan ID                                                                                87023\n",
      "Amount Requested                                                                        7500\n",
      "Amount Funded By Investors                                                              7500\n",
      "Interest Rate                                                                         13.75%\n",
      "Loan Length                                                                        36 months\n",
      "Application Date                                                                  2007-06-07\n",
      "Application Expiration Date                                                       2007-06-21\n",
      "Issued Date                                                                       2007-06-27\n",
      "CREDIT Grade                                                                              E2\n",
      "Loan Title                                                                Consolidation Loan\n",
      "Loan Purpose                                                              debt_consolidation\n",
      "Loan Description                           I plan to consolidate over $7,000 of debt: a c...\n",
      "Monthly PAYMENT                                                                       255.43\n",
      "Status                                                                            Fully Paid\n",
      "Total Amount Funded                                                                     7500\n",
      "Debt-To-Income Ratio                                                                  14.29%\n",
      "Remaining Principal Funded by Investors                                                    0\n",
      "Payments To Date (Funded by investors)                                               9194.98\n",
      "Remaining Principal                                                                        0\n",
      " Payments To Date                                                                    9194.98\n",
      "Screen Name                                                                        Kingtrite\n",
      "City                                                                               Attleboro\n",
      "State                                                                                     MA\n",
      "Home Ownership                                                                           OWN\n",
      "Monthly Income                                                                       1833.33\n",
      "FICO Range                                                                           660-678\n",
      "Earliest CREDIT Line                                                              2003-10-27\n",
      "Open CREDIT Lines                                                                          7\n",
      "Total CREDIT Lines                                                                         8\n",
      "Revolving CREDIT Balance                                                                4175\n",
      "Revolving Line Utilization                                                             51.5%\n",
      "Inquiries in the Last 6 Months                                                             0\n",
      "Accounts Now Delinquent                                                                    0\n",
      "Delinquent Amount                                                                          0\n",
      "Delinquencies (Last 2 yrs)                                                                 1\n",
      "Months Since Last Delinquency                                                             11\n",
      "Public Records On File                                                                     0\n",
      "Months Since Last Record                                                                   0\n",
      "Education                                                                                NaN\n",
      "Employment Length                                                                   < 1 year\n",
      "Code                                                                                     NaN\n",
      "Name: 0, dtype: object\n"
     ]
    }
   ],
   "source": [
    "#displaying profiles of any given index\n",
    "i=0\n",
    "print(\"Details of \"+str(i)+\"th profile from the dataset :\\n\\nAttributes\\n\")\n",
    "print(data.iloc[i])"
   ]
  },
  {
   "cell_type": "code",
   "execution_count": 5,
   "metadata": {},
   "outputs": [
    {
     "name": "stdout",
     "output_type": "stream",
     "text": [
      "Display the starting 5 profiles from the dataset :\n"
     ]
    },
    {
     "data": {
      "text/html": [
       "<div>\n",
       "<style scoped>\n",
       "    .dataframe tbody tr th:only-of-type {\n",
       "        vertical-align: middle;\n",
       "    }\n",
       "\n",
       "    .dataframe tbody tr th {\n",
       "        vertical-align: top;\n",
       "    }\n",
       "\n",
       "    .dataframe thead th {\n",
       "        text-align: right;\n",
       "    }\n",
       "</style>\n",
       "<table border=\"1\" class=\"dataframe\">\n",
       "  <thead>\n",
       "    <tr style=\"text-align: right;\">\n",
       "      <th></th>\n",
       "      <th>Loan ID</th>\n",
       "      <th>Amount Requested</th>\n",
       "      <th>Amount Funded By Investors</th>\n",
       "      <th>Interest Rate</th>\n",
       "      <th>Loan Length</th>\n",
       "      <th>Application Date</th>\n",
       "      <th>Application Expiration Date</th>\n",
       "      <th>Issued Date</th>\n",
       "      <th>CREDIT Grade</th>\n",
       "      <th>Loan Title</th>\n",
       "      <th>Loan Purpose</th>\n",
       "      <th>Loan Description</th>\n",
       "      <th>Monthly PAYMENT</th>\n",
       "      <th>Status</th>\n",
       "      <th>Total Amount Funded</th>\n",
       "      <th>Debt-To-Income Ratio</th>\n",
       "      <th>Remaining Principal Funded by Investors</th>\n",
       "      <th>Payments To Date (Funded by investors)</th>\n",
       "      <th>Remaining Principal</th>\n",
       "      <th>Payments To Date</th>\n",
       "      <th>Screen Name</th>\n",
       "      <th>City</th>\n",
       "      <th>State</th>\n",
       "      <th>Home Ownership</th>\n",
       "      <th>Monthly Income</th>\n",
       "      <th>FICO Range</th>\n",
       "      <th>Earliest CREDIT Line</th>\n",
       "      <th>Open CREDIT Lines</th>\n",
       "      <th>Total CREDIT Lines</th>\n",
       "      <th>Revolving CREDIT Balance</th>\n",
       "      <th>Revolving Line Utilization</th>\n",
       "      <th>Inquiries in the Last 6 Months</th>\n",
       "      <th>Accounts Now Delinquent</th>\n",
       "      <th>Delinquent Amount</th>\n",
       "      <th>Delinquencies (Last 2 yrs)</th>\n",
       "      <th>Months Since Last Delinquency</th>\n",
       "      <th>Public Records On File</th>\n",
       "      <th>Months Since Last Record</th>\n",
       "      <th>Education</th>\n",
       "      <th>Employment Length</th>\n",
       "      <th>Code</th>\n",
       "    </tr>\n",
       "  </thead>\n",
       "  <tbody>\n",
       "    <tr>\n",
       "      <th>0</th>\n",
       "      <td>87023</td>\n",
       "      <td>7500.0</td>\n",
       "      <td>7500.0</td>\n",
       "      <td>13.75%</td>\n",
       "      <td>36 months</td>\n",
       "      <td>2007-06-07</td>\n",
       "      <td>2007-06-21</td>\n",
       "      <td>2007-06-27</td>\n",
       "      <td>E2</td>\n",
       "      <td>Consolidation Loan</td>\n",
       "      <td>debt_consolidation</td>\n",
       "      <td>I plan to consolidate over $7,000 of debt: a c...</td>\n",
       "      <td>255.43</td>\n",
       "      <td>Fully Paid</td>\n",
       "      <td>7500.0</td>\n",
       "      <td>14.29%</td>\n",
       "      <td>0.0</td>\n",
       "      <td>9194.98</td>\n",
       "      <td>0.0</td>\n",
       "      <td>9194.98</td>\n",
       "      <td>Kingtrite</td>\n",
       "      <td>Attleboro</td>\n",
       "      <td>MA</td>\n",
       "      <td>OWN</td>\n",
       "      <td>1833.33</td>\n",
       "      <td>660-678</td>\n",
       "      <td>2003-10-27</td>\n",
       "      <td>7.0</td>\n",
       "      <td>8.0</td>\n",
       "      <td>4175.0</td>\n",
       "      <td>51.5%</td>\n",
       "      <td>0.0</td>\n",
       "      <td>0.0</td>\n",
       "      <td>0.0</td>\n",
       "      <td>1.0</td>\n",
       "      <td>11.0</td>\n",
       "      <td>0.0</td>\n",
       "      <td>0.0</td>\n",
       "      <td>NaN</td>\n",
       "      <td>&lt; 1 year</td>\n",
       "      <td>NaN</td>\n",
       "    </tr>\n",
       "    <tr>\n",
       "      <th>1</th>\n",
       "      <td>90376</td>\n",
       "      <td>5000.0</td>\n",
       "      <td>5000.0</td>\n",
       "      <td>7.43%</td>\n",
       "      <td>36 months</td>\n",
       "      <td>2007-06-12</td>\n",
       "      <td>2007-06-26</td>\n",
       "      <td>2007-07-02</td>\n",
       "      <td>A2</td>\n",
       "      <td>JAL Loan</td>\n",
       "      <td>other</td>\n",
       "      <td>NaN</td>\n",
       "      <td>155.38</td>\n",
       "      <td>Fully Paid</td>\n",
       "      <td>5000.0</td>\n",
       "      <td>3.72%</td>\n",
       "      <td>0.0</td>\n",
       "      <td>5174.16</td>\n",
       "      <td>0.0</td>\n",
       "      <td>5174.16</td>\n",
       "      <td>Laguna</td>\n",
       "      <td>Rockville</td>\n",
       "      <td>MD</td>\n",
       "      <td>MORTGAGE</td>\n",
       "      <td>16666.67</td>\n",
       "      <td>780+</td>\n",
       "      <td>1988-11-19</td>\n",
       "      <td>17.0</td>\n",
       "      <td>26.0</td>\n",
       "      <td>85607.0</td>\n",
       "      <td>0.7%</td>\n",
       "      <td>0.0</td>\n",
       "      <td>0.0</td>\n",
       "      <td>0.0</td>\n",
       "      <td>0.0</td>\n",
       "      <td>0.0</td>\n",
       "      <td>0.0</td>\n",
       "      <td>0.0</td>\n",
       "      <td>NaN</td>\n",
       "      <td>&lt; 1 year</td>\n",
       "      <td>NaN</td>\n",
       "    </tr>\n",
       "    <tr>\n",
       "      <th>2</th>\n",
       "      <td>90395</td>\n",
       "      <td>5000.0</td>\n",
       "      <td>5000.0</td>\n",
       "      <td>8.07%</td>\n",
       "      <td>36 months</td>\n",
       "      <td>2007-06-12</td>\n",
       "      <td>2007-06-26</td>\n",
       "      <td>2007-07-02</td>\n",
       "      <td>A4</td>\n",
       "      <td>MBA Loan Consolidation</td>\n",
       "      <td>debt_consolidation</td>\n",
       "      <td>NaN</td>\n",
       "      <td>156.84</td>\n",
       "      <td>Fully Paid</td>\n",
       "      <td>5000.0</td>\n",
       "      <td>2.3%</td>\n",
       "      <td>0.0</td>\n",
       "      <td>5272.08</td>\n",
       "      <td>0.0</td>\n",
       "      <td>5272.08</td>\n",
       "      <td>MGDesousa</td>\n",
       "      <td>Framingham</td>\n",
       "      <td>MA</td>\n",
       "      <td>MORTGAGE</td>\n",
       "      <td>8333.33</td>\n",
       "      <td>714-749</td>\n",
       "      <td>1998-10-28</td>\n",
       "      <td>11.0</td>\n",
       "      <td>20.0</td>\n",
       "      <td>9698.0</td>\n",
       "      <td>19.4%</td>\n",
       "      <td>0.0</td>\n",
       "      <td>0.0</td>\n",
       "      <td>0.0</td>\n",
       "      <td>0.0</td>\n",
       "      <td>0.0</td>\n",
       "      <td>0.0</td>\n",
       "      <td>0.0</td>\n",
       "      <td>NaN</td>\n",
       "      <td>&lt; 1 year</td>\n",
       "      <td>NaN</td>\n",
       "    </tr>\n",
       "    <tr>\n",
       "      <th>3</th>\n",
       "      <td>90665</td>\n",
       "      <td>8500.0</td>\n",
       "      <td>8500.0</td>\n",
       "      <td>10.28%</td>\n",
       "      <td>36 months</td>\n",
       "      <td>2007-06-13</td>\n",
       "      <td>2007-06-27</td>\n",
       "      <td>2007-07-03</td>\n",
       "      <td>C1</td>\n",
       "      <td>Retiring credit card debt</td>\n",
       "      <td>credit_card</td>\n",
       "      <td>The rate of interest and fees incurred by carr...</td>\n",
       "      <td>275.38</td>\n",
       "      <td>Fully Paid</td>\n",
       "      <td>8500.0</td>\n",
       "      <td>6.4%</td>\n",
       "      <td>0.0</td>\n",
       "      <td>9912.49</td>\n",
       "      <td>0.0</td>\n",
       "      <td>9912.49</td>\n",
       "      <td>Radiothermal</td>\n",
       "      <td>Greensboro</td>\n",
       "      <td>NC</td>\n",
       "      <td>RENT</td>\n",
       "      <td>1500.00</td>\n",
       "      <td>679-713</td>\n",
       "      <td>1986-12-30</td>\n",
       "      <td>6.0</td>\n",
       "      <td>9.0</td>\n",
       "      <td>8847.0</td>\n",
       "      <td>26.9%</td>\n",
       "      <td>1.0</td>\n",
       "      <td>0.0</td>\n",
       "      <td>0.0</td>\n",
       "      <td>1.0</td>\n",
       "      <td>5.0</td>\n",
       "      <td>0.0</td>\n",
       "      <td>0.0</td>\n",
       "      <td>NaN</td>\n",
       "      <td>3 years</td>\n",
       "      <td>NaN</td>\n",
       "    </tr>\n",
       "    <tr>\n",
       "      <th>4</th>\n",
       "      <td>92187</td>\n",
       "      <td>2500.0</td>\n",
       "      <td>2500.0</td>\n",
       "      <td>8.07%</td>\n",
       "      <td>36 months</td>\n",
       "      <td>2007-06-15</td>\n",
       "      <td>2007-06-29</td>\n",
       "      <td>2007-07-05</td>\n",
       "      <td>A4</td>\n",
       "      <td>Home Improvement</td>\n",
       "      <td>home_improvement</td>\n",
       "      <td>Our current gutter system on our home is old a...</td>\n",
       "      <td>78.42</td>\n",
       "      <td>Fully Paid</td>\n",
       "      <td>2500.0</td>\n",
       "      <td>11.33%</td>\n",
       "      <td>0.0</td>\n",
       "      <td>2822.72</td>\n",
       "      <td>0.0</td>\n",
       "      <td>2822.72</td>\n",
       "      <td>PMJ7671</td>\n",
       "      <td>Lakewood</td>\n",
       "      <td>CO</td>\n",
       "      <td>MORTGAGE</td>\n",
       "      <td>9166.67</td>\n",
       "      <td>750-779</td>\n",
       "      <td>1990-11-11</td>\n",
       "      <td>13.0</td>\n",
       "      <td>40.0</td>\n",
       "      <td>7274.0</td>\n",
       "      <td>13.1%</td>\n",
       "      <td>0.0</td>\n",
       "      <td>0.0</td>\n",
       "      <td>0.0</td>\n",
       "      <td>0.0</td>\n",
       "      <td>0.0</td>\n",
       "      <td>0.0</td>\n",
       "      <td>0.0</td>\n",
       "      <td>NaN</td>\n",
       "      <td>4 years</td>\n",
       "      <td>NaN</td>\n",
       "    </tr>\n",
       "  </tbody>\n",
       "</table>\n",
       "</div>"
      ],
      "text/plain": [
       "  Loan ID  Amount Requested  Amount Funded By Investors Interest Rate  \\\n",
       "0   87023            7500.0                      7500.0        13.75%   \n",
       "1   90376            5000.0                      5000.0         7.43%   \n",
       "2   90395            5000.0                      5000.0         8.07%   \n",
       "3   90665            8500.0                      8500.0        10.28%   \n",
       "4   92187            2500.0                      2500.0         8.07%   \n",
       "\n",
       "  Loan Length Application Date Application Expiration Date Issued Date  \\\n",
       "0   36 months       2007-06-07                  2007-06-21  2007-06-27   \n",
       "1   36 months       2007-06-12                  2007-06-26  2007-07-02   \n",
       "2   36 months       2007-06-12                  2007-06-26  2007-07-02   \n",
       "3   36 months       2007-06-13                  2007-06-27  2007-07-03   \n",
       "4   36 months       2007-06-15                  2007-06-29  2007-07-05   \n",
       "\n",
       "  CREDIT Grade                 Loan Title        Loan Purpose  \\\n",
       "0           E2         Consolidation Loan  debt_consolidation   \n",
       "1           A2                   JAL Loan               other   \n",
       "2           A4     MBA Loan Consolidation  debt_consolidation   \n",
       "3           C1  Retiring credit card debt         credit_card   \n",
       "4           A4           Home Improvement    home_improvement   \n",
       "\n",
       "                                    Loan Description  Monthly PAYMENT  \\\n",
       "0  I plan to consolidate over $7,000 of debt: a c...           255.43   \n",
       "1                                                NaN           155.38   \n",
       "2                                                NaN           156.84   \n",
       "3  The rate of interest and fees incurred by carr...           275.38   \n",
       "4  Our current gutter system on our home is old a...            78.42   \n",
       "\n",
       "       Status  Total Amount Funded Debt-To-Income Ratio  \\\n",
       "0  Fully Paid               7500.0               14.29%   \n",
       "1  Fully Paid               5000.0                3.72%   \n",
       "2  Fully Paid               5000.0                 2.3%   \n",
       "3  Fully Paid               8500.0                 6.4%   \n",
       "4  Fully Paid               2500.0               11.33%   \n",
       "\n",
       "   Remaining Principal Funded by Investors  \\\n",
       "0                                      0.0   \n",
       "1                                      0.0   \n",
       "2                                      0.0   \n",
       "3                                      0.0   \n",
       "4                                      0.0   \n",
       "\n",
       "   Payments To Date (Funded by investors)  Remaining Principal   \\\n",
       "0                                 9194.98                   0.0   \n",
       "1                                 5174.16                   0.0   \n",
       "2                                 5272.08                   0.0   \n",
       "3                                 9912.49                   0.0   \n",
       "4                                 2822.72                   0.0   \n",
       "\n",
       "    Payments To Date   Screen Name        City State Home Ownership  \\\n",
       "0            9194.98     Kingtrite   Attleboro    MA            OWN   \n",
       "1            5174.16        Laguna   Rockville    MD       MORTGAGE   \n",
       "2            5272.08     MGDesousa  Framingham    MA       MORTGAGE   \n",
       "3            9912.49  Radiothermal  Greensboro    NC           RENT   \n",
       "4            2822.72       PMJ7671    Lakewood    CO       MORTGAGE   \n",
       "\n",
       "   Monthly Income FICO Range Earliest CREDIT Line  Open CREDIT Lines  \\\n",
       "0         1833.33    660-678           2003-10-27                7.0   \n",
       "1        16666.67       780+           1988-11-19               17.0   \n",
       "2         8333.33    714-749           1998-10-28               11.0   \n",
       "3         1500.00    679-713           1986-12-30                6.0   \n",
       "4         9166.67    750-779           1990-11-11               13.0   \n",
       "\n",
       "   Total CREDIT Lines  Revolving CREDIT Balance Revolving Line Utilization  \\\n",
       "0                 8.0                    4175.0                      51.5%   \n",
       "1                26.0                   85607.0                       0.7%   \n",
       "2                20.0                    9698.0                      19.4%   \n",
       "3                 9.0                    8847.0                      26.9%   \n",
       "4                40.0                    7274.0                      13.1%   \n",
       "\n",
       "   Inquiries in the Last 6 Months  Accounts Now Delinquent  Delinquent Amount  \\\n",
       "0                             0.0                      0.0                0.0   \n",
       "1                             0.0                      0.0                0.0   \n",
       "2                             0.0                      0.0                0.0   \n",
       "3                             1.0                      0.0                0.0   \n",
       "4                             0.0                      0.0                0.0   \n",
       "\n",
       "   Delinquencies (Last 2 yrs)  Months Since Last Delinquency  \\\n",
       "0                         1.0                           11.0   \n",
       "1                         0.0                            0.0   \n",
       "2                         0.0                            0.0   \n",
       "3                         1.0                            5.0   \n",
       "4                         0.0                            0.0   \n",
       "\n",
       "   Public Records On File  Months Since Last Record Education  \\\n",
       "0                     0.0                       0.0       NaN   \n",
       "1                     0.0                       0.0       NaN   \n",
       "2                     0.0                       0.0       NaN   \n",
       "3                     0.0                       0.0       NaN   \n",
       "4                     0.0                       0.0       NaN   \n",
       "\n",
       "  Employment Length  Code  \n",
       "0          < 1 year   NaN  \n",
       "1          < 1 year   NaN  \n",
       "2          < 1 year   NaN  \n",
       "3           3 years   NaN  \n",
       "4           4 years   NaN  "
      ]
     },
     "execution_count": 5,
     "metadata": {},
     "output_type": "execute_result"
    }
   ],
   "source": [
    "#display first 5 records \n",
    "\n",
    "print(\"Display the starting 5 profiles from the dataset :\")\n",
    "data.head()"
   ]
  },
  {
   "cell_type": "code",
   "execution_count": 6,
   "metadata": {
    "scrolled": true
   },
   "outputs": [
    {
     "name": "stdout",
     "output_type": "stream",
     "text": [
      "Selecting particular rows from the dataset : \n"
     ]
    },
    {
     "data": {
      "text/html": [
       "<div>\n",
       "<style scoped>\n",
       "    .dataframe tbody tr th:only-of-type {\n",
       "        vertical-align: middle;\n",
       "    }\n",
       "\n",
       "    .dataframe tbody tr th {\n",
       "        vertical-align: top;\n",
       "    }\n",
       "\n",
       "    .dataframe thead th {\n",
       "        text-align: right;\n",
       "    }\n",
       "</style>\n",
       "<table border=\"1\" class=\"dataframe\">\n",
       "  <thead>\n",
       "    <tr style=\"text-align: right;\">\n",
       "      <th></th>\n",
       "      <th>Loan ID</th>\n",
       "      <th>Amount Requested</th>\n",
       "      <th>Amount Funded By Investors</th>\n",
       "      <th>Interest Rate</th>\n",
       "      <th>Loan Length</th>\n",
       "      <th>Application Date</th>\n",
       "      <th>Application Expiration Date</th>\n",
       "      <th>Issued Date</th>\n",
       "      <th>CREDIT Grade</th>\n",
       "      <th>Loan Title</th>\n",
       "      <th>Loan Purpose</th>\n",
       "      <th>Loan Description</th>\n",
       "      <th>Monthly PAYMENT</th>\n",
       "      <th>Status</th>\n",
       "      <th>Total Amount Funded</th>\n",
       "      <th>Debt-To-Income Ratio</th>\n",
       "      <th>Remaining Principal Funded by Investors</th>\n",
       "      <th>Payments To Date (Funded by investors)</th>\n",
       "      <th>Remaining Principal</th>\n",
       "      <th>Payments To Date</th>\n",
       "      <th>Screen Name</th>\n",
       "      <th>City</th>\n",
       "      <th>State</th>\n",
       "      <th>Home Ownership</th>\n",
       "      <th>Monthly Income</th>\n",
       "      <th>FICO Range</th>\n",
       "      <th>Earliest CREDIT Line</th>\n",
       "      <th>Open CREDIT Lines</th>\n",
       "      <th>Total CREDIT Lines</th>\n",
       "      <th>Revolving CREDIT Balance</th>\n",
       "      <th>Revolving Line Utilization</th>\n",
       "      <th>Inquiries in the Last 6 Months</th>\n",
       "      <th>Accounts Now Delinquent</th>\n",
       "      <th>Delinquent Amount</th>\n",
       "      <th>Delinquencies (Last 2 yrs)</th>\n",
       "      <th>Months Since Last Delinquency</th>\n",
       "      <th>Public Records On File</th>\n",
       "      <th>Months Since Last Record</th>\n",
       "      <th>Education</th>\n",
       "      <th>Employment Length</th>\n",
       "      <th>Code</th>\n",
       "    </tr>\n",
       "  </thead>\n",
       "  <tbody>\n",
       "    <tr>\n",
       "      <th>0</th>\n",
       "      <td>87023</td>\n",
       "      <td>7500.0</td>\n",
       "      <td>7500.0</td>\n",
       "      <td>13.75%</td>\n",
       "      <td>36 months</td>\n",
       "      <td>2007-06-07</td>\n",
       "      <td>2007-06-21</td>\n",
       "      <td>2007-06-27</td>\n",
       "      <td>E2</td>\n",
       "      <td>Consolidation Loan</td>\n",
       "      <td>debt_consolidation</td>\n",
       "      <td>I plan to consolidate over $7,000 of debt: a c...</td>\n",
       "      <td>255.43</td>\n",
       "      <td>Fully Paid</td>\n",
       "      <td>7500.0</td>\n",
       "      <td>14.29%</td>\n",
       "      <td>0.0</td>\n",
       "      <td>9194.98</td>\n",
       "      <td>0.0</td>\n",
       "      <td>9194.98</td>\n",
       "      <td>Kingtrite</td>\n",
       "      <td>Attleboro</td>\n",
       "      <td>MA</td>\n",
       "      <td>OWN</td>\n",
       "      <td>1833.33</td>\n",
       "      <td>660-678</td>\n",
       "      <td>2003-10-27</td>\n",
       "      <td>7.0</td>\n",
       "      <td>8.0</td>\n",
       "      <td>4175.0</td>\n",
       "      <td>51.5%</td>\n",
       "      <td>0.0</td>\n",
       "      <td>0.0</td>\n",
       "      <td>0.0</td>\n",
       "      <td>1.0</td>\n",
       "      <td>11.0</td>\n",
       "      <td>0.0</td>\n",
       "      <td>0.0</td>\n",
       "      <td>NaN</td>\n",
       "      <td>&lt; 1 year</td>\n",
       "      <td>NaN</td>\n",
       "    </tr>\n",
       "    <tr>\n",
       "      <th>3</th>\n",
       "      <td>90665</td>\n",
       "      <td>8500.0</td>\n",
       "      <td>8500.0</td>\n",
       "      <td>10.28%</td>\n",
       "      <td>36 months</td>\n",
       "      <td>2007-06-13</td>\n",
       "      <td>2007-06-27</td>\n",
       "      <td>2007-07-03</td>\n",
       "      <td>C1</td>\n",
       "      <td>Retiring credit card debt</td>\n",
       "      <td>credit_card</td>\n",
       "      <td>The rate of interest and fees incurred by carr...</td>\n",
       "      <td>275.38</td>\n",
       "      <td>Fully Paid</td>\n",
       "      <td>8500.0</td>\n",
       "      <td>6.4%</td>\n",
       "      <td>0.0</td>\n",
       "      <td>9912.49</td>\n",
       "      <td>0.0</td>\n",
       "      <td>9912.49</td>\n",
       "      <td>Radiothermal</td>\n",
       "      <td>Greensboro</td>\n",
       "      <td>NC</td>\n",
       "      <td>RENT</td>\n",
       "      <td>1500.00</td>\n",
       "      <td>679-713</td>\n",
       "      <td>1986-12-30</td>\n",
       "      <td>6.0</td>\n",
       "      <td>9.0</td>\n",
       "      <td>8847.0</td>\n",
       "      <td>26.9%</td>\n",
       "      <td>1.0</td>\n",
       "      <td>0.0</td>\n",
       "      <td>0.0</td>\n",
       "      <td>1.0</td>\n",
       "      <td>5.0</td>\n",
       "      <td>0.0</td>\n",
       "      <td>0.0</td>\n",
       "      <td>NaN</td>\n",
       "      <td>3 years</td>\n",
       "      <td>NaN</td>\n",
       "    </tr>\n",
       "    <tr>\n",
       "      <th>19</th>\n",
       "      <td>101579</td>\n",
       "      <td>10000.0</td>\n",
       "      <td>10000.0</td>\n",
       "      <td>10.28%</td>\n",
       "      <td>36 months</td>\n",
       "      <td>2007-06-27</td>\n",
       "      <td>2007-07-11</td>\n",
       "      <td>2007-07-17</td>\n",
       "      <td>C1</td>\n",
       "      <td>Web Design Business Expansion Loan</td>\n",
       "      <td>small_business</td>\n",
       "      <td>Seven months ago I decided to drop everything ...</td>\n",
       "      <td>323.98</td>\n",
       "      <td>Fully Paid</td>\n",
       "      <td>10000.0</td>\n",
       "      <td>10.7%</td>\n",
       "      <td>0.0</td>\n",
       "      <td>11662.13</td>\n",
       "      <td>0.0</td>\n",
       "      <td>11662.13</td>\n",
       "      <td>WebDev</td>\n",
       "      <td>Fort Collins</td>\n",
       "      <td>CO</td>\n",
       "      <td>RENT</td>\n",
       "      <td>2281.33</td>\n",
       "      <td>679-713</td>\n",
       "      <td>2003-09-17</td>\n",
       "      <td>4.0</td>\n",
       "      <td>4.0</td>\n",
       "      <td>3534.0</td>\n",
       "      <td>54.4%</td>\n",
       "      <td>0.0</td>\n",
       "      <td>0.0</td>\n",
       "      <td>0.0</td>\n",
       "      <td>0.0</td>\n",
       "      <td>0.0</td>\n",
       "      <td>0.0</td>\n",
       "      <td>0.0</td>\n",
       "      <td>NaN</td>\n",
       "      <td>&lt; 1 year</td>\n",
       "      <td>NaN</td>\n",
       "    </tr>\n",
       "  </tbody>\n",
       "</table>\n",
       "</div>"
      ],
      "text/plain": [
       "   Loan ID  Amount Requested  Amount Funded By Investors Interest Rate  \\\n",
       "0    87023            7500.0                      7500.0        13.75%   \n",
       "3    90665            8500.0                      8500.0        10.28%   \n",
       "19  101579           10000.0                     10000.0        10.28%   \n",
       "\n",
       "   Loan Length Application Date Application Expiration Date Issued Date  \\\n",
       "0    36 months       2007-06-07                  2007-06-21  2007-06-27   \n",
       "3    36 months       2007-06-13                  2007-06-27  2007-07-03   \n",
       "19   36 months       2007-06-27                  2007-07-11  2007-07-17   \n",
       "\n",
       "   CREDIT Grade                          Loan Title        Loan Purpose  \\\n",
       "0            E2                  Consolidation Loan  debt_consolidation   \n",
       "3            C1           Retiring credit card debt         credit_card   \n",
       "19           C1  Web Design Business Expansion Loan      small_business   \n",
       "\n",
       "                                     Loan Description  Monthly PAYMENT  \\\n",
       "0   I plan to consolidate over $7,000 of debt: a c...           255.43   \n",
       "3   The rate of interest and fees incurred by carr...           275.38   \n",
       "19  Seven months ago I decided to drop everything ...           323.98   \n",
       "\n",
       "        Status  Total Amount Funded Debt-To-Income Ratio  \\\n",
       "0   Fully Paid               7500.0               14.29%   \n",
       "3   Fully Paid               8500.0                 6.4%   \n",
       "19  Fully Paid              10000.0                10.7%   \n",
       "\n",
       "    Remaining Principal Funded by Investors  \\\n",
       "0                                       0.0   \n",
       "3                                       0.0   \n",
       "19                                      0.0   \n",
       "\n",
       "    Payments To Date (Funded by investors)  Remaining Principal   \\\n",
       "0                                  9194.98                   0.0   \n",
       "3                                  9912.49                   0.0   \n",
       "19                                11662.13                   0.0   \n",
       "\n",
       "     Payments To Date   Screen Name          City State Home Ownership  \\\n",
       "0             9194.98     Kingtrite     Attleboro    MA            OWN   \n",
       "3             9912.49  Radiothermal    Greensboro    NC           RENT   \n",
       "19           11662.13        WebDev  Fort Collins    CO           RENT   \n",
       "\n",
       "    Monthly Income FICO Range Earliest CREDIT Line  Open CREDIT Lines  \\\n",
       "0          1833.33    660-678           2003-10-27                7.0   \n",
       "3          1500.00    679-713           1986-12-30                6.0   \n",
       "19         2281.33    679-713           2003-09-17                4.0   \n",
       "\n",
       "    Total CREDIT Lines  Revolving CREDIT Balance Revolving Line Utilization  \\\n",
       "0                  8.0                    4175.0                      51.5%   \n",
       "3                  9.0                    8847.0                      26.9%   \n",
       "19                 4.0                    3534.0                      54.4%   \n",
       "\n",
       "    Inquiries in the Last 6 Months  Accounts Now Delinquent  \\\n",
       "0                              0.0                      0.0   \n",
       "3                              1.0                      0.0   \n",
       "19                             0.0                      0.0   \n",
       "\n",
       "    Delinquent Amount  Delinquencies (Last 2 yrs)  \\\n",
       "0                 0.0                         1.0   \n",
       "3                 0.0                         1.0   \n",
       "19                0.0                         0.0   \n",
       "\n",
       "    Months Since Last Delinquency  Public Records On File  \\\n",
       "0                            11.0                     0.0   \n",
       "3                             5.0                     0.0   \n",
       "19                            0.0                     0.0   \n",
       "\n",
       "    Months Since Last Record Education Employment Length  Code  \n",
       "0                        0.0       NaN          < 1 year   NaN  \n",
       "3                        0.0       NaN           3 years   NaN  \n",
       "19                       0.0       NaN          < 1 year   NaN  "
      ]
     },
     "execution_count": 6,
     "metadata": {},
     "output_type": "execute_result"
    }
   ],
   "source": [
    "#display selected rows from the dataset according to a given condition\n",
    "print(\"Selecting particular rows from the dataset : \")\n",
    "data.loc[(data['Amount Requested'] > 7000)].head(3)\n",
    "# data.loc[(data['CREDIT Grade'] == 'A2') | (data['CREDIT Grade'] == 'B2')].head(3)"
   ]
  },
  {
   "cell_type": "code",
   "execution_count": 7,
   "metadata": {},
   "outputs": [
    {
     "name": "stdout",
     "output_type": "stream",
     "text": [
      "<class 'pandas.core.frame.DataFrame'>\n",
      "RangeIndex: 36396 entries, 0 to 36395\n",
      "Data columns (total 41 columns):\n",
      " #   Column                                   Non-Null Count  Dtype  \n",
      "---  ------                                   --------------  -----  \n",
      " 0   Loan ID                                  36396 non-null  object \n",
      " 1   Amount Requested                         36395 non-null  float64\n",
      " 2   Amount Funded By Investors               36395 non-null  float64\n",
      " 3   Interest Rate                            36395 non-null  object \n",
      " 4   Loan Length                              36395 non-null  object \n",
      " 5   Application Date                         36395 non-null  object \n",
      " 6   Application Expiration Date              36395 non-null  object \n",
      " 7   Issued Date                              36219 non-null  object \n",
      " 8   CREDIT Grade                             36395 non-null  object \n",
      " 9   Loan Title                               36382 non-null  object \n",
      " 10  Loan Purpose                             36395 non-null  object \n",
      " 11  Loan Description                         25852 non-null  object \n",
      " 12  Monthly PAYMENT                          36395 non-null  float64\n",
      " 13  Status                                   36395 non-null  object \n",
      " 14  Total Amount Funded                      36395 non-null  float64\n",
      " 15  Debt-To-Income Ratio                     36395 non-null  object \n",
      " 16  Remaining Principal Funded by Investors  36395 non-null  float64\n",
      " 17  Payments To Date (Funded by investors)   36395 non-null  float64\n",
      " 18  Remaining Principal                      36395 non-null  float64\n",
      " 19   Payments To Date                        36395 non-null  float64\n",
      " 20  Screen Name                              36394 non-null  object \n",
      " 21  City                                     36395 non-null  object \n",
      " 22  State                                    36395 non-null  object \n",
      " 23  Home Ownership                           36395 non-null  object \n",
      " 24  Monthly Income                           36395 non-null  float64\n",
      " 25  FICO Range                               36378 non-null  object \n",
      " 26  Earliest CREDIT Line                     36366 non-null  object \n",
      " 27  Open CREDIT Lines                        36366 non-null  float64\n",
      " 28  Total CREDIT Lines                       36366 non-null  float64\n",
      " 29  Revolving CREDIT Balance                 36366 non-null  float64\n",
      " 30  Revolving Line Utilization               36308 non-null  object \n",
      " 31  Inquiries in the Last 6 Months           36366 non-null  float64\n",
      " 32  Accounts Now Delinquent                  36366 non-null  float64\n",
      " 33  Delinquent Amount                        36366 non-null  float64\n",
      " 34  Delinquencies (Last 2 yrs)               36366 non-null  float64\n",
      " 35  Months Since Last Delinquency            13701 non-null  float64\n",
      " 36  Public Records On File                   36366 non-null  float64\n",
      " 37  Months Since Last Record                 3432 non-null   float64\n",
      " 38  Education                                5873 non-null   object \n",
      " 39  Employment Length                        35492 non-null  object \n",
      " 40  Code                                     25475 non-null  float64\n",
      "dtypes: float64(20), object(21)\n",
      "memory usage: 11.4+ MB\n"
     ]
    }
   ],
   "source": [
    "# printing information about the DataFrame including the name of columns,their dtypes, non-null values and memory usage\n",
    "data.info()"
   ]
  },
  {
   "cell_type": "markdown",
   "metadata": {},
   "source": [
    "# Selecting the required rows\n",
    "\n",
    "## Transforming \"Status\" values"
   ]
  },
  {
   "cell_type": "code",
   "execution_count": 8,
   "metadata": {},
   "outputs": [
    {
     "name": "stdout",
     "output_type": "stream",
     "text": [
      "Display unique values from the attribute \"Status\":\n",
      "\n",
      "1 Fully Paid\n",
      "2 Charged Off\n",
      "3 Late (31-120 days)\n",
      "4 Performing Payment Plan\n",
      "5 Default\n",
      "6 In Grace Period\n",
      "7 Current\n",
      "8 Late (16-30 days)\n",
      "9 Issued\n",
      "10 In Review\n",
      "11 nan\n",
      "12 Does not meet the current credit policy  Status: Fully Paid\n",
      "13 Does not meet the current credit policy  Status: Performing Payment Plan\n",
      "14 Does not meet the current credit policy  Status: Charged Off\n",
      "15 Does not meet the current credit policy  Status: Late (31-120 days)\n",
      "16 Does not meet the current credit policy  Status: In Grace Period\n",
      "17 Does not meet the current credit policy  Status: Late (16-30 days)\n",
      "18 Does not meet the current credit policy  Status: Current\n",
      "19 Does not meet the current credit policy  Status: Default\n"
     ]
    }
   ],
   "source": [
    "#Display the unique values in the attribute of Loan status\n",
    "\n",
    "print(\"Display unique values from the attribute \\\"Status\\\":\\n\")\n",
    "i=1\n",
    "for item in data.Status.unique():\n",
    "    print(i,item)\n",
    "    i+=1"
   ]
  },
  {
   "cell_type": "code",
   "execution_count": 9,
   "metadata": {},
   "outputs": [],
   "source": [
    "#remove all other records except the  'Fully paid', 'Charged off', 'Late (31-120 days), 'Default', 'In Grace Period' and  'Current' records\n",
    "data_with_loanstatus_sliced = data[(data['Status']==\"Fully Paid\") | (data['Status']==\"Charged Off\") |\n",
    "                                   (data['Status']=='Does not meet the current credit policy  Status: Fully Paid') | (data['Status']=='Does not meet the current credit policy  Status: Charged Off') | (data['Status']==\"Late (31-120 days)\") | \n",
    "                                   (data['Status']==\"Default\") | (data['Status']==\"In Grace Period\") | (data['Status']==\"Current\")| (data['Status']==\"Issued\")| (data['Status']==\"Does not meet the current credit policy  Status: Current\")|\n",
    "                                   (data['Status']==\"Does not meet the current credit policy  Status: Late (31-120 days)\")| (data['Status']==\"Does not meet the current credit policy  Status: In Grace Period\")|(data['Status']==\"Does not meet the current credit policy  Status: Default\")]\n",
    "\n",
    "# map the class values to integers\n",
    "#map Fully paid class value to 0, Current class value to 1 , Late (31-120 days) class value to 2, In Grace Period class value to 3, Default class value to 4 and Charged off class value to 5,\n",
    "di = {\"Fully Paid\":0, \"Charged Off\":5, 'Does not meet the current credit policy  Status: Fully Paid':0, 'Does not meet the current credit policy  Status: Charged Off':5, 'Late (31-120 days)':2, 'Default': 4, 'In Grace Period':3, 'Current':1,'Issued':6, 'Does not meet the current credit policy  Status: Current':1, 'Does not meet the current credit policy  Status: Late (31-120 days)':2,'Does not meet the current credit policy  Status: In Grace Period':3,'Does not meet the current credit policy  Status: Default':4} \n",
    "data= data_with_loanstatus_sliced.replace({\"Status\": di})"
   ]
  },
  {
   "cell_type": "code",
   "execution_count": 10,
   "metadata": {
    "scrolled": false
   },
   "outputs": [
    {
     "name": "stdout",
     "output_type": "stream",
     "text": [
      "Unique values in \"Status\" attibute : \n",
      " 1    25345\n",
      "0     5684\n",
      "6     2534\n",
      "5     1604\n",
      "2      421\n",
      "3      242\n",
      "4       39\n",
      "Name: Status, dtype: int64\n",
      "\n",
      "Current shape of dataset : (35869, 41)\n"
     ]
    }
   ],
   "source": [
    "#print the new unique values of the attribute\n",
    "\n",
    "print(\"Unique values in \\\"Status\\\" attibute : \\n\",data['Status'].value_counts())\n",
    "\n",
    "print(\"\\nCurrent shape of dataset :\",data.shape)"
   ]
  },
  {
   "cell_type": "code",
   "execution_count": 11,
   "metadata": {},
   "outputs": [
    {
     "name": "stdout",
     "output_type": "stream",
     "text": [
      "Values of the status column :\n",
      "0        0\n",
      "1        0\n",
      "2        0\n",
      "3        0\n",
      "4        0\n",
      "        ..\n",
      "36391    1\n",
      "36392    1\n",
      "36393    1\n",
      "36394    1\n",
      "36395    1\n",
      "Name: Status, Length: 35869, dtype: int64\n"
     ]
    }
   ],
   "source": [
    "# Printing the status values in the dataframe\n",
    "print(\"Values of the status column :\")\n",
    "print(data['Status'])"
   ]
  },
  {
   "cell_type": "markdown",
   "metadata": {},
   "source": [
    "# The float64 type attributes\n",
    "\n",
    "## Attributes with no changes required"
   ]
  },
  {
   "cell_type": "code",
   "execution_count": 12,
   "metadata": {},
   "outputs": [
    {
     "name": "stdout",
     "output_type": "stream",
     "text": [
      "Sample values in the attribute - Amount Funded By Investors\n",
      "\n",
      "0        7500.0\n",
      "1        5000.0\n",
      "2        5000.0\n",
      "3        8500.0\n",
      "4        2500.0\n",
      "          ...  \n",
      "36391    2500.0\n",
      "36392    5000.0\n",
      "36393    3500.0\n",
      "36394    2925.0\n",
      "36395    2950.0\n",
      "Name: Amount Funded By Investors, Length: 35869, dtype: float64\n"
     ]
    }
   ],
   "source": [
    "# printing the values of the attribute 'Amount Funded By Investors'\n",
    "print(\"Sample values in the attribute - Amount Funded By Investors\\n\")\n",
    "print(data['Amount Funded By Investors'])"
   ]
  },
  {
   "cell_type": "code",
   "execution_count": 13,
   "metadata": {},
   "outputs": [
    {
     "name": "stdout",
     "output_type": "stream",
     "text": [
      "Monthly PAYMENT : float64\n",
      "Monthly Income : float64\n",
      "Open CREDIT Lines : float64\n",
      "Total CREDIT Lines : float64\n",
      "Revolving CREDIT Balance : float64\n",
      "Inquiries in the Last 6 Months : float64\n",
      "Delinquencies (Last 2 yrs) : float64\n",
      "Public Records On File : float64\n",
      "Months Since Last Record : float64\n",
      "Amount Requested : float64\n",
      "Total Amount Funded :float64\n",
      "Remaining Principal Funded by Investors :float64\n",
      "Payments To Date (Funded by investors) :float64\n",
      "Remaining Principal :float64\n",
      "Payments To Date :float64\n",
      "Accounts Now Delinquent :float64\n",
      "Delinquent Amount :float64\n",
      "Months Since Last Delinquency :float64\n"
     ]
    }
   ],
   "source": [
    "#all the float64 type of attributes\n",
    "\n",
    "print(\"Monthly PAYMENT : \", end='')\n",
    "print(data['Monthly PAYMENT'].dtype)\n",
    "\n",
    "print(\"Monthly Income : \", end='')\n",
    "print(data['Monthly Income'].dtype)\n",
    "\n",
    "print(\"Open CREDIT Lines : \", end='')\n",
    "print(data['Open CREDIT Lines'].dtype)\n",
    "\n",
    "print(\"Total CREDIT Lines : \", end='')\n",
    "print(data['Total CREDIT Lines'].dtype)\n",
    "\n",
    "print(\"Revolving CREDIT Balance : \", end='')\n",
    "print(data['Revolving CREDIT Balance'].dtype)\n",
    "\n",
    "print(\"Inquiries in the Last 6 Months : \", end='')\n",
    "print(data['Inquiries in the Last 6 Months'].dtype)\n",
    "\n",
    "print(\"Delinquencies (Last 2 yrs) : \", end='')\n",
    "print(data['Delinquencies (Last 2 yrs)'].dtype)\n",
    "\n",
    "print(\"Public Records On File : \", end='')\n",
    "print(data['Public Records On File'].dtype)\n",
    "\n",
    "print(\"Months Since Last Record : \", end='')\n",
    "print(data['Months Since Last Record'].dtype)\n",
    "\n",
    "print(\"Amount Requested : \", end='')\n",
    "print(data['Amount Requested'].dtype)\n",
    "\n",
    "print(\"Total Amount Funded :\", end='')\n",
    "print(data['Total Amount Funded'].dtype)\n",
    "\n",
    "print(\"Remaining Principal Funded by Investors :\", end='')\n",
    "print(data['Remaining Principal Funded by Investors'].dtype)\n",
    "\n",
    "print(\"Payments To Date (Funded by investors) :\", end='')\n",
    "print(data['Payments To Date (Funded by investors)'].dtype)\n",
    "\n",
    "print(\"Remaining Principal :\", end='')\n",
    "print(data['Remaining Principal '].dtype)\n",
    "\n",
    "print(\"Payments To Date :\", end='')\n",
    "print(data[' Payments To Date'].dtype)\n",
    "\n",
    "print(\"Accounts Now Delinquent :\", end='')\n",
    "print(data['Accounts Now Delinquent'].dtype)\n",
    "\n",
    "print(\"Delinquent Amount :\", end='')\n",
    "print(data['Delinquent Amount'].dtype)\n",
    "\n",
    "print(\"Months Since Last Delinquency :\", end='')\n",
    "print(data['Months Since Last Delinquency'].dtype)"
   ]
  },
  {
   "cell_type": "markdown",
   "metadata": {},
   "source": [
    "# Date type attributes\n",
    "\n",
    "## converting date to numerical values"
   ]
  },
  {
   "cell_type": "code",
   "execution_count": 14,
   "metadata": {
    "scrolled": true
   },
   "outputs": [
    {
     "name": "stdout",
     "output_type": "stream",
     "text": [
      "Sample values in the attribute - Earliest CREDIT Line\n",
      "\n",
      "0        2003-10-27\n",
      "1        1988-11-19\n",
      "2        1998-10-28\n",
      "3        1986-12-30\n",
      "4        1990-11-11\n",
      "            ...    \n",
      "36391    2002-12-10\n",
      "36392    2005-10-25\n",
      "36393    1990-02-17\n",
      "36394    1992-12-03\n",
      "36395    2001-05-20\n",
      "Name: Earliest CREDIT Line, Length: 35869, dtype: object\n"
     ]
    }
   ],
   "source": [
    "#display samples of the \"Earliest CREDIT Line\" attribute\n",
    "\n",
    "print(\"Sample values in the attribute - Earliest CREDIT Line\\n\")\n",
    "\n",
    "print(data['Earliest CREDIT Line'])"
   ]
  },
  {
   "cell_type": "code",
   "execution_count": 15,
   "metadata": {},
   "outputs": [],
   "source": [
    "#converting \"Earliest CREDIT Line\" attribute to  Python Date time object\n",
    "data['Earliest CREDIT Line'] = pd.to_datetime(data['Earliest CREDIT Line'])"
   ]
  },
  {
   "cell_type": "code",
   "execution_count": 16,
   "metadata": {},
   "outputs": [
    {
     "data": {
      "text/plain": [
       "True"
      ]
     },
     "execution_count": 16,
     "metadata": {},
     "output_type": "execute_result"
    }
   ],
   "source": [
    "# Checking if there is any null value present in the column 'Earliest CREDIT Line'\n",
    "data['Earliest CREDIT Line'].isna().any()"
   ]
  },
  {
   "cell_type": "code",
   "execution_count": 17,
   "metadata": {
    "scrolled": true
   },
   "outputs": [],
   "source": [
    "#Finding median of day, month and year\n",
    "dd=int(data['Earliest CREDIT Line'].dt.day.median())\n",
    "mm=int(data['Earliest CREDIT Line'].dt.month.median())\n",
    "yy=int(data['Earliest CREDIT Line'].dt.year.median())"
   ]
  },
  {
   "cell_type": "code",
   "execution_count": 18,
   "metadata": {},
   "outputs": [
    {
     "name": "stdout",
     "output_type": "stream",
     "text": [
      "Median of day is :  16\n",
      "Median of month is :  7\n",
      "Median of year is :  1998\n"
     ]
    }
   ],
   "source": [
    "#Printing median of day, month and year\n",
    "print('Median of day is : ', dd)\n",
    "print('Median of month is : ', mm)\n",
    "print('Median of year is : ', yy)"
   ]
  },
  {
   "cell_type": "code",
   "execution_count": 19,
   "metadata": {},
   "outputs": [],
   "source": [
    "#combining the median of day, month and year to a median date\n",
    "d = dt.datetime(yy,mm,dd)\n",
    "date = d.date()"
   ]
  },
  {
   "cell_type": "code",
   "execution_count": 20,
   "metadata": {},
   "outputs": [
    {
     "name": "stdout",
     "output_type": "stream",
     "text": [
      "Median date is :  1998-07-16\n"
     ]
    }
   ],
   "source": [
    "# printing the median date\n",
    "print('Median date is : ',date)"
   ]
  },
  {
   "cell_type": "code",
   "execution_count": 21,
   "metadata": {},
   "outputs": [],
   "source": [
    "#replacing null values with median date\n",
    "data['Earliest CREDIT Line'] = data['Earliest CREDIT Line'].fillna(date)"
   ]
  },
  {
   "cell_type": "code",
   "execution_count": 22,
   "metadata": {},
   "outputs": [
    {
     "data": {
      "text/plain": [
       "False"
      ]
     },
     "execution_count": 22,
     "metadata": {},
     "output_type": "execute_result"
    }
   ],
   "source": [
    "# Again checking if there is any null value present in the column 'Earliest CREDIT Line'\n",
    "data['Earliest CREDIT Line'].isna().any()"
   ]
  },
  {
   "cell_type": "code",
   "execution_count": 23,
   "metadata": {},
   "outputs": [],
   "source": [
    "#conversion of other date-type of attributes\n",
    "#replacing null values with median\n",
    "\n",
    "data['Application Date'] = pd.to_datetime(data['Application Date'])\n",
    "dd=int(data['Application Date'].dt.day.median())\n",
    "mm=int(data['Application Date'].dt.month.median())\n",
    "yy=int(data['Application Date'].dt.year.median())\n",
    "d = dt.datetime(yy,mm,dd)\n",
    "date = d.date()\n",
    "data['Application Date'] = data['Application Date'].fillna(date)\n",
    "\n",
    "\n",
    "data['Application Expiration Date'] = pd.to_datetime(data['Application Expiration Date'])\n",
    "dd=int(data['Application Expiration Date'].dt.day.median())\n",
    "mm=int(data['Application Expiration Date'].dt.month.median())\n",
    "yy=int(data['Application Expiration Date'].dt.year.median())\n",
    "d = dt.datetime(yy,mm,dd)\n",
    "date = d.date()\n",
    "data['Application Expiration Date'] = data['Application Expiration Date'].fillna(date)\n",
    "\n",
    "\n",
    "data['Issued Date'] = pd.to_datetime(data['Issued Date'])\n",
    "dd=int(data['Issued Date'].dt.day.median())\n",
    "mm=int(data['Issued Date'].dt.month.median())\n",
    "yy=int(data['Issued Date'].dt.year.median())\n",
    "d = dt.datetime(yy,mm,dd)\n",
    "date = d.date()\n",
    "data['Issued Date'] = data['Issued Date'].fillna(date)"
   ]
  },
  {
   "cell_type": "markdown",
   "metadata": {},
   "source": [
    "# Percentage attributes\n",
    "\n",
    "## converting string values to numeric values"
   ]
  },
  {
   "cell_type": "code",
   "execution_count": 24,
   "metadata": {},
   "outputs": [
    {
     "name": "stdout",
     "output_type": "stream",
     "text": [
      "Sample values in the attribute - Interest Rate\n",
      "\n",
      "0        13.75%\n",
      "1         7.43%\n",
      "2         8.07%\n",
      "3        10.28%\n",
      "4         8.07%\n",
      "          ...  \n",
      "36391    14.83%\n",
      "36392    15.20%\n",
      "36393    15.57%\n",
      "36394    19.66%\n",
      "36395    15.95%\n",
      "Name: Interest Rate, Length: 35869, dtype: object\n"
     ]
    }
   ],
   "source": [
    "#display sample values from the attribute - interest rate\n",
    "\n",
    "print(\"Sample values in the attribute - Interest Rate\\n\")\n",
    "print(data['Interest Rate'])"
   ]
  },
  {
   "cell_type": "code",
   "execution_count": 25,
   "metadata": {},
   "outputs": [
    {
     "name": "stdout",
     "output_type": "stream",
     "text": [
      "Sample values in the attribute - Interest Rate, after processing\n",
      "\n",
      "0        13.75\n",
      "1         7.43\n",
      "2         8.07\n",
      "3        10.28\n",
      "4         8.07\n",
      "         ...  \n",
      "36391    14.83\n",
      "36392    15.20\n",
      "36393    15.57\n",
      "36394    19.66\n",
      "36395    15.95\n",
      "Name: Interest Rate, Length: 35869, dtype: float64\n"
     ]
    }
   ],
   "source": [
    "#remove the '%' character from the string values of the attribute\n",
    "data['Interest Rate'] = data['Interest Rate'].replace({'%':''}, regex = True)\n",
    "\n",
    "#convert the attribute values to float\n",
    "data['Interest Rate'] = data['Interest Rate'].apply(lambda x:float(x))\n",
    "\n",
    "#display the new values of attribute\n",
    "print(\"Sample values in the attribute - Interest Rate, after processing\\n\")\n",
    "print(data['Interest Rate'])"
   ]
  },
  {
   "cell_type": "code",
   "execution_count": 26,
   "metadata": {},
   "outputs": [],
   "source": [
    "#processing of similar attributes with % at the end of the values\n",
    "\n",
    "data['Debt-To-Income Ratio'] = data['Debt-To-Income Ratio'].replace({'%':''}, regex = True)\n",
    "data['Debt-To-Income Ratio'] = data['Debt-To-Income Ratio'].apply(lambda x:float(x))\n",
    "\n",
    "data['Revolving Line Utilization'] = data['Revolving Line Utilization'].replace({'%':''}, regex = True)\n",
    "data['Revolving Line Utilization'] = data['Revolving Line Utilization'].apply(lambda x:float(x))"
   ]
  },
  {
   "cell_type": "markdown",
   "metadata": {},
   "source": [
    "# Attributes with redundant information\n",
    "\n",
    "## removing the ' months' part from the values"
   ]
  },
  {
   "cell_type": "code",
   "execution_count": 27,
   "metadata": {},
   "outputs": [
    {
     "name": "stdout",
     "output_type": "stream",
     "text": [
      "Sample values in the attribute - Loan Length\n",
      "\n",
      "0        36 months\n",
      "1        36 months\n",
      "2        36 months\n",
      "3        36 months\n",
      "4        36 months\n",
      "           ...    \n",
      "36391    60 months\n",
      "36392    36 months\n",
      "36393    60 months\n",
      "36394    60 months\n",
      "36395    60 months\n",
      "Name: Loan Length, Length: 35869, dtype: object\n"
     ]
    }
   ],
   "source": [
    "#display sample values from the attribute\n",
    "print(\"Sample values in the attribute - Loan Length\\n\")\n",
    "print(data['Loan Length'])"
   ]
  },
  {
   "cell_type": "code",
   "execution_count": 28,
   "metadata": {},
   "outputs": [
    {
     "name": "stdout",
     "output_type": "stream",
     "text": [
      "Sample values in the attribute - Loan Length, after processing\n",
      "\n",
      "0        36\n",
      "1        36\n",
      "2        36\n",
      "3        36\n",
      "4        36\n",
      "         ..\n",
      "36391    60\n",
      "36392    36\n",
      "36393    60\n",
      "36394    60\n",
      "36395    60\n",
      "Name: Loan Length, Length: 35869, dtype: int64\n"
     ]
    }
   ],
   "source": [
    "#remove the ' month' part from the string values\n",
    "data['Loan Length'] = data['Loan Length'].replace({' months':''}, regex = True)\n",
    "\n",
    "#convert the strings into integer type\n",
    "data['Loan Length'] = data['Loan Length'].apply(lambda x:int(x))\n",
    "\n",
    "#display the processed values\n",
    "print(\"Sample values in the attribute - Loan Length, after processing\\n\")\n",
    "print(data['Loan Length'])"
   ]
  },
  {
   "cell_type": "markdown",
   "metadata": {},
   "source": [
    "# Categorical Attributes\n",
    "\n",
    "## mapping to class numbers"
   ]
  },
  {
   "cell_type": "code",
   "execution_count": 29,
   "metadata": {},
   "outputs": [
    {
     "name": "stdout",
     "output_type": "stream",
     "text": [
      "['E2' 'A2' 'A4' 'C1' 'B1' 'C4' 'B5' 'B3' 'A5' 'A3' 'B2' 'C2' 'F4' 'C5'\n",
      " 'E1' 'D3' 'B4' 'D1' 'F1' 'D4' 'C3' 'D2' 'F2' 'A1' 'E4' 'F3' 'E5' 'D5'\n",
      " 'E3' 'G5' 'F5' 'G4' 'G3' 'G2' 'G1']\n"
     ]
    }
   ],
   "source": [
    "#rename the attribute\n",
    "data.rename(columns = {'CREDIT Grade':'CREDIT_Grade'}, inplace = True)\n",
    "print(data.CREDIT_Grade.unique())"
   ]
  },
  {
   "cell_type": "code",
   "execution_count": 30,
   "metadata": {},
   "outputs": [
    {
     "name": "stdout",
     "output_type": "stream",
     "text": [
      "Sample values in the attribute - CREDIT_Grade\n",
      "\n",
      "0        E2\n",
      "1        A2\n",
      "2        A4\n",
      "3        C1\n",
      "4        A4\n",
      "         ..\n",
      "36391    D3\n",
      "36392    D4\n",
      "36393    D5\n",
      "36394    G1\n",
      "36395    E1\n",
      "Name: CREDIT_Grade, Length: 35869, dtype: object\n"
     ]
    }
   ],
   "source": [
    "#display sample values of the attribute\n",
    "print(\"Sample values in the attribute - CREDIT_Grade\\n\")\n",
    "print(data['CREDIT_Grade'])"
   ]
  },
  {
   "cell_type": "code",
   "execution_count": 31,
   "metadata": {},
   "outputs": [
    {
     "name": "stdout",
     "output_type": "stream",
     "text": [
      "Display unique values of the attribute : Home_Ownership\n",
      "['OWN' 'MORTGAGE' 'RENT' 'NONE' 'ANY']\n"
     ]
    }
   ],
   "source": [
    "#renaming the attribute\n",
    "data.rename(columns = {'Home Ownership':'Home_Ownership'}, inplace = True)\n",
    "print(\"Display unique values of the attribute : Home_Ownership\")\n",
    "print(data.Home_Ownership.unique())"
   ]
  },
  {
   "cell_type": "code",
   "execution_count": 32,
   "metadata": {},
   "outputs": [
    {
     "name": "stdout",
     "output_type": "stream",
     "text": [
      "Display unique values of the attribute : FICO_Range\n",
      "['660-678' '780+' '714-749' '679-713' '750-779' nan '640-659']\n"
     ]
    }
   ],
   "source": [
    "#rename the attribute\n",
    "data.rename(columns = {'FICO Range':'FICO_Range'}, inplace = True)\n",
    "\n",
    "#print unique values of the attribute\n",
    "print(\"Display unique values of the attribute : FICO_Range\")\n",
    "print(data.FICO_Range.unique())"
   ]
  },
  {
   "cell_type": "code",
   "execution_count": 33,
   "metadata": {},
   "outputs": [
    {
     "name": "stdout",
     "output_type": "stream",
     "text": [
      "Display unique values of the attribute : FICO_Range after mapping :\n",
      "[ 5.  1.  3.  4.  2. nan  6.]\n",
      "\n",
      "\n",
      "Display unique values of the attribute : FICO_Range after filling nan\n",
      "[5. 1. 3. 4. 2. 6.]\n"
     ]
    }
   ],
   "source": [
    "#map the categories of the attributes to numbers\n",
    "data[\"FICO_Range\"] = data[\"FICO_Range\"].map({\"640-659\":6,\"660-678\":5,\"679-713\":4,\"714-749\":3,\"750-779\":2,\"780+\":1})\n",
    "\n",
    "#print the unique values after mapping\n",
    "print(\"Display unique values of the attribute : FICO_Range after mapping :\")\n",
    "print(data.FICO_Range.unique())\n",
    "\n",
    "#replace the nan values with 3\n",
    "data['FICO_Range'] = data['FICO_Range'].fillna(3)\n",
    "\n",
    "#display the processed values\n",
    "print(\"\\n\\nDisplay unique values of the attribute : FICO_Range after filling nan\")\n",
    "print(data.FICO_Range.unique())"
   ]
  },
  {
   "cell_type": "code",
   "execution_count": 34,
   "metadata": {},
   "outputs": [
    {
     "name": "stdout",
     "output_type": "stream",
     "text": [
      "Display unique values of the attribute : Education\n",
      "\n",
      "nan\n",
      "Youngstown State University\n",
      "University of Connecticut\n",
      "Rochester Institute of Technology (RIT)\n",
      "Penn State-University Park\n"
     ]
    }
   ],
   "source": [
    "#display unique values of the education attribute\n",
    "print(\"Display unique values of the attribute : Education\\n\")\n",
    "for item in data.Education.unique()[:5]:\n",
    "    print(item)"
   ]
  },
  {
   "cell_type": "code",
   "execution_count": 35,
   "metadata": {},
   "outputs": [
    {
     "name": "stdout",
     "output_type": "stream",
     "text": [
      "Display unique values of the attribute : Education after processing\n",
      "\n",
      "[0 1]\n",
      "\n",
      "\n",
      "Sample values of the attribute :  Education after processing\n",
      "\n",
      "0        0\n",
      "1        0\n",
      "2        0\n",
      "3        0\n",
      "4        0\n",
      "        ..\n",
      "36391    0\n",
      "36392    0\n",
      "36393    0\n",
      "36394    0\n",
      "36395    0\n",
      "Name: Education, Length: 35869, dtype: int64\n"
     ]
    }
   ],
   "source": [
    "#replace the nan values with 0\n",
    "data['Education'] = data['Education'].fillna(0)\n",
    "\n",
    "#replace the strings with 1\n",
    "def repl_str(x):\n",
    "    if x==0:\n",
    "        return 0\n",
    "    else:\n",
    "        return 1    \n",
    "\n",
    "data['Education'] = data['Education'].apply(repl_str)\n",
    "\n",
    "#display unique values of the attribute\n",
    "print(\"Display unique values of the attribute : Education after processing\\n\")\n",
    "print(data.Education.unique())\n",
    "\n",
    "#display sample values of the attribute\n",
    "print(\"\\n\\nSample values of the attribute :  Education after processing\\n\")\n",
    "print(data['Education'])"
   ]
  },
  {
   "cell_type": "code",
   "execution_count": 36,
   "metadata": {},
   "outputs": [
    {
     "name": "stdout",
     "output_type": "stream",
     "text": [
      "Display unique values of attribute : Employment Length\n",
      "\n",
      "['< 1 year' '3 years' '4 years' '5 years' '1 year' '2 years' '8 years'\n",
      " '7 years' '6 years' '9 years' '10+ years' nan]\n"
     ]
    }
   ],
   "source": [
    "#rename the attribute\n",
    "data.rename(columns = {'Employment Length':'Employment_Length'}, inplace = True)\n",
    "\n",
    "#display unique values of the attribute\n",
    "print(\"Display unique values of attribute : Employment Length\\n\")\n",
    "print(data.Employment_Length.unique())"
   ]
  },
  {
   "cell_type": "code",
   "execution_count": 37,
   "metadata": {},
   "outputs": [
    {
     "name": "stdout",
     "output_type": "stream",
     "text": [
      "Display unique values of attribute : Employment Length after processing\n",
      "\n",
      "[ 1.  4.  5.  6.  2.  3.  9.  8.  7. 10. 11.  0.]\n"
     ]
    }
   ],
   "source": [
    "#map the categories to numbers\n",
    "data[\"Employment_Length\"] = data[\"Employment_Length\"].map({'< 1 year':1, '3 years':4, '4 years':5, '5 years':6, '1 year':2, '2 years':3, '8 years':9, '7 years':8, '6 years':7, '9 years':10, '10+ years':11})\n",
    "\n",
    "#replace nan values with 0\n",
    "data['Employment_Length'] = data['Employment_Length'].fillna(0)\n",
    "\n",
    "#display the unique values after processing\n",
    "print(\"Display unique values of attribute : Employment Length after processing\\n\")\n",
    "print(data.Employment_Length.unique())"
   ]
  },
  {
   "cell_type": "code",
   "execution_count": 38,
   "metadata": {},
   "outputs": [
    {
     "name": "stdout",
     "output_type": "stream",
     "text": [
      "Number of unique Loan Purpose in the dataset : \n",
      "14\n",
      "debt_consolidation    16270\n",
      "credit_card            4376\n",
      "other                  3855\n",
      "home_improvement       2808\n",
      "major_purchase         2113\n",
      "small_business         1699\n",
      "car                    1445\n",
      "wedding                 886\n",
      "medical                 647\n",
      "moving                  557\n",
      "educational             417\n",
      "house                   357\n",
      "vacation                343\n",
      "renewable_energy         96\n",
      "Name: Loan Purpose, dtype: int64\n"
     ]
    }
   ],
   "source": [
    "#display unique values of the attribute and the total records corresponding to these unique values\n",
    "print(\"Number of unique Loan Purpose in the dataset : \")\n",
    "print(data['Loan Purpose'].unique().shape[0])\n",
    "print(data['Loan Purpose'].value_counts())"
   ]
  },
  {
   "cell_type": "markdown",
   "metadata": {},
   "source": [
    "# Other attributes"
   ]
  },
  {
   "cell_type": "code",
   "execution_count": 39,
   "metadata": {},
   "outputs": [
    {
     "name": "stdout",
     "output_type": "stream",
     "text": [
      "Total number of unique City names present in the dataset : \n",
      "10222\n"
     ]
    }
   ],
   "source": [
    "#display the number of cities present in the dataset\n",
    "print(\"Total number of unique City names present in the dataset : \")\n",
    "print(data.City.unique().shape[0])"
   ]
  },
  {
   "cell_type": "code",
   "execution_count": 40,
   "metadata": {},
   "outputs": [
    {
     "name": "stdout",
     "output_type": "stream",
     "text": [
      "Total number of unique State names present in the dataset : \n",
      "50\n"
     ]
    }
   ],
   "source": [
    "#display the number of states present in the dataset\n",
    "print(\"Total number of unique State names present in the dataset : \")\n",
    "print(data.State.unique().shape[0])"
   ]
  },
  {
   "cell_type": "code",
   "execution_count": 41,
   "metadata": {},
   "outputs": [
    {
     "name": "stdout",
     "output_type": "stream",
     "text": [
      "Number of unique Loan Titles in the dataset : \n",
      "19217\n"
     ]
    }
   ],
   "source": [
    "#display the number of loan titles in the dataset\n",
    "print(\"Number of unique Loan Titles in the dataset : \")\n",
    "print(data['Loan Title'].unique().shape[0])"
   ]
  },
  {
   "cell_type": "markdown",
   "metadata": {},
   "source": [
    "## Filling nan with means of the corresponding column"
   ]
  },
  {
   "cell_type": "code",
   "execution_count": 42,
   "metadata": {},
   "outputs": [],
   "source": [
    "#replace all the remaining nan values in the dataset with the mean of the column\n",
    "data = data.fillna(data.mean())"
   ]
  },
  {
   "cell_type": "code",
   "execution_count": 43,
   "metadata": {},
   "outputs": [],
   "source": [
    "#saving copy of data for analysis\n",
    "data_copy = data.copy()"
   ]
  },
  {
   "cell_type": "markdown",
   "metadata": {},
   "source": [
    "# Model Building"
   ]
  },
  {
   "cell_type": "markdown",
   "metadata": {},
   "source": [
    "### Attribute selection"
   ]
  },
  {
   "cell_type": "code",
   "execution_count": 44,
   "metadata": {},
   "outputs": [
    {
     "name": "stdout",
     "output_type": "stream",
     "text": [
      "Remaining columns after selection : \n",
      "\n",
      "Amount Requested\n",
      "Interest Rate\n",
      "Loan Length\n",
      "Monthly PAYMENT\n",
      "Status\n",
      "Debt-To-Income Ratio\n",
      "Remaining Principal \n",
      " Payments To Date\n",
      "Monthly Income\n",
      "Open CREDIT Lines\n",
      "Total CREDIT Lines\n",
      "Revolving CREDIT Balance\n",
      "Revolving Line Utilization\n"
     ]
    }
   ],
   "source": [
    "#list of attributes ignored for our analysis\n",
    "dcolumns = ['Loan ID', 'Amount Funded By Investors','Loan Title','Loan Purpose',\n",
    "            'Loan Description','Total Amount Funded','Remaining Principal Funded by Investors',\n",
    "            'Payments To Date (Funded by investors)',\n",
    "            'Screen Name','City','Code' ,'Application Date', 'Application Expiration Date', 'Issued Date','Earliest CREDIT Line',\n",
    "           'Inquiries in the Last 6 Months','Accounts Now Delinquent','Delinquent Amount','Delinquencies (Last 2 yrs)',\n",
    "            'Months Since Last Delinquency','Public Records On File','Months Since Last Record',\n",
    "           'CREDIT_Grade','State','Home_Ownership','FICO_Range','Education','Employment_Length']\n",
    "\n",
    "#attribute removal\n",
    "data = data.drop(dcolumns, axis=1)\n",
    "\n",
    "#display the remainig attributes\n",
    "print(\"Remaining columns after selection : \\n\")\n",
    "for item in data.columns.values:\n",
    "    print(item)"
   ]
  },
  {
   "cell_type": "code",
   "execution_count": 45,
   "metadata": {},
   "outputs": [
    {
     "data": {
      "text/plain": [
       "Amount Requested              0\n",
       "Interest Rate                 0\n",
       "Loan Length                   0\n",
       "Monthly PAYMENT               0\n",
       "Status                        0\n",
       "Debt-To-Income Ratio          0\n",
       "Remaining Principal           0\n",
       " Payments To Date             0\n",
       "Monthly Income                0\n",
       "Open CREDIT Lines             0\n",
       "Total CREDIT Lines            0\n",
       "Revolving CREDIT Balance      0\n",
       "Revolving Line Utilization    0\n",
       "dtype: int64"
      ]
     },
     "execution_count": 45,
     "metadata": {},
     "output_type": "execute_result"
    }
   ],
   "source": [
    "# Checking total null values in each column in the dataframe\n",
    "data.isna().sum()"
   ]
  },
  {
   "cell_type": "code",
   "execution_count": 46,
   "metadata": {},
   "outputs": [
    {
     "name": "stdout",
     "output_type": "stream",
     "text": [
      "1000 sample profiles copied from the dataset : \n",
      "1000 profiles removed from the dataset... \n"
     ]
    }
   ],
   "source": [
    "# separate some sample profiles/records to test the trained models\n",
    "\n",
    "# copy few records\n",
    "samples = data.tail(1000)\n",
    "print(\"1000 sample profiles copied from the dataset : \")\n",
    "\n",
    "#delete the above records from the dataset\n",
    "data = data.iloc[:-1000]\n",
    "print(\"1000 profiles removed from the dataset... \")"
   ]
  },
  {
   "cell_type": "markdown",
   "metadata": {},
   "source": [
    "# Dataset preparation"
   ]
  },
  {
   "cell_type": "code",
   "execution_count": 47,
   "metadata": {},
   "outputs": [],
   "source": [
    "#save the values into two datasets - input and output\n",
    "\n",
    "#save the class variable\n",
    "status = data['Status']\n",
    "\n",
    "#save the remaining (predictor) attributes\n",
    "other_att = data.drop(['Status'], axis=1)\n"
   ]
  },
  {
   "cell_type": "code",
   "execution_count": 48,
   "metadata": {},
   "outputs": [
    {
     "data": {
      "text/plain": [
       "0        0\n",
       "1        0\n",
       "2        0\n",
       "3        0\n",
       "4        0\n",
       "        ..\n",
       "34864    0\n",
       "34865    1\n",
       "34866    1\n",
       "34867    0\n",
       "34868    0\n",
       "Name: Status, Length: 34869, dtype: int64"
      ]
     },
     "execution_count": 48,
     "metadata": {},
     "output_type": "execute_result"
    }
   ],
   "source": [
    "# Reset the index of the DataFrame \n",
    "# drops the current index of the DataFrame and replaces it with an index of increasing integers.\n",
    "status.reset_index(inplace=True,drop=True)\n",
    "status"
   ]
  },
  {
   "cell_type": "markdown",
   "metadata": {},
   "source": [
    "# Normalizing the dataset"
   ]
  },
  {
   "cell_type": "code",
   "execution_count": 49,
   "metadata": {
    "scrolled": true
   },
   "outputs": [
    {
     "data": {
      "text/html": [
       "<div>\n",
       "<style scoped>\n",
       "    .dataframe tbody tr th:only-of-type {\n",
       "        vertical-align: middle;\n",
       "    }\n",
       "\n",
       "    .dataframe tbody tr th {\n",
       "        vertical-align: top;\n",
       "    }\n",
       "\n",
       "    .dataframe thead th {\n",
       "        text-align: right;\n",
       "    }\n",
       "</style>\n",
       "<table border=\"1\" class=\"dataframe\">\n",
       "  <thead>\n",
       "    <tr style=\"text-align: right;\">\n",
       "      <th></th>\n",
       "      <th>Amount Requested</th>\n",
       "      <th>Interest Rate</th>\n",
       "      <th>Loan Length</th>\n",
       "      <th>Monthly PAYMENT</th>\n",
       "      <th>Debt-To-Income Ratio</th>\n",
       "      <th>Remaining Principal</th>\n",
       "      <th>Payments To Date</th>\n",
       "      <th>Monthly Income</th>\n",
       "      <th>Open CREDIT Lines</th>\n",
       "      <th>Total CREDIT Lines</th>\n",
       "      <th>Revolving CREDIT Balance</th>\n",
       "      <th>Revolving Line Utilization</th>\n",
       "    </tr>\n",
       "  </thead>\n",
       "  <tbody>\n",
       "    <tr>\n",
       "      <th>0</th>\n",
       "      <td>0.202899</td>\n",
       "      <td>0.434533</td>\n",
       "      <td>0.0</td>\n",
       "      <td>0.185930</td>\n",
       "      <td>0.476492</td>\n",
       "      <td>0.000001</td>\n",
       "      <td>0.258127</td>\n",
       "      <td>0.003667</td>\n",
       "      <td>0.130435</td>\n",
       "      <td>0.078652</td>\n",
       "      <td>0.004385</td>\n",
       "      <td>0.432773</td>\n",
       "    </tr>\n",
       "    <tr>\n",
       "      <th>1</th>\n",
       "      <td>0.130435</td>\n",
       "      <td>0.104851</td>\n",
       "      <td>0.0</td>\n",
       "      <td>0.108343</td>\n",
       "      <td>0.124041</td>\n",
       "      <td>0.000001</td>\n",
       "      <td>0.145252</td>\n",
       "      <td>0.033333</td>\n",
       "      <td>0.347826</td>\n",
       "      <td>0.280899</td>\n",
       "      <td>0.089922</td>\n",
       "      <td>0.005882</td>\n",
       "    </tr>\n",
       "    <tr>\n",
       "      <th>2</th>\n",
       "      <td>0.130435</td>\n",
       "      <td>0.138237</td>\n",
       "      <td>0.0</td>\n",
       "      <td>0.109475</td>\n",
       "      <td>0.076692</td>\n",
       "      <td>0.000001</td>\n",
       "      <td>0.148001</td>\n",
       "      <td>0.016667</td>\n",
       "      <td>0.217391</td>\n",
       "      <td>0.213483</td>\n",
       "      <td>0.010187</td>\n",
       "      <td>0.163025</td>\n",
       "    </tr>\n",
       "    <tr>\n",
       "      <th>3</th>\n",
       "      <td>0.231884</td>\n",
       "      <td>0.253521</td>\n",
       "      <td>0.0</td>\n",
       "      <td>0.201401</td>\n",
       "      <td>0.213404</td>\n",
       "      <td>0.000001</td>\n",
       "      <td>0.278269</td>\n",
       "      <td>0.003000</td>\n",
       "      <td>0.108696</td>\n",
       "      <td>0.089888</td>\n",
       "      <td>0.009293</td>\n",
       "      <td>0.226050</td>\n",
       "    </tr>\n",
       "    <tr>\n",
       "      <th>4</th>\n",
       "      <td>0.057971</td>\n",
       "      <td>0.138237</td>\n",
       "      <td>0.0</td>\n",
       "      <td>0.048662</td>\n",
       "      <td>0.377793</td>\n",
       "      <td>0.000001</td>\n",
       "      <td>0.079241</td>\n",
       "      <td>0.018333</td>\n",
       "      <td>0.260870</td>\n",
       "      <td>0.438202</td>\n",
       "      <td>0.007641</td>\n",
       "      <td>0.110084</td>\n",
       "    </tr>\n",
       "    <tr>\n",
       "      <th>...</th>\n",
       "      <td>...</td>\n",
       "      <td>...</td>\n",
       "      <td>...</td>\n",
       "      <td>...</td>\n",
       "      <td>...</td>\n",
       "      <td>...</td>\n",
       "      <td>...</td>\n",
       "      <td>...</td>\n",
       "      <td>...</td>\n",
       "      <td>...</td>\n",
       "      <td>...</td>\n",
       "      <td>...</td>\n",
       "    </tr>\n",
       "    <tr>\n",
       "      <th>34864</th>\n",
       "      <td>0.130435</td>\n",
       "      <td>0.370892</td>\n",
       "      <td>0.0</td>\n",
       "      <td>0.117617</td>\n",
       "      <td>0.283428</td>\n",
       "      <td>0.000001</td>\n",
       "      <td>0.154544</td>\n",
       "      <td>0.024000</td>\n",
       "      <td>0.065217</td>\n",
       "      <td>0.123596</td>\n",
       "      <td>0.181554</td>\n",
       "      <td>0.581008</td>\n",
       "    </tr>\n",
       "    <tr>\n",
       "      <th>34865</th>\n",
       "      <td>0.275362</td>\n",
       "      <td>0.298383</td>\n",
       "      <td>0.0</td>\n",
       "      <td>0.242237</td>\n",
       "      <td>0.350784</td>\n",
       "      <td>0.130692</td>\n",
       "      <td>0.193364</td>\n",
       "      <td>0.005000</td>\n",
       "      <td>0.217391</td>\n",
       "      <td>0.146067</td>\n",
       "      <td>0.007697</td>\n",
       "      <td>0.182353</td>\n",
       "    </tr>\n",
       "    <tr>\n",
       "      <th>34866</th>\n",
       "      <td>0.275362</td>\n",
       "      <td>0.515910</td>\n",
       "      <td>0.0</td>\n",
       "      <td>0.257840</td>\n",
       "      <td>0.649550</td>\n",
       "      <td>0.135080</td>\n",
       "      <td>0.205166</td>\n",
       "      <td>0.008667</td>\n",
       "      <td>0.152174</td>\n",
       "      <td>0.325843</td>\n",
       "      <td>0.018597</td>\n",
       "      <td>0.568067</td>\n",
       "    </tr>\n",
       "    <tr>\n",
       "      <th>34867</th>\n",
       "      <td>0.014493</td>\n",
       "      <td>0.316119</td>\n",
       "      <td>0.0</td>\n",
       "      <td>0.013416</td>\n",
       "      <td>0.683561</td>\n",
       "      <td>0.000001</td>\n",
       "      <td>0.032032</td>\n",
       "      <td>0.014983</td>\n",
       "      <td>0.478261</td>\n",
       "      <td>0.573034</td>\n",
       "      <td>0.125736</td>\n",
       "      <td>0.160504</td>\n",
       "    </tr>\n",
       "    <tr>\n",
       "      <th>34868</th>\n",
       "      <td>0.231884</td>\n",
       "      <td>0.370892</td>\n",
       "      <td>0.0</td>\n",
       "      <td>0.208450</td>\n",
       "      <td>0.520173</td>\n",
       "      <td>0.000001</td>\n",
       "      <td>0.269600</td>\n",
       "      <td>0.006667</td>\n",
       "      <td>0.152174</td>\n",
       "      <td>0.179775</td>\n",
       "      <td>0.009128</td>\n",
       "      <td>0.709244</td>\n",
       "    </tr>\n",
       "  </tbody>\n",
       "</table>\n",
       "<p>34869 rows × 12 columns</p>\n",
       "</div>"
      ],
      "text/plain": [
       "       Amount Requested  Interest Rate  Loan Length  Monthly PAYMENT  \\\n",
       "0              0.202899       0.434533          0.0         0.185930   \n",
       "1              0.130435       0.104851          0.0         0.108343   \n",
       "2              0.130435       0.138237          0.0         0.109475   \n",
       "3              0.231884       0.253521          0.0         0.201401   \n",
       "4              0.057971       0.138237          0.0         0.048662   \n",
       "...                 ...            ...          ...              ...   \n",
       "34864          0.130435       0.370892          0.0         0.117617   \n",
       "34865          0.275362       0.298383          0.0         0.242237   \n",
       "34866          0.275362       0.515910          0.0         0.257840   \n",
       "34867          0.014493       0.316119          0.0         0.013416   \n",
       "34868          0.231884       0.370892          0.0         0.208450   \n",
       "\n",
       "       Debt-To-Income Ratio  Remaining Principal    Payments To Date  \\\n",
       "0                  0.476492              0.000001           0.258127   \n",
       "1                  0.124041              0.000001           0.145252   \n",
       "2                  0.076692              0.000001           0.148001   \n",
       "3                  0.213404              0.000001           0.278269   \n",
       "4                  0.377793              0.000001           0.079241   \n",
       "...                     ...                   ...                ...   \n",
       "34864              0.283428              0.000001           0.154544   \n",
       "34865              0.350784              0.130692           0.193364   \n",
       "34866              0.649550              0.135080           0.205166   \n",
       "34867              0.683561              0.000001           0.032032   \n",
       "34868              0.520173              0.000001           0.269600   \n",
       "\n",
       "       Monthly Income  Open CREDIT Lines  Total CREDIT Lines  \\\n",
       "0            0.003667           0.130435            0.078652   \n",
       "1            0.033333           0.347826            0.280899   \n",
       "2            0.016667           0.217391            0.213483   \n",
       "3            0.003000           0.108696            0.089888   \n",
       "4            0.018333           0.260870            0.438202   \n",
       "...               ...                ...                 ...   \n",
       "34864        0.024000           0.065217            0.123596   \n",
       "34865        0.005000           0.217391            0.146067   \n",
       "34866        0.008667           0.152174            0.325843   \n",
       "34867        0.014983           0.478261            0.573034   \n",
       "34868        0.006667           0.152174            0.179775   \n",
       "\n",
       "       Revolving CREDIT Balance  Revolving Line Utilization  \n",
       "0                      0.004385                    0.432773  \n",
       "1                      0.089922                    0.005882  \n",
       "2                      0.010187                    0.163025  \n",
       "3                      0.009293                    0.226050  \n",
       "4                      0.007641                    0.110084  \n",
       "...                         ...                         ...  \n",
       "34864                  0.181554                    0.581008  \n",
       "34865                  0.007697                    0.182353  \n",
       "34866                  0.018597                    0.568067  \n",
       "34867                  0.125736                    0.160504  \n",
       "34868                  0.009128                    0.709244  \n",
       "\n",
       "[34869 rows x 12 columns]"
      ]
     },
     "execution_count": 49,
     "metadata": {},
     "output_type": "execute_result"
    }
   ],
   "source": [
    "#create the scaler\n",
    "scaler = MinMaxScaler()\n",
    "\n",
    "#fit and transform the dataset values\n",
    "trans_others = scaler.fit_transform(other_att)\n",
    "\n",
    "#create the dataset consisting of the predictor variables\n",
    "X = pd.DataFrame(data=trans_others, columns=other_att.columns.values)\n",
    "\n",
    "#display the values of the model input\n",
    "X"
   ]
  },
  {
   "cell_type": "markdown",
   "metadata": {},
   "source": [
    "# K Nearest Neighbour Models' performance "
   ]
  },
  {
   "cell_type": "markdown",
   "metadata": {},
   "source": [
    "## Using Macro Average"
   ]
  },
  {
   "cell_type": "code",
   "execution_count": 50,
   "metadata": {
    "scrolled": true
   },
   "outputs": [
    {
     "name": "stdout",
     "output_type": "stream",
     "text": [
      "Calculating f1 score on various parameters : \n",
      "\n",
      "f1 score of the KNN Model on train data at 0.5 :  0.25548748535033\n",
      "f1 score of the KNN Model on test data at 0.5 :  0.24912335985909045\n",
      "\n",
      "f1 score of the KNN Model on train data at 0.4 :  0.25868440630308065\n",
      "f1 score of the KNN Model on test data at 0.4 :  0.24952497278911773\n",
      "\n",
      "f1 score of the KNN Model on train data at 0.3 :  0.2589181118545753\n",
      "f1 score of the KNN Model on test data at 0.3 :  0.2514104980136881\n",
      "\n",
      "f1 score of the KNN Model on train data at 0.2 :  0.260543538024239\n",
      "f1 score of the KNN Model on test data at 0.2 :  0.25228156728824336\n",
      "\n",
      "f1 score of the KNN Model on train data at 0.1 :  0.2620986348231224\n",
      "f1 score of the KNN Model on test data at 0.1 :  0.25283604812698807\n",
      "\n"
     ]
    },
    {
     "data": {
      "image/png": "[encoded data removed]",
      "text/plain": [
       "<Figure size 432x288 with 1 Axes>"
      ]
     },
     "metadata": {
      "needs_background": "light"
     },
     "output_type": "display_data"
    }
   ],
   "source": [
    "test_list=[0.5, 0.4, 0.3, 0.2, 0.1]\n",
    "\n",
    "# k_list=[5, 6, 7, 8, 9, 10, 11, 12, 13, 14] #k=14, num=0.1 ,train accuracy = 0.829, test Accuracy=0.819, Unseen data accuracy=0.818\n",
    "# k_list=[15, 16, 17, 18, 19, 20, 21, 22, 23, 24]  #k=20, num=0.2 ,train accuracy= 0.825 , test Accuracy=0.82, Unseen data accuracy=0.815\n",
    "# # k_list=[25, 26, 27, 28, 29, 30, 31, 32, 33, 34] #k=26, num=0.2 ,train accuracy=821, test accuracy = 0.818 , Unseen data accuracy=0.809\n",
    "\n",
    "# # k_list=[35, 40, 45, 50, 55, 60, 65, 70, 75, 80]  #k=35, num=0.2 ,train accuracy=818, test accuracy = 0.814, Unseen data accuracy=0.806\n",
    "# # k_list=[81, 86, 91, 96, 101, 106, 111, 116, 121, 126]#k=91, num=0.1 train accuracy=809, test accuracy = 0.808, Unseen data accuracy=0.797 \n",
    "\n",
    "# # k_list=[127, 137, 147, 157, 167, 177, 187, 197, 207, 217] #k=137, num=0.1 ,train accuracy=804, test accuracy = 0.804, Unseen data accuracy=0.79\n",
    "# # k_list=[218, 228, 238, 248, 258, 268, 278, 288, 298, 308] #k=218, num=0.1 ,train accuracy=796, test accuracy =  0.796, Unseen data accuracy=0.782\n",
    "\n",
    "# # k_list=[309, 324, 339, 354, 369, 384, 399, 414, 429, 444] #k=324, num=0.1 ,train accuracy=787, test accuracy = 0.785, Unseen data accuracy=0.775\n",
    "# # k_list=[445, 460, 475, 490, 505, 520, 535, 550, 565, 580] #k=445, num=0.1 ,train accuracy=778, test accuracy =  0.775, Unseen data accuracy=0.769\n",
    "\n",
    "k_list=[14]\n",
    "f1_train_list=[]\n",
    "f1_test_list=[]\n",
    "print(\"Calculating f1 score on various parameters : \")\n",
    "for k in k_list :   \n",
    "    print(\"\")\n",
    "    for num in test_list:\n",
    "        #split the dataset into train-test\n",
    "        X_train, X_test, y_train, y_test = train_test_split(X, status, test_size=num, random_state=1)\n",
    "\n",
    "        #create a model object\n",
    "        KNN = KNeighborsClassifier(n_neighbors=k)\n",
    "\n",
    "        #train the model\n",
    "        KNN.fit(X_train,y_train)\n",
    "\n",
    "        #make predictions\n",
    "          \n",
    "        KNNPredict_train = KNN.predict(X_train)\n",
    "        KNNPredict_test = KNN.predict(X_test)\n",
    "        \n",
    "        #calculate the F1 score of the model\n",
    "\n",
    "        f1_train=f1_score(y_train,KNNPredict_train, average='macro')\n",
    "        f1_test=f1_score(y_test,KNNPredict_test, average='macro')\n",
    "    \n",
    "        f1_train_list.append(f1_train)\n",
    "        f1_test_list.append(f1_test)    \n",
    "    \n",
    "    \n",
    "        print(\"f1 score of the KNN Model on train data at\",num,\": \",f1_train)\n",
    "        print(\"f1 score of the KNN Model on test data at\",num,\": \",f1_test)\n",
    "        print(\"\")\n",
    "        \n",
    "        \n",
    "# plot the graph - f1 score against the test-data size\n",
    "plt.plot(test_list, f1_train_list,'r') \n",
    "plt.plot(test_list, f1_test_list,'b') \n",
    "plt.xlabel('Testing data size') \n",
    "plt.ylabel('f1 score') \n",
    "plt.title('KNN Model f1 score with variable testing data size') \n",
    "plt.legend({'test','train'})\n",
    "plt.show()"
   ]
  },
  {
   "cell_type": "code",
   "execution_count": 51,
   "metadata": {},
   "outputs": [
    {
     "name": "stdout",
     "output_type": "stream",
     "text": [
      "F1 score of the Logistic Regression Model on train data :  0.262\n",
      "F1 score of the Logistic Regression Model on test data :  0.253\n"
     ]
    }
   ],
   "source": [
    "#split the data in the hightest f1 score\n",
    "X_train, X_test, y_train, y_test = train_test_split(X, status, test_size=0.1, random_state=1) # 90% training and 10% test\n",
    "#train the model\n",
    "KNN_m =KNN = KNeighborsClassifier(n_neighbors=14)   #train the model\n",
    "\n",
    "#train the model on the train data\n",
    "KNN_m.fit(X_train,y_train)\n",
    "\n",
    "#make predictions\n",
    "KNNPredict_train_m = KNN.predict(X_train)\n",
    "KNNPredict_test_m = KNN.predict(X_test)\n",
    "\n",
    "#calculate the f1 score of the model\n",
    "f1_train=f1_score(y_train,KNNPredict_train_m, average='macro')\n",
    "f1_test=f1_score(y_test,KNNPredict_test_m, average='macro')\n",
    "   \n",
    "#display f1 score\n",
    "print(\"F1 score of the Logistic Regression Model on train data : \",round(f1_train,3))\n",
    "print(\"F1 score of the Logistic Regression Model on test data : \",round(f1_test,3))"
   ]
  },
  {
   "cell_type": "code",
   "execution_count": null,
   "metadata": {},
   "outputs": [],
   "source": [
    "# from sklearn.model_selection import train_test_split\n",
    "# from sklearn import metrics\n",
    "# from sklearn.neighbors import KNeighborsClassifier\n",
    "\n",
    "# X_train, X_test, y_train, y_test = train_test_split(X, status, test_size=0.1, random_state=1) \n",
    "# KNN = KNeighborsClassifier(n_neighbors= K)   \n",
    "# KNN.fit(X_train,y_train)\n",
    "# KNNPredict_train = KNN.predict(X_train)\n",
    "# KNNPredict_test = KNN.predict(X_test)\n",
    "\n",
    "# Train_Accuracy = metrics.accuracy_score(y_train,KNNPredict_train)\n",
    "# Test_Accuracy = metrics.accuracy_score(y_test,KNNPredict_test)\n",
    "\n",
    "# The follwing results were obtained for different values of K:\n",
    "# #k=5,Train_Accuracy = 0.728, Test_Accuracy=0.699\n",
    "# #K=11,Train_Accuracy = 0.801, Test_Accuracy=0.758\n",
    "# #K=17,Train_Accuracy = 0.825, Test_Accuracy=0.820\n",
    "# #K=23,Train_Accuracy = 0.821, Test_Accuracy=0.802\n",
    "\n",
    "# Which of the following statements is correct:\n",
    "# a. As the value of K increases, the prediction becomes more stable up to a certain point due to majority voting / averaging\n",
    "# b. In the case of a small number of neighbors, the noise will have a higher influence on the result.\n",
    "# c. Both a and b are correct\n",
    "# d. The above results are wrong "
   ]
  },
  {
   "cell_type": "code",
   "execution_count": 52,
   "metadata": {},
   "outputs": [
    {
     "name": "stdout",
     "output_type": "stream",
     "text": [
      "[[ 4336   626     0     0     0     1     0]\n",
      " [  607 21585     0     0     0     4    12]\n",
      " [   11   330     0     0     0     0     0]\n",
      " [   11   196     0     0     0     0     1]\n",
      " [    2    28     0     0     0     0     0]\n",
      " [   41  1291     0     0     0    10     0]\n",
      " [    0  2219     0     0     0     0    71]]\n"
     ]
    }
   ],
   "source": [
    "matrix = confusion_matrix(y_train,KNNPredict_train_m)\n",
    "print(matrix)"
   ]
  },
  {
   "cell_type": "code",
   "execution_count": 53,
   "metadata": {},
   "outputs": [
    {
     "name": "stdout",
     "output_type": "stream",
     "text": [
      "[[ 498   79    0    0    0    1    0]\n",
      " [  65 2356    0    0    0    0    3]\n",
      " [   0   39    0    0    0    0    0]\n",
      " [   1   18    0    0    0    0    0]\n",
      " [   0    2    0    0    0    0    0]\n",
      " [   1  180    0    0    0    0    0]\n",
      " [   0  242    0    0    0    0    2]]\n"
     ]
    }
   ],
   "source": [
    "matrix = confusion_matrix(y_test,KNNPredict_test_m)\n",
    "print(matrix)"
   ]
  },
  {
   "cell_type": "markdown",
   "metadata": {},
   "source": [
    "## Using weighted Average"
   ]
  },
  {
   "cell_type": "code",
   "execution_count": 54,
   "metadata": {},
   "outputs": [
    {
     "name": "stdout",
     "output_type": "stream",
     "text": [
      "Calculating f1 score on various parameters : \n",
      "f1 score of the KNN Model on train data at 0.1 :  0.7726571423148187\n",
      "f1 score of the KNN Model on test data at 0.1 :  0.7589658898159626\n",
      "\n",
      "f1 score of the KNN Model on train data at 0.2 :  0.771011893096649\n",
      "f1 score of the KNN Model on test data at 0.2 :  0.7604531426446802\n",
      "\n",
      "f1 score of the KNN Model on train data at 0.3 :  0.770609532205635\n",
      "f1 score of the KNN Model on test data at 0.3 :  0.7592917525148281\n",
      "\n",
      "f1 score of the KNN Model on train data at 0.4 :  0.7703270813860646\n",
      "f1 score of the KNN Model on test data at 0.4 :  0.7561594163076476\n",
      "\n",
      "f1 score of the KNN Model on train data at 0.5 :  0.7660909393338146\n",
      "f1 score of the KNN Model on test data at 0.5 :  0.7577461410711394\n",
      "\n"
     ]
    },
    {
     "data": {
      "image/png": "[encoded data removed]",
      "text/plain": [
       "<Figure size 432x288 with 1 Axes>"
      ]
     },
     "metadata": {
      "needs_background": "light"
     },
     "output_type": "display_data"
    }
   ],
   "source": [
    "#varible test-data sizes\n",
    "test_list=[0.1, 0.2, 0.3, 0.4, 0.5]\n",
    "f1_train_list=[]\n",
    "f1_test_list=[]\n",
    "print(\"Calculating f1 score on various parameters : \")\n",
    "for num in test_list:\n",
    "    #split the dataset into train-test\n",
    "    X_train, X_test, y_train, y_test = train_test_split(X, status, test_size=num, random_state=1)\n",
    "\n",
    "    #create a model object\n",
    "    KNN = KNN = KNeighborsClassifier(n_neighbors=14)\n",
    "    #train the model\n",
    "    KNN.fit(X_train,y_train)\n",
    "\n",
    "    #make predictions\n",
    "    KNNPredict_train = KNN.predict(X_train)\n",
    "    KNNPredict_test = KNN.predict(X_test)\n",
    " \n",
    "    #calculate the F1 score of the model\n",
    "    \n",
    "    f1_train=f1_score(y_train,KNNPredict_train, average='weighted')\n",
    "    f1_test=f1_score(y_test,KNNPredict_test, average='weighted')\n",
    "    \n",
    "    f1_train_list.append(f1_train)\n",
    "    f1_test_list.append(f1_test)    \n",
    "    \n",
    "    \n",
    "    print(\"f1 score of the KNN Model on train data at\",num,\": \",f1_train)\n",
    "    print(\"f1 score of the KNN Model on test data at\",num,\": \",f1_test)\n",
    "    print(\"\")\n",
    "\n",
    "# plot the graph - f1 score against the test-data size\n",
    "plt.plot(test_list, f1_train_list,'r') \n",
    "plt.plot(test_list, f1_test_list,'b') \n",
    "plt.xlabel('Testing data size') \n",
    "plt.ylabel('f1 score') \n",
    "plt.title('KNN Model f1 score with variable testing data size') \n",
    "plt.legend({'test','train'})\n",
    "plt.show()"
   ]
  },
  {
   "cell_type": "code",
   "execution_count": 55,
   "metadata": {},
   "outputs": [
    {
     "name": "stdout",
     "output_type": "stream",
     "text": [
      "F1 score of the KNN Model on train data :  0.771\n",
      "F1 score of the KNN Model on test data :  0.76\n"
     ]
    }
   ],
   "source": [
    "#split the data in the hightest f1 score\n",
    "X_train, X_test, y_train, y_test = train_test_split(X, status, test_size=0.2, random_state=1) # 80% training and 20% test\n",
    "#train the model\n",
    "KNN_w = KNN = KNeighborsClassifier(n_neighbors=14)\n",
    "\n",
    "#train the model on the train data\n",
    "KNN_w.fit(X_train,y_train)\n",
    "\n",
    "#make predictions\n",
    "KNNPredict_train_w = KNN_w.predict(X_train)\n",
    "KNNPredict_test_w = KNN_w.predict(X_test)\n",
    "\n",
    "#calculate the F1 score of the model\n",
    "f1_train=f1_score(y_train,KNNPredict_train_w, average='weighted')\n",
    "f1_test=f1_score(y_test,KNNPredict_test_w, average='weighted')\n",
    "   \n",
    "#display f1 score\n",
    "print(\"F1 score of the KNN Model on train data : \",round(f1_train,3))\n",
    "print(\"F1 score of the KNN Model on test data : \",round(f1_test,3))"
   ]
  },
  {
   "cell_type": "code",
   "execution_count": 56,
   "metadata": {},
   "outputs": [
    {
     "name": "stdout",
     "output_type": "stream",
     "text": [
      "[[ 3824   578     0     0     0     0     0]\n",
      " [  537 19195     0     0     0     4    10]\n",
      " [    7   288     0     0     0     0     0]\n",
      " [    9   170     0     0     0     0     1]\n",
      " [    2    21     0     0     0     0     0]\n",
      " [   32  1150     0     0     0    11     0]\n",
      " [    0  2005     0     0     0     0    51]]\n"
     ]
    }
   ],
   "source": [
    "matrix = confusion_matrix(y_train,KNNPredict_train_w)\n",
    "print(matrix)"
   ]
  },
  {
   "cell_type": "code",
   "execution_count": 57,
   "metadata": {},
   "outputs": [
    {
     "name": "stdout",
     "output_type": "stream",
     "text": [
      "[[ 962  175    0    0    0    2    0]\n",
      " [ 141 4742    0    0    0    1    2]\n",
      " [   3   82    0    0    0    0    0]\n",
      " [   1   46    0    0    0    0    0]\n",
      " [   0    9    0    0    0    0    0]\n",
      " [   8  322    0    0    0    0    0]\n",
      " [   0  471    0    0    0    0    7]]\n"
     ]
    }
   ],
   "source": [
    "matrix = confusion_matrix(y_test,KNNPredict_test_w)\n",
    "print(matrix)"
   ]
  },
  {
   "cell_type": "markdown",
   "metadata": {},
   "source": [
    "# Testing sample profiles on the trained models"
   ]
  },
  {
   "cell_type": "code",
   "execution_count": 58,
   "metadata": {
    "scrolled": false
   },
   "outputs": [
    {
     "data": {
      "text/html": [
       "<div>\n",
       "<style scoped>\n",
       "    .dataframe tbody tr th:only-of-type {\n",
       "        vertical-align: middle;\n",
       "    }\n",
       "\n",
       "    .dataframe tbody tr th {\n",
       "        vertical-align: top;\n",
       "    }\n",
       "\n",
       "    .dataframe thead th {\n",
       "        text-align: right;\n",
       "    }\n",
       "</style>\n",
       "<table border=\"1\" class=\"dataframe\">\n",
       "  <thead>\n",
       "    <tr style=\"text-align: right;\">\n",
       "      <th></th>\n",
       "      <th>Amount Requested</th>\n",
       "      <th>Interest Rate</th>\n",
       "      <th>Loan Length</th>\n",
       "      <th>Monthly PAYMENT</th>\n",
       "      <th>Status</th>\n",
       "      <th>Debt-To-Income Ratio</th>\n",
       "      <th>Remaining Principal</th>\n",
       "      <th>Payments To Date</th>\n",
       "      <th>Monthly Income</th>\n",
       "      <th>Open CREDIT Lines</th>\n",
       "      <th>Total CREDIT Lines</th>\n",
       "      <th>Revolving CREDIT Balance</th>\n",
       "      <th>Revolving Line Utilization</th>\n",
       "    </tr>\n",
       "  </thead>\n",
       "  <tbody>\n",
       "    <tr>\n",
       "      <th>35370</th>\n",
       "      <td>15000.0</td>\n",
       "      <td>14.61</td>\n",
       "      <td>36</td>\n",
       "      <td>517.13</td>\n",
       "      <td>0</td>\n",
       "      <td>18.20</td>\n",
       "      <td>-0.00</td>\n",
       "      <td>17721.02</td>\n",
       "      <td>6791.67</td>\n",
       "      <td>7.0</td>\n",
       "      <td>29.0</td>\n",
       "      <td>80237.0</td>\n",
       "      <td>93.2</td>\n",
       "    </tr>\n",
       "    <tr>\n",
       "      <th>35371</th>\n",
       "      <td>9800.0</td>\n",
       "      <td>13.22</td>\n",
       "      <td>36</td>\n",
       "      <td>331.25</td>\n",
       "      <td>5</td>\n",
       "      <td>13.06</td>\n",
       "      <td>7457.40</td>\n",
       "      <td>3306.60</td>\n",
       "      <td>2916.67</td>\n",
       "      <td>6.0</td>\n",
       "      <td>28.0</td>\n",
       "      <td>5088.0</td>\n",
       "      <td>45.4</td>\n",
       "    </tr>\n",
       "    <tr>\n",
       "      <th>35372</th>\n",
       "      <td>10000.0</td>\n",
       "      <td>16.00</td>\n",
       "      <td>36</td>\n",
       "      <td>351.58</td>\n",
       "      <td>5</td>\n",
       "      <td>16.99</td>\n",
       "      <td>8882.07</td>\n",
       "      <td>1753.55</td>\n",
       "      <td>6916.67</td>\n",
       "      <td>5.0</td>\n",
       "      <td>19.0</td>\n",
       "      <td>4723.0</td>\n",
       "      <td>94.5</td>\n",
       "    </tr>\n",
       "    <tr>\n",
       "      <th>35373</th>\n",
       "      <td>12000.0</td>\n",
       "      <td>13.92</td>\n",
       "      <td>36</td>\n",
       "      <td>409.65</td>\n",
       "      <td>1</td>\n",
       "      <td>23.26</td>\n",
       "      <td>5618.26</td>\n",
       "      <td>8591.52</td>\n",
       "      <td>12083.33</td>\n",
       "      <td>11.0</td>\n",
       "      <td>27.0</td>\n",
       "      <td>141967.0</td>\n",
       "      <td>95.5</td>\n",
       "    </tr>\n",
       "    <tr>\n",
       "      <th>35374</th>\n",
       "      <td>9500.0</td>\n",
       "      <td>15.65</td>\n",
       "      <td>36</td>\n",
       "      <td>332.37</td>\n",
       "      <td>1</td>\n",
       "      <td>18.72</td>\n",
       "      <td>4511.88</td>\n",
       "      <td>6965.28</td>\n",
       "      <td>3750.00</td>\n",
       "      <td>13.0</td>\n",
       "      <td>22.0</td>\n",
       "      <td>7888.0</td>\n",
       "      <td>59.8</td>\n",
       "    </tr>\n",
       "    <tr>\n",
       "      <th>...</th>\n",
       "      <td>...</td>\n",
       "      <td>...</td>\n",
       "      <td>...</td>\n",
       "      <td>...</td>\n",
       "      <td>...</td>\n",
       "      <td>...</td>\n",
       "      <td>...</td>\n",
       "      <td>...</td>\n",
       "      <td>...</td>\n",
       "      <td>...</td>\n",
       "      <td>...</td>\n",
       "      <td>...</td>\n",
       "      <td>...</td>\n",
       "    </tr>\n",
       "    <tr>\n",
       "      <th>36391</th>\n",
       "      <td>2500.0</td>\n",
       "      <td>14.83</td>\n",
       "      <td>60</td>\n",
       "      <td>59.26</td>\n",
       "      <td>1</td>\n",
       "      <td>18.49</td>\n",
       "      <td>2263.71</td>\n",
       "      <td>472.72</td>\n",
       "      <td>5560.00</td>\n",
       "      <td>8.0</td>\n",
       "      <td>32.0</td>\n",
       "      <td>597.0</td>\n",
       "      <td>6.9</td>\n",
       "    </tr>\n",
       "    <tr>\n",
       "      <th>36392</th>\n",
       "      <td>5000.0</td>\n",
       "      <td>15.20</td>\n",
       "      <td>36</td>\n",
       "      <td>173.82</td>\n",
       "      <td>1</td>\n",
       "      <td>15.71</td>\n",
       "      <td>4079.63</td>\n",
       "      <td>1384.96</td>\n",
       "      <td>3500.00</td>\n",
       "      <td>4.0</td>\n",
       "      <td>5.0</td>\n",
       "      <td>1191.0</td>\n",
       "      <td>85.1</td>\n",
       "    </tr>\n",
       "    <tr>\n",
       "      <th>36393</th>\n",
       "      <td>3500.0</td>\n",
       "      <td>15.57</td>\n",
       "      <td>60</td>\n",
       "      <td>84.32</td>\n",
       "      <td>1</td>\n",
       "      <td>11.62</td>\n",
       "      <td>3174.50</td>\n",
       "      <td>674.00</td>\n",
       "      <td>5541.67</td>\n",
       "      <td>10.0</td>\n",
       "      <td>28.0</td>\n",
       "      <td>30191.0</td>\n",
       "      <td>78.0</td>\n",
       "    </tr>\n",
       "    <tr>\n",
       "      <th>36394</th>\n",
       "      <td>20000.0</td>\n",
       "      <td>19.66</td>\n",
       "      <td>60</td>\n",
       "      <td>526.11</td>\n",
       "      <td>1</td>\n",
       "      <td>13.39</td>\n",
       "      <td>18094.26</td>\n",
       "      <td>4427.86</td>\n",
       "      <td>10583.33</td>\n",
       "      <td>6.0</td>\n",
       "      <td>39.0</td>\n",
       "      <td>16641.0</td>\n",
       "      <td>80.8</td>\n",
       "    </tr>\n",
       "    <tr>\n",
       "      <th>36395</th>\n",
       "      <td>2950.0</td>\n",
       "      <td>15.95</td>\n",
       "      <td>60</td>\n",
       "      <td>71.66</td>\n",
       "      <td>1</td>\n",
       "      <td>21.06</td>\n",
       "      <td>2679.37</td>\n",
       "      <td>570.40</td>\n",
       "      <td>7350.00</td>\n",
       "      <td>8.0</td>\n",
       "      <td>27.0</td>\n",
       "      <td>673.0</td>\n",
       "      <td>4.4</td>\n",
       "    </tr>\n",
       "  </tbody>\n",
       "</table>\n",
       "<p>1000 rows × 13 columns</p>\n",
       "</div>"
      ],
      "text/plain": [
       "       Amount Requested  Interest Rate  Loan Length  Monthly PAYMENT  Status  \\\n",
       "35370           15000.0          14.61           36           517.13       0   \n",
       "35371            9800.0          13.22           36           331.25       5   \n",
       "35372           10000.0          16.00           36           351.58       5   \n",
       "35373           12000.0          13.92           36           409.65       1   \n",
       "35374            9500.0          15.65           36           332.37       1   \n",
       "...                 ...            ...          ...              ...     ...   \n",
       "36391            2500.0          14.83           60            59.26       1   \n",
       "36392            5000.0          15.20           36           173.82       1   \n",
       "36393            3500.0          15.57           60            84.32       1   \n",
       "36394           20000.0          19.66           60           526.11       1   \n",
       "36395            2950.0          15.95           60            71.66       1   \n",
       "\n",
       "       Debt-To-Income Ratio  Remaining Principal    Payments To Date  \\\n",
       "35370                 18.20                 -0.00           17721.02   \n",
       "35371                 13.06               7457.40            3306.60   \n",
       "35372                 16.99               8882.07            1753.55   \n",
       "35373                 23.26               5618.26            8591.52   \n",
       "35374                 18.72               4511.88            6965.28   \n",
       "...                     ...                   ...                ...   \n",
       "36391                 18.49               2263.71             472.72   \n",
       "36392                 15.71               4079.63            1384.96   \n",
       "36393                 11.62               3174.50             674.00   \n",
       "36394                 13.39              18094.26            4427.86   \n",
       "36395                 21.06               2679.37             570.40   \n",
       "\n",
       "       Monthly Income  Open CREDIT Lines  Total CREDIT Lines  \\\n",
       "35370         6791.67                7.0                29.0   \n",
       "35371         2916.67                6.0                28.0   \n",
       "35372         6916.67                5.0                19.0   \n",
       "35373        12083.33               11.0                27.0   \n",
       "35374         3750.00               13.0                22.0   \n",
       "...               ...                ...                 ...   \n",
       "36391         5560.00                8.0                32.0   \n",
       "36392         3500.00                4.0                 5.0   \n",
       "36393         5541.67               10.0                28.0   \n",
       "36394        10583.33                6.0                39.0   \n",
       "36395         7350.00                8.0                27.0   \n",
       "\n",
       "       Revolving CREDIT Balance  Revolving Line Utilization  \n",
       "35370                   80237.0                        93.2  \n",
       "35371                    5088.0                        45.4  \n",
       "35372                    4723.0                        94.5  \n",
       "35373                  141967.0                        95.5  \n",
       "35374                    7888.0                        59.8  \n",
       "...                         ...                         ...  \n",
       "36391                     597.0                         6.9  \n",
       "36392                    1191.0                        85.1  \n",
       "36393                   30191.0                        78.0  \n",
       "36394                   16641.0                        80.8  \n",
       "36395                     673.0                         4.4  \n",
       "\n",
       "[1000 rows x 13 columns]"
      ]
     },
     "execution_count": 58,
     "metadata": {},
     "output_type": "execute_result"
    }
   ],
   "source": [
    "samples"
   ]
  },
  {
   "cell_type": "code",
   "execution_count": 59,
   "metadata": {},
   "outputs": [
    {
     "data": {
      "text/plain": [
       "35370    0\n",
       "35371    5\n",
       "35372    5\n",
       "35373    1\n",
       "35374    1\n",
       "Name: Status, dtype: int64"
      ]
     },
     "execution_count": 59,
     "metadata": {},
     "output_type": "execute_result"
    }
   ],
   "source": [
    "#get the sample output separated\n",
    "sample_y=samples['Status']\n",
    "sample_y.head(5)"
   ]
  },
  {
   "cell_type": "code",
   "execution_count": 60,
   "metadata": {},
   "outputs": [],
   "source": [
    "#remove the status attribute from the sample profiles\n",
    "samples = samples.drop('Status', axis=1)"
   ]
  },
  {
   "cell_type": "code",
   "execution_count": 61,
   "metadata": {},
   "outputs": [],
   "source": [
    "trans_others = scaler.transform(samples)\n",
    "#create the dataset consisting of the predictor variables\n",
    "samples = pd.DataFrame(data=trans_others, columns=samples.columns.values)"
   ]
  },
  {
   "cell_type": "code",
   "execution_count": 62,
   "metadata": {},
   "outputs": [],
   "source": [
    "#make predictions on unseen data\n",
    "prediction = KNN_m.predict(samples)"
   ]
  },
  {
   "cell_type": "code",
   "execution_count": 63,
   "metadata": {},
   "outputs": [
    {
     "data": {
      "text/plain": [
       "0.818"
      ]
     },
     "execution_count": 63,
     "metadata": {},
     "output_type": "execute_result"
    }
   ],
   "source": [
    "#Accuracy of the model on unseen data\n",
    "Accuracy = metrics.accuracy_score(sample_y,prediction)\n",
    "Accuracy "
   ]
  },
  {
   "cell_type": "code",
   "execution_count": 64,
   "metadata": {},
   "outputs": [],
   "source": [
    "#make predictions on unseen data\n",
    "prediction = KNN_m.predict(samples)"
   ]
  },
  {
   "cell_type": "code",
   "execution_count": 65,
   "metadata": {},
   "outputs": [
    {
     "data": {
      "text/plain": [
       "0.29189451770219604"
      ]
     },
     "execution_count": 65,
     "metadata": {},
     "output_type": "execute_result"
    }
   ],
   "source": [
    "#F1 score of the model on unseen data using macro average\n",
    "f1_sample=f1_score(sample_y,prediction, average='macro')\n",
    "f1_sample"
   ]
  },
  {
   "cell_type": "code",
   "execution_count": 66,
   "metadata": {},
   "outputs": [],
   "source": [
    "prediction = KNN_w.predict(samples)"
   ]
  },
  {
   "cell_type": "code",
   "execution_count": 67,
   "metadata": {},
   "outputs": [
    {
     "data": {
      "text/plain": [
       "0.7561875315718444"
      ]
     },
     "execution_count": 67,
     "metadata": {},
     "output_type": "execute_result"
    }
   ],
   "source": [
    "#F1 score of the model on unseen data using weighted average\n",
    "f1_sample=f1_score(sample_y,prediction, average='weighted')\n",
    "f1_sample"
   ]
  },
  {
   "cell_type": "code",
   "execution_count": 68,
   "metadata": {},
   "outputs": [
    {
     "name": "stdout",
     "output_type": "stream",
     "text": [
      "[[108  35   0   0   0   0]\n",
      " [  2 710   0   0   0   1]\n",
      " [  1  40   0   0   0   0]\n",
      " [  1  14   0   0   0   0]\n",
      " [  0   7   0   0   0   0]\n",
      " [  1  79   0   0   0   1]]\n"
     ]
    }
   ],
   "source": [
    "matrix = confusion_matrix(sample_y,prediction)\n",
    "print(matrix)"
   ]
  },
  {
   "cell_type": "code",
   "execution_count": null,
   "metadata": {},
   "outputs": [],
   "source": []
  }
 ],
 "metadata": {
  "kernelspec": {
   "display_name": "Python 3",
   "language": "python",
   "name": "python3"
  },
  "language_info": {
   "codemirror_mode": {
    "name": "ipython",
    "version": 3
   },
   "file_extension": ".py",
   "mimetype": "text/x-python",
   "name": "python",
   "nbconvert_exporter": "python",
   "pygments_lexer": "ipython3",
   "version": "3.8.3"
  }
 },
 "nbformat": 4,
 "nbformat_minor": 4
}
